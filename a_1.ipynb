{
  "nbformat": 4,
  "nbformat_minor": 0,
  "metadata": {
    "colab": {
      "provenance": []
    },
    "kernelspec": {
      "name": "python3",
      "display_name": "Python 3"
    },
    "language_info": {
      "name": "python"
    }
  },
  "cells": [
    {
      "cell_type": "code",
      "source": [
        "from google.colab import drive\n",
        "drive.mount('/content/drive')"
      ],
      "metadata": {
        "colab": {
          "base_uri": "https://localhost:8080/"
        },
        "id": "vIDWHcaBI1zx",
        "outputId": "6fa82f0e-4040-4adf-8c51-a7e01538bd1a"
      },
      "execution_count": null,
      "outputs": [
        {
          "output_type": "stream",
          "name": "stdout",
          "text": [
            "Mounted at /content/drive\n"
          ]
        }
      ]
    },
    {
      "cell_type": "code",
      "source": [
        "import os\n",
        "from skimage.io import imread\n",
        "import matplotlib.pyplot as plt\n",
        "import re\n",
        "arr=[]\n",
        "labels = []\n",
        "i=0\n",
        "j=0\n",
        "\n",
        "for root,di,files in os.walk(\"/content/drive/MyDrive/Colab Notebooks/dataset\"): \n",
        "       for name in files:\n",
        "             if name.endswith(\"pgm\"):\n",
        "                root_folder = os.path.split(root)\n",
        "                res=re.findall('(\\d+)',root_folder[1])\n",
        "                image = imread(os.path.join(root,name))\n",
        "                image=image.flatten(order='C')\n",
        "                arr.append(image)\n",
        "                labels.append(res)\n",
        "                i=i+1\n",
        "arr=np.array(arr)   \n",
        "labels=np.array(labels)    \n",
        "#print(labels.shape)       \n",
        "#print(arr)\n",
        "#print(labels)"
      ],
      "metadata": {
        "id": "_5rD2G3HoQUx"
      },
      "execution_count": 146,
      "outputs": []
    },
    {
      "cell_type": "code",
      "source": [
        "X_train= []\n",
        "X_test=  []  \n",
        "labels_train= []\n",
        "labels_test=  []  \n",
        "\n",
        "for i in range(0,400):\n",
        "    if((i%2==0)):\n",
        "       X_test.append(arr[i,:])\n",
        "       labels_test.append(labels[i])\n",
        "    else:\n",
        "       X_train.append(arr[i,:])\n",
        "       labels_train.append(labels[i])\n",
        " \n",
        "print(X_test[0])\n",
        "print(labels_test[0])"
      ],
      "metadata": {
        "colab": {
          "base_uri": "https://localhost:8080/"
        },
        "id": "xiYnY_7KsuwI",
        "outputId": "e18e3db4-415a-4c8d-a04d-a8fe0e6cf3ef"
      },
      "execution_count": 143,
      "outputs": [
        {
          "output_type": "stream",
          "name": "stdout",
          "text": [
            "[156 158 155 ... 113 110 108]\n",
            "['6']\n"
          ]
        }
      ]
    },
    {
      "cell_type": "code",
      "source": [],
      "metadata": {
        "id": "15nml8bisvB1"
      },
      "execution_count": null,
      "outputs": []
    },
    {
      "cell_type": "code",
      "source": [],
      "metadata": {
        "id": "TMmFh0r5svGf"
      },
      "execution_count": null,
      "outputs": []
    },
    {
      "cell_type": "code",
      "source": [],
      "metadata": {
        "id": "7KvpulgKsvJ8"
      },
      "execution_count": null,
      "outputs": []
    },
    {
      "cell_type": "code",
      "source": [
        "#import numpy as np\n",
        "#The output of skimage.io.imread is a Numpy array.\n",
        "#from skimage.io import imread\n",
        "#import matplotlib.pyplot as plt\n",
        "#image = imread(\"/content/drive/MyDrive/Colab Notebooks/dataset/s1/1.pgm\")\n",
        "#image=image.flatten(order='C') \n",
        "#print(image)\n",
        "#print(image.shape)\n",
        "#print(image.size)\n",
        "\n",
        "\n",
        "#import matplotlib.image as mpimg\n",
        "#import matplotlib.pyplot as plt\n",
        " \n",
        "# Read Images\n",
        "#img = mpimg.imread('/content/drive/MyDrive/Colab Notebooks/dataset/s1/1.pgm')\n",
        " \n",
        "# Output Images\n",
        "#plt.imshow(img)"
      ],
      "metadata": {
        "id": "UNblLJ1rJM7o"
      },
      "execution_count": 150,
      "outputs": []
    },
    {
      "cell_type": "code",
      "source": [],
      "metadata": {
        "id": "JN3Jyu_HJM_7"
      },
      "execution_count": null,
      "outputs": []
    },
    {
      "cell_type": "code",
      "source": [],
      "metadata": {
        "id": "qE1Yub28JNCx"
      },
      "execution_count": null,
      "outputs": []
    },
    {
      "cell_type": "code",
      "source": [],
      "metadata": {
        "id": "xEIceubVJNFO"
      },
      "execution_count": null,
      "outputs": []
    },
    {
      "cell_type": "code",
      "source": [],
      "metadata": {
        "id": "crC2vUTZJNIF"
      },
      "execution_count": null,
      "outputs": []
    },
    {
      "cell_type": "code",
      "source": [],
      "metadata": {
        "id": "2KNb6SeTJNLo"
      },
      "execution_count": null,
      "outputs": []
    }
  ]
}
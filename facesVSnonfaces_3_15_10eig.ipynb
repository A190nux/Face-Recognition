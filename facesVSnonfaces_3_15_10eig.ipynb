{
  "nbformat": 4,
  "nbformat_minor": 0,
  "metadata": {
    "colab": {
      "provenance": []
    },
    "kernelspec": {
      "name": "python3",
      "display_name": "Python 3"
    },
    "language_info": {
      "name": "python"
    }
  },
  "cells": [
    {
      "cell_type": "code",
      "execution_count": 1,
      "metadata": {
        "id": "MT3flBJqJPZ9"
      },
      "outputs": [],
      "source": [
        "import re\n",
        "import os\n",
        "import copy\n",
        "import pickle\n",
        "import numpy as np\n",
        "import pandas as pd\n",
        "import matplotlib.pyplot as plt\n",
        "from PIL import Image\n",
        "from collections import Counter\n",
        "from google.colab import drive\n",
        "from skimage.io import imread\n",
        "from sklearn.metrics import accuracy_score\n",
        "from sklearn.metrics.pairwise import rbf_kernel\n",
        "from sklearn.model_selection import train_test_split\n",
        "from sklearn.neighbors import KNeighborsClassifier as ks "
      ]
    },
    {
      "cell_type": "code",
      "source": [
        "from google.colab import drive\n",
        "drive.mount('/content/drive')"
      ],
      "metadata": {
        "colab": {
          "base_uri": "https://localhost:8080/"
        },
        "id": "WcBjWgCsB6i9",
        "outputId": "a58f4005-1f59-4f19-d1da-764ba9aea231"
      },
      "execution_count": 2,
      "outputs": [
        {
          "output_type": "stream",
          "name": "stdout",
          "text": [
            "Mounted at /content/drive\n"
          ]
        }
      ]
    },
    {
      "cell_type": "code",
      "source": [
        "import cv2\n",
        "arr=[]\n",
        "labels = []\n",
        "num_nonfaces =[]\n",
        "image1 =[]\n",
        "accff=[]\n",
        "i=0\n",
        "nonfaces=0\n",
        "for root,di,files in os.walk(\"/content/drive/MyDrive/Colab Notebooks/dataset\"): \n",
        "  for name in files:\n",
        "    if name.endswith(\"pgm\") :\n",
        "      root_folder = os.path.split(root)    \n",
        "      image1 = imread(os.path.join(root,name))  \n",
        "      image1.resize((92, 112))\n",
        "      image1=image1.flatten(order='C')\n",
        "      arr.append(image1)\n",
        "      labels.append('0')\n",
        "      i=i+1\n",
        "     \n"
      ],
      "metadata": {
        "id": "zhNSeazl8DC_"
      },
      "execution_count": 3,
      "outputs": []
    },
    {
      "cell_type": "code",
      "source": [
        "image2 =[]\n",
        "for root,di,files in os.walk(\"/content/drive/MyDrive/Colab Notebooks/dataset3/11\"): \n",
        "  for name in files:\n",
        "      root_folder = os.path.split(root) ##   \n",
        "      image2 = cv2.imread(os.path.join(root,name), 0)\n",
        "      image2.resize((92, 112))\n",
        "      image2=image2.flatten(order='C')\n",
        "      nonfaces = nonfaces + 1\n",
        "      arr.append(image2)\n",
        "      labels.append('1')\n",
        "      i=i+1\n",
        "num_nonfaces.append(nonfaces)\n",
        "arr=np.array(arr)   \n",
        "labels=np.array(labels)    \n",
        "print(labels.shape)       \n",
        "print(arr.shape)\n",
        "print(labels)            \n",
        "print(nonfaces)"
      ],
      "metadata": {
        "id": "f-zsKkztffoO",
        "colab": {
          "base_uri": "https://localhost:8080/"
        },
        "outputId": "33c72e0c-e68d-414e-fb7f-615c151cfae0"
      },
      "execution_count": 4,
      "outputs": [
        {
          "output_type": "stream",
          "name": "stdout",
          "text": [
            "(550,)\n",
            "(550, 10304)\n",
            "['0' '0' '0' '0' '0' '0' '0' '0' '0' '0' '0' '0' '0' '0' '0' '0' '0' '0'\n",
            " '0' '0' '0' '0' '0' '0' '0' '0' '0' '0' '0' '0' '0' '0' '0' '0' '0' '0'\n",
            " '0' '0' '0' '0' '0' '0' '0' '0' '0' '0' '0' '0' '0' '0' '0' '0' '0' '0'\n",
            " '0' '0' '0' '0' '0' '0' '0' '0' '0' '0' '0' '0' '0' '0' '0' '0' '0' '0'\n",
            " '0' '0' '0' '0' '0' '0' '0' '0' '0' '0' '0' '0' '0' '0' '0' '0' '0' '0'\n",
            " '0' '0' '0' '0' '0' '0' '0' '0' '0' '0' '0' '0' '0' '0' '0' '0' '0' '0'\n",
            " '0' '0' '0' '0' '0' '0' '0' '0' '0' '0' '0' '0' '0' '0' '0' '0' '0' '0'\n",
            " '0' '0' '0' '0' '0' '0' '0' '0' '0' '0' '0' '0' '0' '0' '0' '0' '0' '0'\n",
            " '0' '0' '0' '0' '0' '0' '0' '0' '0' '0' '0' '0' '0' '0' '0' '0' '0' '0'\n",
            " '0' '0' '0' '0' '0' '0' '0' '0' '0' '0' '0' '0' '0' '0' '0' '0' '0' '0'\n",
            " '0' '0' '0' '0' '0' '0' '0' '0' '0' '0' '0' '0' '0' '0' '0' '0' '0' '0'\n",
            " '0' '0' '0' '0' '0' '0' '0' '0' '0' '0' '0' '0' '0' '0' '0' '0' '0' '0'\n",
            " '0' '0' '0' '0' '0' '0' '0' '0' '0' '0' '0' '0' '0' '0' '0' '0' '0' '0'\n",
            " '0' '0' '0' '0' '0' '0' '0' '0' '0' '0' '0' '0' '0' '0' '0' '0' '0' '0'\n",
            " '0' '0' '0' '0' '0' '0' '0' '0' '0' '0' '0' '0' '0' '0' '0' '0' '0' '0'\n",
            " '0' '0' '0' '0' '0' '0' '0' '0' '0' '0' '0' '0' '0' '0' '0' '0' '0' '0'\n",
            " '0' '0' '0' '0' '0' '0' '0' '0' '0' '0' '0' '0' '0' '0' '0' '0' '0' '0'\n",
            " '0' '0' '0' '0' '0' '0' '0' '0' '0' '0' '0' '0' '0' '0' '0' '0' '0' '0'\n",
            " '0' '0' '0' '0' '0' '0' '0' '0' '0' '0' '0' '0' '0' '0' '0' '0' '0' '0'\n",
            " '0' '0' '0' '0' '0' '0' '0' '0' '0' '0' '0' '0' '0' '0' '0' '0' '0' '0'\n",
            " '0' '0' '0' '0' '0' '0' '0' '0' '0' '0' '0' '0' '0' '0' '0' '0' '0' '0'\n",
            " '0' '0' '0' '0' '0' '0' '0' '0' '0' '0' '0' '0' '0' '0' '0' '0' '0' '0'\n",
            " '0' '0' '0' '0' '1' '1' '1' '1' '1' '1' '1' '1' '1' '1' '1' '1' '1' '1'\n",
            " '1' '1' '1' '1' '1' '1' '1' '1' '1' '1' '1' '1' '1' '1' '1' '1' '1' '1'\n",
            " '1' '1' '1' '1' '1' '1' '1' '1' '1' '1' '1' '1' '1' '1' '1' '1' '1' '1'\n",
            " '1' '1' '1' '1' '1' '1' '1' '1' '1' '1' '1' '1' '1' '1' '1' '1' '1' '1'\n",
            " '1' '1' '1' '1' '1' '1' '1' '1' '1' '1' '1' '1' '1' '1' '1' '1' '1' '1'\n",
            " '1' '1' '1' '1' '1' '1' '1' '1' '1' '1' '1' '1' '1' '1' '1' '1' '1' '1'\n",
            " '1' '1' '1' '1' '1' '1' '1' '1' '1' '1' '1' '1' '1' '1' '1' '1' '1' '1'\n",
            " '1' '1' '1' '1' '1' '1' '1' '1' '1' '1' '1' '1' '1' '1' '1' '1' '1' '1'\n",
            " '1' '1' '1' '1' '1' '1' '1' '1' '1' '1']\n",
            "150\n"
          ]
        }
      ]
    },
    {
      "cell_type": "code",
      "source": [
        "print(labels.shape)       \n",
        "print(arr.shape)\n",
        "print(labels)"
      ],
      "metadata": {
        "colab": {
          "base_uri": "https://localhost:8080/"
        },
        "id": "bx05rnRZ7Q04",
        "outputId": "f8996893-9025-403a-befd-b429617c2f9e"
      },
      "execution_count": 5,
      "outputs": [
        {
          "output_type": "stream",
          "name": "stdout",
          "text": [
            "(550,)\n",
            "(550, 10304)\n",
            "['0' '0' '0' '0' '0' '0' '0' '0' '0' '0' '0' '0' '0' '0' '0' '0' '0' '0'\n",
            " '0' '0' '0' '0' '0' '0' '0' '0' '0' '0' '0' '0' '0' '0' '0' '0' '0' '0'\n",
            " '0' '0' '0' '0' '0' '0' '0' '0' '0' '0' '0' '0' '0' '0' '0' '0' '0' '0'\n",
            " '0' '0' '0' '0' '0' '0' '0' '0' '0' '0' '0' '0' '0' '0' '0' '0' '0' '0'\n",
            " '0' '0' '0' '0' '0' '0' '0' '0' '0' '0' '0' '0' '0' '0' '0' '0' '0' '0'\n",
            " '0' '0' '0' '0' '0' '0' '0' '0' '0' '0' '0' '0' '0' '0' '0' '0' '0' '0'\n",
            " '0' '0' '0' '0' '0' '0' '0' '0' '0' '0' '0' '0' '0' '0' '0' '0' '0' '0'\n",
            " '0' '0' '0' '0' '0' '0' '0' '0' '0' '0' '0' '0' '0' '0' '0' '0' '0' '0'\n",
            " '0' '0' '0' '0' '0' '0' '0' '0' '0' '0' '0' '0' '0' '0' '0' '0' '0' '0'\n",
            " '0' '0' '0' '0' '0' '0' '0' '0' '0' '0' '0' '0' '0' '0' '0' '0' '0' '0'\n",
            " '0' '0' '0' '0' '0' '0' '0' '0' '0' '0' '0' '0' '0' '0' '0' '0' '0' '0'\n",
            " '0' '0' '0' '0' '0' '0' '0' '0' '0' '0' '0' '0' '0' '0' '0' '0' '0' '0'\n",
            " '0' '0' '0' '0' '0' '0' '0' '0' '0' '0' '0' '0' '0' '0' '0' '0' '0' '0'\n",
            " '0' '0' '0' '0' '0' '0' '0' '0' '0' '0' '0' '0' '0' '0' '0' '0' '0' '0'\n",
            " '0' '0' '0' '0' '0' '0' '0' '0' '0' '0' '0' '0' '0' '0' '0' '0' '0' '0'\n",
            " '0' '0' '0' '0' '0' '0' '0' '0' '0' '0' '0' '0' '0' '0' '0' '0' '0' '0'\n",
            " '0' '0' '0' '0' '0' '0' '0' '0' '0' '0' '0' '0' '0' '0' '0' '0' '0' '0'\n",
            " '0' '0' '0' '0' '0' '0' '0' '0' '0' '0' '0' '0' '0' '0' '0' '0' '0' '0'\n",
            " '0' '0' '0' '0' '0' '0' '0' '0' '0' '0' '0' '0' '0' '0' '0' '0' '0' '0'\n",
            " '0' '0' '0' '0' '0' '0' '0' '0' '0' '0' '0' '0' '0' '0' '0' '0' '0' '0'\n",
            " '0' '0' '0' '0' '0' '0' '0' '0' '0' '0' '0' '0' '0' '0' '0' '0' '0' '0'\n",
            " '0' '0' '0' '0' '0' '0' '0' '0' '0' '0' '0' '0' '0' '0' '0' '0' '0' '0'\n",
            " '0' '0' '0' '0' '1' '1' '1' '1' '1' '1' '1' '1' '1' '1' '1' '1' '1' '1'\n",
            " '1' '1' '1' '1' '1' '1' '1' '1' '1' '1' '1' '1' '1' '1' '1' '1' '1' '1'\n",
            " '1' '1' '1' '1' '1' '1' '1' '1' '1' '1' '1' '1' '1' '1' '1' '1' '1' '1'\n",
            " '1' '1' '1' '1' '1' '1' '1' '1' '1' '1' '1' '1' '1' '1' '1' '1' '1' '1'\n",
            " '1' '1' '1' '1' '1' '1' '1' '1' '1' '1' '1' '1' '1' '1' '1' '1' '1' '1'\n",
            " '1' '1' '1' '1' '1' '1' '1' '1' '1' '1' '1' '1' '1' '1' '1' '1' '1' '1'\n",
            " '1' '1' '1' '1' '1' '1' '1' '1' '1' '1' '1' '1' '1' '1' '1' '1' '1' '1'\n",
            " '1' '1' '1' '1' '1' '1' '1' '1' '1' '1' '1' '1' '1' '1' '1' '1' '1' '1'\n",
            " '1' '1' '1' '1' '1' '1' '1' '1' '1' '1']\n"
          ]
        }
      ]
    },
    {
      "cell_type": "code",
      "source": [
        "# adding the data to a dataframe\n",
        "df = pd.DataFrame(arr) \n",
        "df['label'] = pd.DataFrame(labels)\n",
        "# sorting the data according to labels\n",
        "df.sort_values(\"label\", inplace=True)\n",
        "df.tail(5)"
      ],
      "metadata": {
        "id": "cVugZrV8_OSp",
        "colab": {
          "base_uri": "https://localhost:8080/",
          "height": 235
        },
        "outputId": "49132942-e28c-4ad0-d877-84694b6a0ddd"
      },
      "execution_count": 6,
      "outputs": [
        {
          "output_type": "execute_result",
          "data": {
            "text/plain": [
              "       0    1    2    3    4    5    6    7    8    9  ...  10295  10296  \\\n",
              "450   97   92   89   94  101   99   88   76  117  118  ...     70     73   \n",
              "451   52   50   49   50   51   52   51   49   51   51  ...    130    109   \n",
              "452  253  253  253  253  253  253  253  253  253  253  ...    121    115   \n",
              "454   71   84   90   83   75   73   67   59   60   74  ...    112    111   \n",
              "549  107  104  102  102  104  106  105  104  111  111  ...    104     73   \n",
              "\n",
              "     10297  10298  10299  10300  10301  10302  10303  label  \n",
              "450     72     88     95     96     86     74     67      1  \n",
              "451    127    125    121    128    112     91     96      1  \n",
              "452    133    140    130    126    132    129    118      1  \n",
              "454    110    111    114    117    119    117    116      1  \n",
              "549    149    167    141    162    189    165    128      1  \n",
              "\n",
              "[5 rows x 10305 columns]"
            ],
            "text/html": [
              "\n",
              "  <div id=\"df-23043853-9d5d-42ce-9bd4-6a1570060084\">\n",
              "    <div class=\"colab-df-container\">\n",
              "      <div>\n",
              "<style scoped>\n",
              "    .dataframe tbody tr th:only-of-type {\n",
              "        vertical-align: middle;\n",
              "    }\n",
              "\n",
              "    .dataframe tbody tr th {\n",
              "        vertical-align: top;\n",
              "    }\n",
              "\n",
              "    .dataframe thead th {\n",
              "        text-align: right;\n",
              "    }\n",
              "</style>\n",
              "<table border=\"1\" class=\"dataframe\">\n",
              "  <thead>\n",
              "    <tr style=\"text-align: right;\">\n",
              "      <th></th>\n",
              "      <th>0</th>\n",
              "      <th>1</th>\n",
              "      <th>2</th>\n",
              "      <th>3</th>\n",
              "      <th>4</th>\n",
              "      <th>5</th>\n",
              "      <th>6</th>\n",
              "      <th>7</th>\n",
              "      <th>8</th>\n",
              "      <th>9</th>\n",
              "      <th>...</th>\n",
              "      <th>10295</th>\n",
              "      <th>10296</th>\n",
              "      <th>10297</th>\n",
              "      <th>10298</th>\n",
              "      <th>10299</th>\n",
              "      <th>10300</th>\n",
              "      <th>10301</th>\n",
              "      <th>10302</th>\n",
              "      <th>10303</th>\n",
              "      <th>label</th>\n",
              "    </tr>\n",
              "  </thead>\n",
              "  <tbody>\n",
              "    <tr>\n",
              "      <th>450</th>\n",
              "      <td>97</td>\n",
              "      <td>92</td>\n",
              "      <td>89</td>\n",
              "      <td>94</td>\n",
              "      <td>101</td>\n",
              "      <td>99</td>\n",
              "      <td>88</td>\n",
              "      <td>76</td>\n",
              "      <td>117</td>\n",
              "      <td>118</td>\n",
              "      <td>...</td>\n",
              "      <td>70</td>\n",
              "      <td>73</td>\n",
              "      <td>72</td>\n",
              "      <td>88</td>\n",
              "      <td>95</td>\n",
              "      <td>96</td>\n",
              "      <td>86</td>\n",
              "      <td>74</td>\n",
              "      <td>67</td>\n",
              "      <td>1</td>\n",
              "    </tr>\n",
              "    <tr>\n",
              "      <th>451</th>\n",
              "      <td>52</td>\n",
              "      <td>50</td>\n",
              "      <td>49</td>\n",
              "      <td>50</td>\n",
              "      <td>51</td>\n",
              "      <td>52</td>\n",
              "      <td>51</td>\n",
              "      <td>49</td>\n",
              "      <td>51</td>\n",
              "      <td>51</td>\n",
              "      <td>...</td>\n",
              "      <td>130</td>\n",
              "      <td>109</td>\n",
              "      <td>127</td>\n",
              "      <td>125</td>\n",
              "      <td>121</td>\n",
              "      <td>128</td>\n",
              "      <td>112</td>\n",
              "      <td>91</td>\n",
              "      <td>96</td>\n",
              "      <td>1</td>\n",
              "    </tr>\n",
              "    <tr>\n",
              "      <th>452</th>\n",
              "      <td>253</td>\n",
              "      <td>253</td>\n",
              "      <td>253</td>\n",
              "      <td>253</td>\n",
              "      <td>253</td>\n",
              "      <td>253</td>\n",
              "      <td>253</td>\n",
              "      <td>253</td>\n",
              "      <td>253</td>\n",
              "      <td>253</td>\n",
              "      <td>...</td>\n",
              "      <td>121</td>\n",
              "      <td>115</td>\n",
              "      <td>133</td>\n",
              "      <td>140</td>\n",
              "      <td>130</td>\n",
              "      <td>126</td>\n",
              "      <td>132</td>\n",
              "      <td>129</td>\n",
              "      <td>118</td>\n",
              "      <td>1</td>\n",
              "    </tr>\n",
              "    <tr>\n",
              "      <th>454</th>\n",
              "      <td>71</td>\n",
              "      <td>84</td>\n",
              "      <td>90</td>\n",
              "      <td>83</td>\n",
              "      <td>75</td>\n",
              "      <td>73</td>\n",
              "      <td>67</td>\n",
              "      <td>59</td>\n",
              "      <td>60</td>\n",
              "      <td>74</td>\n",
              "      <td>...</td>\n",
              "      <td>112</td>\n",
              "      <td>111</td>\n",
              "      <td>110</td>\n",
              "      <td>111</td>\n",
              "      <td>114</td>\n",
              "      <td>117</td>\n",
              "      <td>119</td>\n",
              "      <td>117</td>\n",
              "      <td>116</td>\n",
              "      <td>1</td>\n",
              "    </tr>\n",
              "    <tr>\n",
              "      <th>549</th>\n",
              "      <td>107</td>\n",
              "      <td>104</td>\n",
              "      <td>102</td>\n",
              "      <td>102</td>\n",
              "      <td>104</td>\n",
              "      <td>106</td>\n",
              "      <td>105</td>\n",
              "      <td>104</td>\n",
              "      <td>111</td>\n",
              "      <td>111</td>\n",
              "      <td>...</td>\n",
              "      <td>104</td>\n",
              "      <td>73</td>\n",
              "      <td>149</td>\n",
              "      <td>167</td>\n",
              "      <td>141</td>\n",
              "      <td>162</td>\n",
              "      <td>189</td>\n",
              "      <td>165</td>\n",
              "      <td>128</td>\n",
              "      <td>1</td>\n",
              "    </tr>\n",
              "  </tbody>\n",
              "</table>\n",
              "<p>5 rows × 10305 columns</p>\n",
              "</div>\n",
              "      <button class=\"colab-df-convert\" onclick=\"convertToInteractive('df-23043853-9d5d-42ce-9bd4-6a1570060084')\"\n",
              "              title=\"Convert this dataframe to an interactive table.\"\n",
              "              style=\"display:none;\">\n",
              "        \n",
              "  <svg xmlns=\"http://www.w3.org/2000/svg\" height=\"24px\"viewBox=\"0 0 24 24\"\n",
              "       width=\"24px\">\n",
              "    <path d=\"M0 0h24v24H0V0z\" fill=\"none\"/>\n",
              "    <path d=\"M18.56 5.44l.94 2.06.94-2.06 2.06-.94-2.06-.94-.94-2.06-.94 2.06-2.06.94zm-11 1L8.5 8.5l.94-2.06 2.06-.94-2.06-.94L8.5 2.5l-.94 2.06-2.06.94zm10 10l.94 2.06.94-2.06 2.06-.94-2.06-.94-.94-2.06-.94 2.06-2.06.94z\"/><path d=\"M17.41 7.96l-1.37-1.37c-.4-.4-.92-.59-1.43-.59-.52 0-1.04.2-1.43.59L10.3 9.45l-7.72 7.72c-.78.78-.78 2.05 0 2.83L4 21.41c.39.39.9.59 1.41.59.51 0 1.02-.2 1.41-.59l7.78-7.78 2.81-2.81c.8-.78.8-2.07 0-2.86zM5.41 20L4 18.59l7.72-7.72 1.47 1.35L5.41 20z\"/>\n",
              "  </svg>\n",
              "      </button>\n",
              "      \n",
              "  <style>\n",
              "    .colab-df-container {\n",
              "      display:flex;\n",
              "      flex-wrap:wrap;\n",
              "      gap: 12px;\n",
              "    }\n",
              "\n",
              "    .colab-df-convert {\n",
              "      background-color: #E8F0FE;\n",
              "      border: none;\n",
              "      border-radius: 50%;\n",
              "      cursor: pointer;\n",
              "      display: none;\n",
              "      fill: #1967D2;\n",
              "      height: 32px;\n",
              "      padding: 0 0 0 0;\n",
              "      width: 32px;\n",
              "    }\n",
              "\n",
              "    .colab-df-convert:hover {\n",
              "      background-color: #E2EBFA;\n",
              "      box-shadow: 0px 1px 2px rgba(60, 64, 67, 0.3), 0px 1px 3px 1px rgba(60, 64, 67, 0.15);\n",
              "      fill: #174EA6;\n",
              "    }\n",
              "\n",
              "    [theme=dark] .colab-df-convert {\n",
              "      background-color: #3B4455;\n",
              "      fill: #D2E3FC;\n",
              "    }\n",
              "\n",
              "    [theme=dark] .colab-df-convert:hover {\n",
              "      background-color: #434B5C;\n",
              "      box-shadow: 0px 1px 3px 1px rgba(0, 0, 0, 0.15);\n",
              "      filter: drop-shadow(0px 1px 2px rgba(0, 0, 0, 0.3));\n",
              "      fill: #FFFFFF;\n",
              "    }\n",
              "  </style>\n",
              "\n",
              "      <script>\n",
              "        const buttonEl =\n",
              "          document.querySelector('#df-23043853-9d5d-42ce-9bd4-6a1570060084 button.colab-df-convert');\n",
              "        buttonEl.style.display =\n",
              "          google.colab.kernel.accessAllowed ? 'block' : 'none';\n",
              "\n",
              "        async function convertToInteractive(key) {\n",
              "          const element = document.querySelector('#df-23043853-9d5d-42ce-9bd4-6a1570060084');\n",
              "          const dataTable =\n",
              "            await google.colab.kernel.invokeFunction('convertToInteractive',\n",
              "                                                     [key], {});\n",
              "          if (!dataTable) return;\n",
              "\n",
              "          const docLinkHtml = 'Like what you see? Visit the ' +\n",
              "            '<a target=\"_blank\" href=https://colab.research.google.com/notebooks/data_table.ipynb>data table notebook</a>'\n",
              "            + ' to learn more about interactive tables.';\n",
              "          element.innerHTML = '';\n",
              "          dataTable['output_type'] = 'display_data';\n",
              "          await google.colab.output.renderOutput(dataTable, element);\n",
              "          const docLink = document.createElement('div');\n",
              "          docLink.innerHTML = docLinkHtml;\n",
              "          element.appendChild(docLink);\n",
              "        }\n",
              "      </script>\n",
              "    </div>\n",
              "  </div>\n",
              "  "
            ]
          },
          "metadata": {},
          "execution_count": 6
        }
      ]
    },
    {
      "cell_type": "code",
      "source": [
        "# seperating images from labels\n",
        "Y = np.array(df['label'])\n",
        "df = df.drop(axis=1, labels=\"label\")"
      ],
      "metadata": {
        "id": "eX1YeAfdDjVA"
      },
      "execution_count": 7,
      "outputs": []
    },
    {
      "cell_type": "code",
      "source": [
        "X_train = []\n",
        "X_test =  []  \n",
        "labels_train = []\n",
        "labels_test =  []  \n",
        "\n",
        "for i in range(0,550):\n",
        "    if((i%2==0)):\n",
        "       X_test.append(arr[i,:])\n",
        "       labels_test.append(labels[i])\n",
        "    else:\n",
        "       X_train.append(arr[i,:])\n",
        "       labels_train.append(labels[i])\n",
        " \n",
        "print(X_test)\n",
        "print(labels_test[0])"
      ],
      "metadata": {
        "colab": {
          "base_uri": "https://localhost:8080/"
        },
        "id": "ujLhTgof8m8y",
        "outputId": "430e89bb-74c3-4cff-b07e-a3b8b95292bd"
      },
      "execution_count": 8,
      "outputs": [
        {
          "output_type": "stream",
          "name": "stdout",
          "text": [
            "[array([156, 158, 155, ..., 113, 110, 108], dtype=uint8), array([144, 144, 145, ...,  76,  78,  82], dtype=uint8), array([157, 154, 154, ..., 105, 110, 106], dtype=uint8), array([143, 144, 142, ...,  79,  79,  80], dtype=uint8), array([155, 154, 153, ..., 113, 110, 111], dtype=uint8), array([119, 120, 120, ...,  89,  94,  85], dtype=uint8), array([119, 121, 123, ...,  36,  40,  36], dtype=uint8), array([125, 124, 124, ...,  36,  35,  34], dtype=uint8), array([127, 131, 128, ...,  94,  84,  89], dtype=uint8), array([131, 125, 126, ...,  89,  93,  91], dtype=uint8), array([131, 128, 126, ...,  41,  40,  35], dtype=uint8), array([117, 112, 115, ...,  82,  82,  80], dtype=uint8), array([117, 114, 116, ...,  85,  89,  91], dtype=uint8), array([117, 115, 115, ...,  53,  46,  68], dtype=uint8), array([129, 127, 128, ...,  32,  35,  40], dtype=uint8), array([111, 111, 110, ...,  88,  79,  90], dtype=uint8), array([114, 110, 112, ...,  93,  89,  86], dtype=uint8), array([100, 110, 107, ...,  64,  71,  59], dtype=uint8), array([105, 102, 106, ...,  72,  62,  75], dtype=uint8), array([113, 112, 111, ...,  87,  87,  89], dtype=uint8), array([121, 119, 122, ..., 150, 135, 121], dtype=uint8), array([47, 50, 52, ..., 33, 45, 36], dtype=uint8), array([58, 48, 47, ..., 31, 43, 41], dtype=uint8), array([45, 54, 48, ..., 46, 67, 33], dtype=uint8), array([116, 123, 120, ..., 108,  96,  98], dtype=uint8), array([133, 132, 131, ...,  53,  48,  58], dtype=uint8), array([132, 127, 128, ...,  85,  83,  85], dtype=uint8), array([124, 125, 125, ...,  84,  89,  85], dtype=uint8), array([131, 133, 128, ...,  54,  53,  56], dtype=uint8), array([126, 127, 126, ...,  87,  85,  89], dtype=uint8), array([118, 114, 117, ...,  58,  54,  52], dtype=uint8), array([115, 113, 113, ...,  56,  52,  55], dtype=uint8), array([119, 121, 122, ...,  79,  80,  82], dtype=uint8), array([119, 124, 118, ...,  75,  77,  82], dtype=uint8), array([114, 118, 114, ...,  54,  55,  52], dtype=uint8), array([103, 109, 105, ...,  53,  58,  54], dtype=uint8), array([106, 104, 104, ...,  74,  66,  68], dtype=uint8), array([110, 111, 114, ...,  65,  72,  65], dtype=uint8), array([108, 105, 104, ...,  72,  73,  48], dtype=uint8), array([105, 109, 105, ...,  81,  57,  49], dtype=uint8), array([67, 64, 67, ..., 73, 69, 72], dtype=uint8), array([53, 51, 49, ..., 58, 64, 60], dtype=uint8), array([51, 49, 53, ..., 61, 61, 57], dtype=uint8), array([48, 52, 51, ..., 56, 56, 55], dtype=uint8), array([49, 48, 49, ..., 63, 63, 56], dtype=uint8), array([ 86,  90,  87, ..., 127, 124, 126], dtype=uint8), array([ 97,  94,  92, ..., 144, 143, 129], dtype=uint8), array([ 93,  93,  88, ..., 112, 111, 111], dtype=uint8), array([ 88,  85,  89, ..., 117, 117, 116], dtype=uint8), array([ 83,  86,  84, ..., 136, 138, 134], dtype=uint8), array([ 37,  36,  34, ..., 160, 207, 210], dtype=uint8), array([ 96,  94,  98, ..., 131, 136, 152], dtype=uint8), array([ 99, 103,  98, ..., 162, 122, 122], dtype=uint8), array([ 29,  39,  35, ..., 213, 153, 204], dtype=uint8), array([ 35,  39,  38, ..., 212, 202, 145], dtype=uint8), array([46, 45, 47, ..., 46, 50, 50], dtype=uint8), array([47, 42, 53, ..., 36, 70, 82], dtype=uint8), array([48, 43, 51, ..., 45, 42, 39], dtype=uint8), array([45, 45, 48, ..., 76, 79, 70], dtype=uint8), array([48, 42, 52, ..., 46, 51, 48], dtype=uint8), array([110, 106, 109, ...,  49,  53,  53], dtype=uint8), array([101, 104, 104, ...,  42,  46,  43], dtype=uint8), array([101, 106, 102, ...,  46,  50,  45], dtype=uint8), array([104, 109, 104, ...,  52,  59,  56], dtype=uint8), array([109, 111, 108, ...,  52,  55,  48], dtype=uint8), array([ 91,  83,  70, ..., 171, 188, 190], dtype=uint8), array([ 89,  95,  95, ..., 147, 152, 159], dtype=uint8), array([ 86,  90,  87, ..., 153, 142, 139], dtype=uint8), array([ 92,  86,  89, ..., 183, 175, 175], dtype=uint8), array([95, 89, 89, ..., 43, 55, 55], dtype=uint8), array([52, 52, 46, ..., 88, 82, 52], dtype=uint8), array([122, 122, 121, ...,  77,  77,  79], dtype=uint8), array([49, 50, 48, ..., 73, 77, 71], dtype=uint8), array([48, 48, 55, ..., 88, 93, 99], dtype=uint8), array([124, 121, 123, ...,  78,  76,  74], dtype=uint8), array([104,  98, 100, ...,  52,  49,  53], dtype=uint8), array([ 98, 103,  98, ...,  57,  50,  48], dtype=uint8), array([ 99, 102,  97, ...,  50,  53,  50], dtype=uint8), array([102, 105, 104, ...,  74,  74,  75], dtype=uint8), array([105, 107, 104, ...,  77,  76,  75], dtype=uint8), array([ 25,  24,  26, ..., 186, 189, 187], dtype=uint8), array([ 22,  19,  24, ..., 150, 158, 166], dtype=uint8), array([ 28,  25,  28, ..., 182, 183, 178], dtype=uint8), array([ 25,  17,  26, ..., 187, 187, 187], dtype=uint8), array([ 24,  26,  27, ..., 183, 181, 181], dtype=uint8), array([112, 109, 112, ...,  61,  62,  62], dtype=uint8), array([108, 108, 106, ...,  69,  69,  70], dtype=uint8), array([106, 106, 110, ...,  69,  69,  68], dtype=uint8), array([110, 111, 110, ...,  63,  59,  60], dtype=uint8), array([110, 110, 112, ..., 141,  88,  64], dtype=uint8), array([32, 37, 32, ..., 27, 25, 27], dtype=uint8), array([41, 34, 40, ..., 38, 39, 37], dtype=uint8), array([33, 39, 38, ..., 26, 27, 27], dtype=uint8), array([38, 33, 43, ..., 26, 28, 23], dtype=uint8), array([40, 35, 37, ..., 33, 31, 29], dtype=uint8), array([ 54,  49,  56, ..., 154, 154, 162], dtype=uint8), array([93, 92, 97, ..., 94, 90, 94], dtype=uint8), array([ 91,  96,  89, ..., 106,  50, 118], dtype=uint8), array([104, 100, 101, ...,  89,  79,  77], dtype=uint8), array([ 97,  96,  98, ...,  75, 104, 124], dtype=uint8), array([103, 102, 104, ..., 139, 152, 178], dtype=uint8), array([ 99,  90,  97, ..., 135, 113, 158], dtype=uint8), array([ 95,  95,  99, ..., 111, 165, 162], dtype=uint8), array([103, 104, 103, ..., 132, 165, 149], dtype=uint8), array([104, 108, 105, ..., 173, 175, 155], dtype=uint8), array([109, 107, 110, ...,  42,  40,  35], dtype=uint8), array([102, 103, 103, ...,  36,  37,  31], dtype=uint8), array([111, 110, 114, ...,  57,  53,  48], dtype=uint8), array([109, 110, 113, ...,  49,  52,  51], dtype=uint8), array([116, 116, 117, ...,  19,  24,  16], dtype=uint8), array([ 53,  58,  53, ..., 195, 122,  76], dtype=uint8), array([ 54,  55,  60, ..., 156, 181, 217], dtype=uint8), array([ 55,  56,  56, ...,  69, 144, 193], dtype=uint8), array([ 56,  58,  50, ...,  63,  75, 189], dtype=uint8), array([ 58,  57,  61, ..., 204, 102,  98], dtype=uint8), array([51, 41, 56, ..., 43, 49, 36], dtype=uint8), array([42, 47, 48, ..., 34, 43, 45], dtype=uint8), array([46, 48, 51, ..., 34, 30, 32], dtype=uint8), array([52, 51, 52, ..., 33, 34, 32], dtype=uint8), array([54, 52, 49, ..., 33, 33, 32], dtype=uint8), array([109, 105, 112, ...,  55,  50,  51], dtype=uint8), array([115, 108, 109, ...,  48,  47,  48], dtype=uint8), array([113, 105, 109, ...,  48,  37,  51], dtype=uint8), array([112, 109, 110, ...,  65,  69,  83], dtype=uint8), array([109, 111, 110, ...,  75,  69,  68], dtype=uint8), array([ 35,  40,  38, ..., 222,  55,  34], dtype=uint8), array([40, 41, 43, ..., 40, 37, 36], dtype=uint8), array([35, 36, 37, ..., 59, 57, 58], dtype=uint8), array([34, 38, 36, ..., 55, 58, 55], dtype=uint8), array([36, 39, 45, ..., 52, 51, 53], dtype=uint8), array([122, 121, 121, ...,  78,  78,  80], dtype=uint8), array([128, 123, 128, ...,  79,  77,  83], dtype=uint8), array([118, 122, 118, ...,  78,  62,  62], dtype=uint8), array([120, 119, 118, ...,  63,  73,  80], dtype=uint8), array([121, 118, 117, ...,  74,  84,  90], dtype=uint8), array([42, 40, 43, ..., 23, 23, 18], dtype=uint8), array([39, 43, 39, ..., 24, 24, 23], dtype=uint8), array([38, 46, 38, ..., 27, 23, 26], dtype=uint8), array([46, 42, 46, ..., 39, 22, 14], dtype=uint8), array([46, 45, 42, ..., 24, 21, 24], dtype=uint8), array([122, 123, 122, ...,  98, 101,  85], dtype=uint8), array([119, 123, 121, ...,  93, 106,  90], dtype=uint8), array([123, 124, 122, ...,  69,  71, 101], dtype=uint8), array([124, 124, 123, ...,  99, 102,  95], dtype=uint8), array([123, 122, 121, ...,  84,  92,  94], dtype=uint8), array([34, 36, 35, ..., 32, 25, 25], dtype=uint8), array([34, 35, 35, ..., 31, 24, 24], dtype=uint8), array([ 35,  36,  37, ..., 144, 147, 143], dtype=uint8), array([35, 32, 36, ..., 25, 28, 29], dtype=uint8), array([ 43,  39,  36, ..., 154, 155, 141], dtype=uint8), array([108, 112, 110, ...,  22,  30,  20], dtype=uint8), array([108, 111, 110, ...,  53,  48,  56], dtype=uint8), array([104, 105, 102, ...,  20,  28,  34], dtype=uint8), array([110, 106, 106, ...,  19,  21,  19], dtype=uint8), array([106, 109, 105, ...,  35,  45,  48], dtype=uint8), array([48, 44, 49, ..., 38, 35, 44], dtype=uint8), array([47, 47, 47, ..., 30, 35, 33], dtype=uint8), array([48, 46, 49, ..., 31, 31, 36], dtype=uint8), array([51, 48, 43, ..., 29, 28, 32], dtype=uint8), array([48, 45, 45, ..., 28, 37, 29], dtype=uint8), array([106, 105, 106, ...,  32,  31,  28], dtype=uint8), array([111, 106, 106, ...,  43,  34,  43], dtype=uint8), array([105, 104, 104, ...,  43,  41,  24], dtype=uint8), array([114, 109, 112, ...,  37,  35,  38], dtype=uint8), array([ 95, 101,  99, ...,  40,  42,  53], dtype=uint8), array([133, 135, 135, ...,  18,  17,  15], dtype=uint8), array([137, 135, 136, ...,  19,  24,  41], dtype=uint8), array([134, 138, 136, ...,  55,  79,  81], dtype=uint8), array([133, 135, 137, ...,  16,  19,  17], dtype=uint8), array([135, 133, 136, ...,  18,  21,  24], dtype=uint8), array([ 69,  76,  69, ..., 104, 121,  93], dtype=uint8), array([ 72,  73,  77, ..., 100,  86,  76], dtype=uint8), array([63, 54, 58, ..., 63, 63, 64], dtype=uint8), array([46, 45, 49, ..., 56, 60, 58], dtype=uint8), array([61, 62, 64, ..., 51, 55, 53], dtype=uint8), array([ 43,  46,  43, ...,  95, 162, 197], dtype=uint8), array([ 44,  50,  46, ..., 140, 104,  95], dtype=uint8), array([ 51,  46,  48, ..., 196, 173, 110], dtype=uint8), array([ 41,  42,  47, ..., 141, 156, 149], dtype=uint8), array([ 47,  46,  46, ..., 151, 143,  90], dtype=uint8), array([48, 49, 45, ..., 47, 46, 46], dtype=uint8), array([60, 60, 62, ..., 32, 34, 34], dtype=uint8), array([63, 53, 35, ..., 41, 10, 24], dtype=uint8), array([41, 47, 47, ..., 35, 37, 38], dtype=uint8), array([44, 43, 32, ..., 43, 43, 37], dtype=uint8), array([39, 41, 37, ..., 33, 33, 40], dtype=uint8), array([38, 41, 37, ..., 39, 38, 40], dtype=uint8), array([119, 121, 123, ...,  73,  74,  76], dtype=uint8), array([38, 35, 40, ..., 36, 35, 39], dtype=uint8), array([120, 119, 121, ...,  74,  74,  80], dtype=uint8), array([50, 57, 56, ..., 39, 46, 43], dtype=uint8), array([49, 45, 46, ..., 43, 42, 45], dtype=uint8), array([47, 43, 48, ..., 45, 49, 50], dtype=uint8), array([48, 45, 50, ..., 46, 50, 53], dtype=uint8), array([52, 56, 60, ..., 39, 41, 44], dtype=uint8), array([119, 118, 119, ...,  83,  83,  82], dtype=uint8), array([117, 120, 122, ...,  66,  59,  65], dtype=uint8), array([121, 119, 121, ...,  83,  80,  86], dtype=uint8), array([122, 120, 125, ...,  65,  62,  66], dtype=uint8), array([121, 120, 122, ...,  66,  62,  68], dtype=uint8), array([110, 132, 126, ..., 160, 161, 167], dtype=uint8), array([149, 145, 139, ..., 181, 175, 172], dtype=uint8), array([161, 156, 133, ..., 137, 102,  67], dtype=uint8), array([110, 132, 126, ..., 160, 161, 167], dtype=uint8), array([123, 127, 130, ..., 187, 192, 197], dtype=uint8), array([33, 32, 32, ..., 81, 79, 77], dtype=uint8), array([160, 156, 153, ..., 144, 144, 145], dtype=uint8), array([ 83,  82,  81, ..., 111, 112, 112], dtype=uint8), array([ 22,  19,  13, ..., 248, 136, 133], dtype=uint8), array([111, 116,  87, ...,  99,  97,  88], dtype=uint8), array([253, 253, 253, ..., 253, 253, 253], dtype=uint8), array([119, 111, 100, ..., 107, 147, 124], dtype=uint8), array([254, 254, 254, ..., 253, 253, 253], dtype=uint8), array([106, 106, 105, ..., 109, 120, 132], dtype=uint8), array([84, 82, 82, ..., 90, 89, 88], dtype=uint8), array([103, 103, 103, ..., 133, 136, 140], dtype=uint8), array([116, 108, 101, ..., 173, 164, 125], dtype=uint8), array([158, 159, 161, ..., 138, 138, 137], dtype=uint8), array([139, 135, 133, ..., 183, 178, 176], dtype=uint8), array([150, 126,  60, ..., 247, 202, 210], dtype=uint8), array([127, 124, 122, ...,  59,  59,  60], dtype=uint8), array([52, 52, 50, ..., 18, 18, 18], dtype=uint8), array([116, 116, 116, ...,  86,  74,  64], dtype=uint8), array([200, 200, 200, ..., 152, 135, 210], dtype=uint8), array([ 84,  85,  86, ..., 120, 117, 114], dtype=uint8), array([97, 92, 89, ..., 86, 74, 67], dtype=uint8), array([253, 253, 253, ..., 132, 129, 118], dtype=uint8), array([ 71,  84,  90, ..., 119, 117, 116], dtype=uint8), array([ 41,  27,  51, ..., 164, 139, 129], dtype=uint8), array([ 80,  79,  74, ..., 134, 132, 131], dtype=uint8), array([250, 249, 248, ..., 251, 251, 251], dtype=uint8), array([188, 186, 184, ..., 222, 223, 224], dtype=uint8), array([168, 165, 163, ..., 142, 143, 143], dtype=uint8), array([253, 253, 253, ..., 253, 253, 253], dtype=uint8), array([ 15,  14,  13, ...,  94, 114, 103], dtype=uint8), array([140, 133, 129, ..., 162, 158, 156], dtype=uint8), array([133, 131, 132, ..., 121, 119, 115], dtype=uint8), array([ 49,  48,  45, ..., 132, 113, 125], dtype=uint8), array([130, 123, 119, ..., 146, 153, 146], dtype=uint8), array([183, 180, 181, ..., 158, 158, 158], dtype=uint8), array([47, 49, 50, ..., 50, 59, 69], dtype=uint8), array([ 99, 101, 103, ..., 144, 144, 143], dtype=uint8), array([ 67,  73,  46, ..., 137, 136, 137], dtype=uint8), array([134, 138, 133, ..., 130, 132, 133], dtype=uint8), array([115, 115, 114, ..., 111, 111, 112], dtype=uint8), array([ 48,  46,  44, ..., 109, 116, 122], dtype=uint8), array([145, 148, 159, ..., 124, 138, 109], dtype=uint8), array([207, 209, 223, ...,  85,  94, 120], dtype=uint8), array([107, 105, 103, ..., 191, 185, 181], dtype=uint8), array([255, 253, 251, ..., 229, 232, 233], dtype=uint8), array([243, 232, 224, ..., 179, 179, 179], dtype=uint8), array([ 77,  74,  72, ..., 157, 162, 184], dtype=uint8), array([191, 191, 192, ...,  63,  64,  65], dtype=uint8), array([188, 185, 177, ...,  86,  58,  61], dtype=uint8), array([128, 110,  78, ..., 174, 172, 177], dtype=uint8), array([253, 253, 253, ...,  77,  38,  54], dtype=uint8), array([ 97,  96,  95, ..., 117, 116, 114], dtype=uint8), array([83, 83, 85, ..., 39, 43, 47], dtype=uint8), array([204, 202, 199, ..., 199, 199, 199], dtype=uint8), array([40, 33, 29, ..., 59, 54, 51], dtype=uint8), array([156, 153, 150, ..., 110, 109, 108], dtype=uint8), array([227, 216, 220, ..., 153, 160, 189], dtype=uint8), array([106, 102,  98, ...,  96,  96,  96], dtype=uint8), array([ 85,  75,  65, ..., 195, 203, 208], dtype=uint8), array([140, 156, 147, ..., 178, 177, 177], dtype=uint8), array([ 61,  59,  54, ..., 147, 148, 145], dtype=uint8), array([151, 149, 146, ..., 170, 114, 104], dtype=uint8), array([254, 254, 254, ...,  14,  13,  12], dtype=uint8), array([151, 148, 146, ..., 105, 104, 104], dtype=uint8), array([72, 83, 52, ..., 43, 52, 40], dtype=uint8), array([255, 252, 249, ...,  58,  65,  71], dtype=uint8), array([120, 119, 117, ..., 133, 133, 133], dtype=uint8), array([253, 251, 249, ..., 215, 214, 213], dtype=uint8), array([ 93,  91,  87, ..., 159, 169, 177], dtype=uint8), array([128, 125, 123, ..., 150, 153, 155], dtype=uint8)]\n",
            "0\n"
          ]
        }
      ]
    },
    {
      "cell_type": "code",
      "source": [
        "def LDA(arr, Y=None, noOfDims=None):\n",
        "    # initializing the variables\n",
        "    summ, lenn = 0, 0\n",
        "    # computing the mean for each class\n",
        "    mu = []\n",
        "    Z =  []\n",
        "    mu.append(np.mean(arr[0:399,:], axis=0 , keepdims=True).T) \n",
        "    mu.append(np.mean(arr[400:], axis=0, keepdims=True).T) \n",
        "       \n",
        "    # computing the between class scatter matrices\n",
        "    SB = np.matmul((mu[0]-mu[1]), (mu[0]-mu[1]).T)\n",
        "    # centering the class matrices\n",
        "    Z.append((arr[0:399,:] - mu[0].T))    \n",
        "    Z.append((arr[400:,:] - mu[1].T))\n",
        "    S = 0\n",
        "    for i in range(len(Z)): S += np.matmul(Z[i].T, Z[i])\n",
        "    # performing eigenvalue decomposition\n",
        "    eigValues, eigVectors = np.linalg.eig(np.matmul(np.linalg.inv(S), SB))\n",
        "    idx = eigValues.argsort()[::-1]\n",
        "    eigValues = eigValues[idx]\n",
        "    eigVectors = eigVectors[:,idx]\n",
        "    # returning the dominant eigen vectors\n",
        "    return eigVectors.T\n",
        "\n",
        "    "
      ],
      "metadata": {
        "id": "rY_EVhf_JVXB"
      },
      "execution_count": 9,
      "outputs": []
    },
    {
      "cell_type": "code",
      "source": [
        "# DO NOT RUN THIS CELL IF YOU ALREADY HAVE THE PICKLE FILES\n",
        "W = LDA(arr, noOfDims=2)\n",
        "# DO NOT RUN THIS CELL IF YOU ALREADY HAVE THE PICKLE FILES"
      ],
      "metadata": {
        "id": "yGfI7Pdt9mn0"
      },
      "execution_count": 10,
      "outputs": []
    },
    {
      "cell_type": "code",
      "source": [
        "# saving the LDA output for later use\n",
        "file_name = 'LDA_output.pkl'\n",
        "with open(file_name, 'wb') as file:\n",
        "    pickle.dump(W, file)\n",
        "    print(f'Object successfully saved to \"{file_name}\"')"
      ],
      "metadata": {
        "id": "NooEJLM3ISN1",
        "colab": {
          "base_uri": "https://localhost:8080/"
        },
        "outputId": "778d1a73-b5f7-4301-e842-ea0f4e874a91"
      },
      "execution_count": 11,
      "outputs": [
        {
          "output_type": "stream",
          "name": "stdout",
          "text": [
            "Object successfully saved to \"LDA_output.pkl\"\n"
          ]
        }
      ]
    },
    {
      "cell_type": "code",
      "source": [
        "def KNN(X_train, X_test, y_train, k):   \n",
        "  # predicted label\n",
        "  yPredicted = []\n",
        "  for i in range(len(X_test)):\n",
        "    # measuring the distance between that test point each train point\n",
        "    dist = dict([(j, np.sqrt(np.sum((X_test[i] - X_train[j])**2))) for j in range(len(X_train))])\n",
        "    # sorting the distances\n",
        "    dist = sorted(dist.items(), key=lambda kv:(kv[1], kv[0]))\n",
        "    # considering only the k closest points\n",
        "    dist = dict(dist[:k])\n",
        "    # print(dist)\n",
        "    # creating a counter object to track the labels of k closest neighbors\n",
        "    counter = Counter([y_train[k] for k in dist.keys()])\n",
        "    # getting the most common label of all the nearest neighbors\n",
        "    yPredicted.append(counter.most_common()[0][0])\n",
        "    # print(counter.most_common()[0][0])\n",
        "  return yPredicted"
      ],
      "metadata": {
        "id": "JUFam-qXPZi7"
      },
      "execution_count": 12,
      "outputs": []
    },
    {
      "cell_type": "code",
      "source": [
        "def projectData(X_train, X_test, W):\n",
        "    X_train = np.array([np.matmul(W.T, X_train[i]) for i in range(X_train.shape[0])])\n",
        "    X_test = np.array([np.matmul(W.T, X_test[i]) for i in range(X_test.shape[0])])\n",
        "    return X_train, X_test"
      ],
      "metadata": {
        "id": "Aiol2vfKqaob"
      },
      "execution_count": 13,
      "outputs": []
    },
    {
      "cell_type": "code",
      "source": [
        "print(\"After LDA\")\n",
        "accur_afterLDA=[]\n",
        "Z=W[:,:10]\n",
        "#Z=Z.T\n",
        "X_train_red, X_test_red = projectData(np.array(X_train), np.array(X_test), Z)\n",
        "yhat = KNN(X_train_red, X_test_red, labels_train, 1)\n",
        "accur_afterLDA.append(accuracy_score(labels_test, yhat))\n",
        "print('150',accuracy_score(labels_test, yhat))"
      ],
      "metadata": {
        "id": "vUY_G1I3p0CM",
        "colab": {
          "base_uri": "https://localhost:8080/"
        },
        "outputId": "b265eebd-0225-4cf6-d3d8-aeb999411e72"
      },
      "execution_count": 14,
      "outputs": [
        {
          "output_type": "stream",
          "name": "stdout",
          "text": [
            "After LDA\n",
            "150 0.9018181818181819\n"
          ]
        }
      ]
    },
    {
      "cell_type": "code",
      "source": [
        "print(accur_afterLDA)"
      ],
      "metadata": {
        "id": "yUFVPGN_h44k",
        "colab": {
          "base_uri": "https://localhost:8080/"
        },
        "outputId": "aeab834e-a3a6-4dc7-905b-a3e0c8d2dafd"
      },
      "execution_count": 15,
      "outputs": [
        {
          "output_type": "stream",
          "name": "stdout",
          "text": [
            "[0.9018181818181819]\n"
          ]
        }
      ]
    },
    {
      "cell_type": "code",
      "source": [
        "file_name = 'LDA_output.pkl'\n",
        "with open(file_name, 'rb') as file:\n",
        "    W  = pickle.load(file)\n",
        "    print(f'Object successfully loaded from \"{file_name}\"')"
      ],
      "metadata": {
        "id": "Q-mfa7UfVZrL",
        "colab": {
          "base_uri": "https://localhost:8080/"
        },
        "outputId": "07e39bcb-c479-45bc-df3c-1a99b92cabd1"
      },
      "execution_count": 16,
      "outputs": [
        {
          "output_type": "stream",
          "name": "stdout",
          "text": [
            "Object successfully loaded from \"LDA_output.pkl\"\n"
          ]
        }
      ]
    },
    {
      "cell_type": "code",
      "source": [
        "arr=np.array(arr)"
      ],
      "metadata": {
        "id": "-QWlmfVWUYjm"
      },
      "execution_count": 17,
      "outputs": []
    },
    {
      "cell_type": "code",
      "source": [
        "labels2 = []\n",
        "arr2 =[]\n",
        "\n",
        "for root,di,files in os.walk(\"/content/drive/MyDrive/Colab Notebooks/dataset3/21\"): \n",
        "  for name in files:\n",
        "      root_folder = os.path.split(root)   \n",
        "      image2 = cv2.imread(os.path.join(root,name), 0)\n",
        "      image2.resize((92, 112))\n",
        "      image2=image2.flatten(order='C')\n",
        "      nonfaces = nonfaces + 1\n",
        "      arr2.append(image2)\n",
        "      labels2.append('1')\n",
        "arr2=np.array(arr2)\n",
        "arr = np.vstack((arr, arr2))\n",
        "labels2=np.array(labels2)\n",
        "labels = np.hstack((labels, labels2))  \n",
        "num_nonfaces.append( nonfaces)           \n",
        "print(labels.shape)       \n",
        "print(arr.shape)\n"
      ],
      "metadata": {
        "id": "4vKzEqxgLRaR",
        "colab": {
          "base_uri": "https://localhost:8080/"
        },
        "outputId": "4e3eaf4d-c83c-4649-e3a4-085ecaa9f26d"
      },
      "execution_count": 18,
      "outputs": [
        {
          "output_type": "stream",
          "name": "stdout",
          "text": [
            "(650,)\n",
            "(650, 10304)\n"
          ]
        }
      ]
    },
    {
      "cell_type": "code",
      "source": [
        "print(nonfaces)"
      ],
      "metadata": {
        "id": "7ZVm6MAw-NAB",
        "colab": {
          "base_uri": "https://localhost:8080/"
        },
        "outputId": "34039869-7106-4ea3-b7f5-62221b2b7c7f"
      },
      "execution_count": 19,
      "outputs": [
        {
          "output_type": "stream",
          "name": "stdout",
          "text": [
            "250\n"
          ]
        }
      ]
    },
    {
      "cell_type": "code",
      "source": [
        "##### def AfterChanging_nonfaces():\n",
        "\n",
        "X_train = []\n",
        "X_test =  []  \n",
        "labels_train = []\n",
        "labels_test =  []  \n",
        "for i in range(0,650):\n",
        "    if((i%2==0)):\n",
        "       X_test.append(arr[i,:])\n",
        "       labels_test.append(labels[i])\n",
        "    else:\n",
        "       X_train.append(arr[i,:])\n",
        "       labels_train.append(labels[i])\n",
        " \n",
        "print(X_test[0])\n",
        "print(labels_test[0])\n",
        "# DO NOT RUN THIS CELL IF YOU ALREADY HAVE THE PICKLE FILES\n",
        "W = LDA(arr, noOfDims=2)\n",
        "# DO NOT RUN THIS CELL IF YOU ALREADY HAVE THE PICKLE FILES\n",
        "Z=W[:,:10]\n",
        "#Z=Z.T\n",
        "print(\"After LDA\")\n",
        "X_train_red, X_test_red = projectData(np.array(X_train), np.array(X_test), Z)\n",
        "yhat = KNN(X_train_red, X_test_red, labels_train, 1)\n",
        "accur_afterLDA.append(accuracy_score(labels_test, yhat))\n",
        "print((398+nonfaces),accuracy_score(labels_test, yhat))\n",
        "accff.append(accuracy_score(labels_test, yhat))\n",
        "#print(X_test_red)\n",
        "#print(\"Training Set Accuracy: {}\\nTesting  Set Accuracy: {}\".format(train_score, test_score))\n",
        "print(nonfaces)\n",
        "print(accff )"
      ],
      "metadata": {
        "id": "TO-A6d4A05ae",
        "colab": {
          "base_uri": "https://localhost:8080/"
        },
        "outputId": "70d65b4a-690c-4016-a5e8-6589deec481b"
      },
      "execution_count": 20,
      "outputs": [
        {
          "output_type": "stream",
          "name": "stdout",
          "text": [
            "[156 158 155 ... 113 110 108]\n",
            "0\n",
            "After LDA\n",
            "648 0.8892307692307693\n",
            "250\n",
            "[0.8892307692307693]\n"
          ]
        }
      ]
    },
    {
      "cell_type": "code",
      "source": [
        "print(accur_afterLDA)"
      ],
      "metadata": {
        "id": "xPeWzJ24aDU8",
        "colab": {
          "base_uri": "https://localhost:8080/"
        },
        "outputId": "38c5f2e1-f15c-4d13-c46e-3703258fe5a4"
      },
      "execution_count": 21,
      "outputs": [
        {
          "output_type": "stream",
          "name": "stdout",
          "text": [
            "[0.9018181818181819, 0.8892307692307693]\n"
          ]
        }
      ]
    },
    {
      "cell_type": "code",
      "source": [
        "labels2 = []\n",
        "arr2 =[]\n",
        "\n",
        "for root,di,files in os.walk(\"/content/drive/MyDrive/Colab Notebooks/dataset3/5\"): \n",
        "  for name in files:\n",
        "      root_folder = os.path.split(root)   \n",
        "      image2 = cv2.imread(os.path.join(root,name), 0)\n",
        "      image2.resize((92, 112))\n",
        "      image2=image2.flatten(order='C')\n",
        "      nonfaces = nonfaces + 1\n",
        "      arr2.append(image2)\n",
        "      labels2.append('1')\n",
        "      \n",
        "num_nonfaces.append( nonfaces)           \n",
        "arr2=np.array(arr2)\n",
        "arr = np.vstack((arr, arr2))\n",
        "labels2=np.array(labels2)\n",
        "labels = np.hstack((labels, labels2))\n",
        "print(labels.shape)       \n",
        "print(arr.shape)\n",
        "#print(labels)    \n"
      ],
      "metadata": {
        "id": "5mY_6bgxSr3m",
        "colab": {
          "base_uri": "https://localhost:8080/"
        },
        "outputId": "d1c7efdb-95d8-494c-d807-1dd77f16b763"
      },
      "execution_count": 22,
      "outputs": [
        {
          "output_type": "stream",
          "name": "stdout",
          "text": [
            "(850,)\n",
            "(850, 10304)\n"
          ]
        }
      ]
    },
    {
      "cell_type": "code",
      "source": [
        "print(labels.shape)       \n",
        "print(arr.shape)\n",
        "#print(labels)    "
      ],
      "metadata": {
        "colab": {
          "base_uri": "https://localhost:8080/"
        },
        "id": "jrJPx9Cj6FA1",
        "outputId": "e0bf0a0c-80b0-45e0-a1d5-81721192537d"
      },
      "execution_count": 23,
      "outputs": [
        {
          "output_type": "stream",
          "name": "stdout",
          "text": [
            "(850,)\n",
            "(850, 10304)\n"
          ]
        }
      ]
    },
    {
      "cell_type": "code",
      "source": [
        "\n",
        "X_train = []\n",
        "X_test =  []  \n",
        "labels_train = []\n",
        "labels_test =  []  \n",
        "for i in range(0,(398+nonfaces)):\n",
        "    if((i%2==0)):\n",
        "       X_test.append(arr[i,:])\n",
        "       labels_test.append(labels[i])\n",
        "    else:\n",
        "       X_train.append(arr[i,:])\n",
        "       labels_train.append(labels[i])\n",
        " \n",
        "print(X_test[0])\n",
        "print(labels_test[0])\n",
        "# DO NOT RUN THIS CELL IF YOU ALREADY HAVE THE PICKLE FILES\n",
        "W = LDA(arr, noOfDims=2)\n",
        "# DO NOT RUN THIS CELL IF YOU ALREADY HAVE THE PICKLE FILES\n"
      ],
      "metadata": {
        "id": "cUWpk6Du91M1",
        "colab": {
          "base_uri": "https://localhost:8080/"
        },
        "outputId": "f47080df-4b4c-49e1-adab-a1932d6eada1"
      },
      "execution_count": 24,
      "outputs": [
        {
          "output_type": "stream",
          "name": "stdout",
          "text": [
            "[156 158 155 ... 113 110 108]\n",
            "0\n"
          ]
        }
      ]
    },
    {
      "cell_type": "code",
      "source": [
        "Z=W[:,:10]\n",
        "#Z=Z.T\n",
        "print(\"After LDA\")\n",
        "X_train_red, X_test_red = projectData(np.array(X_train), np.array(X_test), Z)\n",
        "yhat = KNN(X_train_red, X_test_red, labels_train, 1)\n",
        "accur_afterLDA.append(accuracy_score(labels_test, yhat))\n",
        "print((398+nonfaces),accuracy_score(labels_test, yhat))\n",
        "accff.append(accuracy_score(labels_test, yhat))\n",
        "print(nonfaces)\n",
        "print(accur_afterLDA )"
      ],
      "metadata": {
        "id": "AQpKW3CHis64",
        "colab": {
          "base_uri": "https://localhost:8080/"
        },
        "outputId": "c066141e-c3fa-42aa-91dd-5ef2f73e16fa"
      },
      "execution_count": 25,
      "outputs": [
        {
          "output_type": "stream",
          "name": "stdout",
          "text": [
            "After LDA\n",
            "848 0.8702830188679245\n",
            "450\n",
            "[0.9018181818181819, 0.8892307692307693, 0.8702830188679245]\n"
          ]
        }
      ]
    },
    {
      "cell_type": "code",
      "source": [
        "labels2 = []\n",
        "arr2 =[]\n",
        "\n",
        "for root,di,files in os.walk(\"/content/drive/MyDrive/Colab Notebooks/dataset3/6\"): \n",
        "  for name in files:\n",
        "      root_folder = os.path.split(root)   \n",
        "      image2 = cv2.imread(os.path.join(root,name), 0)\n",
        "      image2.resize((92, 112))\n",
        "      image2=image2.flatten(order='C')\n",
        "      nonfaces = nonfaces + 1\n",
        "      arr2.append(image2)\n",
        "      labels2.append('1')\n",
        "      \n",
        "num_nonfaces.append( nonfaces)           \n",
        "arr2=np.array(arr2)\n",
        "arr = np.vstack((arr, arr2))\n",
        "labels2=np.array(labels2)\n",
        "labels = np.hstack((labels, labels2))\n",
        "print(labels.shape)       \n",
        "print(arr.shape)\n",
        "#print(labels)\n"
      ],
      "metadata": {
        "id": "GCPZPgo4wQ-G",
        "colab": {
          "base_uri": "https://localhost:8080/"
        },
        "outputId": "f450333d-cdb1-4192-aba7-f3b77d99600f"
      },
      "execution_count": 26,
      "outputs": [
        {
          "output_type": "stream",
          "name": "stdout",
          "text": [
            "(1050,)\n",
            "(1050, 10304)\n"
          ]
        }
      ]
    },
    {
      "cell_type": "code",
      "source": [
        "#Call the cell of\n",
        "#AfterChanging_nonfaces()\n",
        "#Call the cell of\n",
        "#AfterChanging_nonfaces()\n",
        "##### def AfterChanging_nonfaces():\n",
        "\n",
        "X_train = []\n",
        "X_test =  []  \n",
        "labels_train = []\n",
        "labels_test =  []  \n",
        "for i in range(0,(398+nonfaces)):\n",
        "    if((i%2==0)):\n",
        "       X_test.append(arr[i,:])\n",
        "       labels_test.append(labels[i])\n",
        "    else:\n",
        "       X_train.append(arr[i,:])\n",
        "       labels_train.append(labels[i])\n",
        " \n",
        "print(X_test[0])\n",
        "print(labels_test[0])\n",
        "# DO NOT RUN THIS CELL IF YOU ALREADY HAVE THE PICKLE FILES\n",
        "W = LDA(arr, noOfDims=2)\n",
        "# DO NOT RUN THIS CELL IF YOU ALREADY HAVE THE PICKLE FILES\n",
        "Z=W[:,:10]\n",
        "#Z=Z.T\n",
        "print(\"After LDA\")\n",
        "X_train_red, X_test_red = projectData(np.array(X_train), np.array(X_test), Z)\n",
        "yhat = KNN(X_train_red, X_test_red, labels_train, 1)\n",
        "accur_afterLDA.append(accuracy_score(labels_test, yhat))\n",
        "print((398+nonfaces),accuracy_score(labels_test, yhat))\n",
        "accff.append(accuracy_score(labels_test, yhat))\n",
        "#print(X_test_red)\n",
        "#print(\"Training Set Accuracy: {}\\nTesting  Set Accuracy: {}\".format(train_score, test_score))\n",
        "print(nonfaces)\n",
        "print(accur_afterLDA )"
      ],
      "metadata": {
        "id": "Ny4WpuSwwTfo",
        "colab": {
          "base_uri": "https://localhost:8080/"
        },
        "outputId": "5ff1b7ee-d970-4abe-8174-74d41ac6e5b7"
      },
      "execution_count": 27,
      "outputs": [
        {
          "output_type": "stream",
          "name": "stdout",
          "text": [
            "[156 158 155 ... 113 110 108]\n",
            "0\n",
            "After LDA\n",
            "1048 0.8816793893129771\n",
            "650\n",
            "[0.9018181818181819, 0.8892307692307693, 0.8702830188679245, 0.8816793893129771]\n"
          ]
        }
      ]
    },
    {
      "cell_type": "code",
      "source": [
        "labels2 = []\n",
        "arr2 =[]\n",
        "\n",
        "for root,di,files in os.walk(\"/content/drive/MyDrive/Colab Notebooks/dataset3/1\"): \n",
        "  for name in files:\n",
        "      root_folder = os.path.split(root)   \n",
        "      image2 = cv2.imread(os.path.join(root,name), 0)\n",
        "      image2.resize((92, 112))\n",
        "      image2=image2.flatten(order='C')\n",
        "      nonfaces = nonfaces + 1\n",
        "      arr2.append(image2)\n",
        "      labels2.append('1')\n",
        "      \n",
        "num_nonfaces.append( nonfaces)           \n",
        "arr2=np.array(arr2)\n",
        "arr = np.vstack((arr, arr2))\n",
        "labels2=np.array(labels2)\n",
        "labels = np.hstack((labels, labels2))\n",
        "print(labels.shape)       \n",
        "print(arr.shape)\n",
        "#print(labels)\n"
      ],
      "metadata": {
        "id": "TqJ-fzBvwVyd",
        "colab": {
          "base_uri": "https://localhost:8080/"
        },
        "outputId": "d3fc81cc-9f12-488c-b032-c07e6a90829f"
      },
      "execution_count": 28,
      "outputs": [
        {
          "output_type": "stream",
          "name": "stdout",
          "text": [
            "(1437,)\n",
            "(1437, 10304)\n"
          ]
        }
      ]
    },
    {
      "cell_type": "code",
      "source": [
        "#Call the cell of\n",
        "#AfterChanging_nonfaces()\n",
        "#Call the cell of\n",
        "#AfterChanging_nonfaces()\n",
        "#Call the cell of\n",
        "#AfterChanging_nonfaces()\n",
        "##### def AfterChanging_nonfaces():\n",
        "\n",
        "X_train = []\n",
        "X_test =  []  \n",
        "labels_train = []\n",
        "labels_test =  []  \n",
        "for i in range(0,(398+nonfaces)):\n",
        "    if((i%2==0)):\n",
        "       X_test.append(arr[i,:])\n",
        "       labels_test.append(labels[i])\n",
        "    else:\n",
        "       X_train.append(arr[i,:])\n",
        "       labels_train.append(labels[i])\n",
        " \n",
        "print(X_test[0])\n",
        "print(labels_test[0])\n",
        "# DO NOT RUN THIS CELL IF YOU ALREADY HAVE THE PICKLE FILES\n",
        "W = LDA(arr, noOfDims=2)\n",
        "# DO NOT RUN THIS CELL IF YOU ALREADY HAVE THE PICKLE FILES\n",
        "Z=W[:,:10]\n",
        "#Z=Z.T\n",
        "print(\"After LDA\")\n",
        "X_train_red, X_test_red = projectData(np.array(X_train), np.array(X_test), Z)\n",
        "yhat = KNN(X_train_red, X_test_red, labels_train, 1)\n",
        "accur_afterLDA.append(accuracy_score(labels_test, yhat))\n",
        "print((398+nonfaces),accuracy_score(labels_test, yhat))\n",
        "accff.append(accuracy_score(labels_test, yhat))\n",
        "#print(X_test_red)\n",
        "#print(\"Training Set Accuracy: {}\\nTesting  Set Accuracy: {}\".format(train_score, test_score))\n",
        "print(nonfaces)\n",
        "print(accur_afterLDA )\n",
        "print(num_nonfaces)"
      ],
      "metadata": {
        "id": "USQLVsCqwdHO",
        "colab": {
          "base_uri": "https://localhost:8080/"
        },
        "outputId": "87102c11-68f1-4db6-e687-dcaa5740ccb6"
      },
      "execution_count": 29,
      "outputs": [
        {
          "output_type": "stream",
          "name": "stdout",
          "text": [
            "[156 158 155 ... 113 110 108]\n",
            "0\n",
            "After LDA\n",
            "1435 0.883008356545961\n",
            "1037\n",
            "[0.9018181818181819, 0.8892307692307693, 0.8702830188679245, 0.8816793893129771, 0.883008356545961]\n",
            "[150, 250, 450, 650, 1037]\n"
          ]
        }
      ]
    },
    {
      "cell_type": "code",
      "source": [
        "print(labels_test)\n",
        "print(labels.shape)"
      ],
      "metadata": {
        "id": "d7A92gwULFLL",
        "colab": {
          "base_uri": "https://localhost:8080/"
        },
        "outputId": "fc75c07d-05df-49f4-b8b4-35e182e75daa"
      },
      "execution_count": 30,
      "outputs": [
        {
          "output_type": "stream",
          "name": "stdout",
          "text": [
            "['0', '0', '0', '0', '0', '0', '0', '0', '0', '0', '0', '0', '0', '0', '0', '0', '0', '0', '0', '0', '0', '0', '0', '0', '0', '0', '0', '0', '0', '0', '0', '0', '0', '0', '0', '0', '0', '0', '0', '0', '0', '0', '0', '0', '0', '0', '0', '0', '0', '0', '0', '0', '0', '0', '0', '0', '0', '0', '0', '0', '0', '0', '0', '0', '0', '0', '0', '0', '0', '0', '0', '0', '0', '0', '0', '0', '0', '0', '0', '0', '0', '0', '0', '0', '0', '0', '0', '0', '0', '0', '0', '0', '0', '0', '0', '0', '0', '0', '0', '0', '0', '0', '0', '0', '0', '0', '0', '0', '0', '0', '0', '0', '0', '0', '0', '0', '0', '0', '0', '0', '0', '0', '0', '0', '0', '0', '0', '0', '0', '0', '0', '0', '0', '0', '0', '0', '0', '0', '0', '0', '0', '0', '0', '0', '0', '0', '0', '0', '0', '0', '0', '0', '0', '0', '0', '0', '0', '0', '0', '0', '0', '0', '0', '0', '0', '0', '0', '0', '0', '0', '0', '0', '0', '0', '0', '0', '0', '0', '0', '0', '0', '0', '0', '0', '0', '0', '0', '0', '0', '0', '0', '0', '0', '0', '0', '0', '0', '0', '0', '0', '1', '1', '1', '1', '1', '1', '1', '1', '1', '1', '1', '1', '1', '1', '1', '1', '1', '1', '1', '1', '1', '1', '1', '1', '1', '1', '1', '1', '1', '1', '1', '1', '1', '1', '1', '1', '1', '1', '1', '1', '1', '1', '1', '1', '1', '1', '1', '1', '1', '1', '1', '1', '1', '1', '1', '1', '1', '1', '1', '1', '1', '1', '1', '1', '1', '1', '1', '1', '1', '1', '1', '1', '1', '1', '1', '1', '1', '1', '1', '1', '1', '1', '1', '1', '1', '1', '1', '1', '1', '1', '1', '1', '1', '1', '1', '1', '1', '1', '1', '1', '1', '1', '1', '1', '1', '1', '1', '1', '1', '1', '1', '1', '1', '1', '1', '1', '1', '1', '1', '1', '1', '1', '1', '1', '1', '1', '1', '1', '1', '1', '1', '1', '1', '1', '1', '1', '1', '1', '1', '1', '1', '1', '1', '1', '1', '1', '1', '1', '1', '1', '1', '1', '1', '1', '1', '1', '1', '1', '1', '1', '1', '1', '1', '1', '1', '1', '1', '1', '1', '1', '1', '1', '1', '1', '1', '1', '1', '1', '1', '1', '1', '1', '1', '1', '1', '1', '1', '1', '1', '1', '1', '1', '1', '1', '1', '1', '1', '1', '1', '1', '1', '1', '1', '1', '1', '1', '1', '1', '1', '1', '1', '1', '1', '1', '1', '1', '1', '1', '1', '1', '1', '1', '1', '1', '1', '1', '1', '1', '1', '1', '1', '1', '1', '1', '1', '1', '1', '1', '1', '1', '1', '1', '1', '1', '1', '1', '1', '1', '1', '1', '1', '1', '1', '1', '1', '1', '1', '1', '1', '1', '1', '1', '1', '1', '1', '1', '1', '1', '1', '1', '1', '1', '1', '1', '1', '1', '1', '1', '1', '1', '1', '1', '1', '1', '1', '1', '1', '1', '1', '1', '1', '1', '1', '1', '1', '1', '1', '1', '1', '1', '1', '1', '1', '1', '1', '1', '1', '1', '1', '1', '1', '1', '1', '1', '1', '1', '1', '1', '1', '1', '1', '1', '1', '1', '1', '1', '1', '1', '1', '1', '1', '1', '1', '1', '1', '1', '1', '1', '1', '1', '1', '1', '1', '1', '1', '1', '1', '1', '1', '1', '1', '1', '1', '1', '1', '1', '1', '1', '1', '1', '1', '1', '1', '1', '1', '1', '1', '1', '1', '1', '1', '1', '1', '1', '1', '1', '1', '1', '1', '1', '1', '1', '1', '1', '1', '1', '1', '1', '1', '1', '1', '1', '1', '1', '1', '1', '1', '1', '1', '1', '1', '1', '1', '1', '1', '1', '1', '1', '1', '1', '1', '1', '1', '1', '1', '1', '1', '1', '1', '1', '1', '1', '1', '1', '1', '1', '1', '1', '1', '1', '1', '1', '1', '1', '1', '1', '1', '1', '1', '1', '1', '1', '1', '1', '1', '1', '1', '1', '1', '1', '1', '1', '1', '1', '1', '1', '1', '1', '1', '1', '1', '1', '1', '1', '1', '1', '1', '1', '1', '1', '1', '1', '1', '1', '1', '1', '1', '1', '1', '1', '1', '1', '1', '1', '1', '1', '1', '1', '1', '1', '1', '1', '1', '1', '1', '1', '1', '1', '1', '1', '1', '1', '1', '1', '1', '1', '1', '1', '1', '1', '1', '1', '1', '1', '1', '1', '1', '1']\n",
            "(1437,)\n"
          ]
        }
      ]
    },
    {
      "cell_type": "code",
      "source": [
        "accur_afterLDA=np.array(accur_afterLDA)"
      ],
      "metadata": {
        "id": "x_Uq1UnbPiFd"
      },
      "execution_count": 31,
      "outputs": []
    },
    {
      "cell_type": "code",
      "source": [
        "print(accur_afterLDA )\n",
        "print(num_nonfaces)"
      ],
      "metadata": {
        "id": "3Gnte9nFPx2J",
        "colab": {
          "base_uri": "https://localhost:8080/"
        },
        "outputId": "eadaea29-68cd-4b70-dc51-244ca7df0ae7"
      },
      "execution_count": 32,
      "outputs": [
        {
          "output_type": "stream",
          "name": "stdout",
          "text": [
            "[0.90181818 0.88923077 0.87028302 0.88167939 0.88300836]\n",
            "[150, 250, 450, 650, 1037]\n"
          ]
        }
      ]
    },
    {
      "cell_type": "code",
      "source": [
        "plt.plot(num_nonfaces , accur_afterLDA)\n",
        "plt.xlabel('Number of non faces')\n",
        "plt.ylabel('Accuracy')\n",
        "plt.show()"
      ],
      "metadata": {
        "id": "hPOgARfE91PY",
        "colab": {
          "base_uri": "https://localhost:8080/",
          "height": 279
        },
        "outputId": "ca4c1bbe-63fa-452c-875c-ffa453ee8213"
      },
      "execution_count": 33,
      "outputs": [
        {
          "output_type": "display_data",
          "data": {
            "text/plain": [
              "<Figure size 432x288 with 1 Axes>"
            ],
            "image/png": "[encoded data removed]"
          },
          "metadata": {
            "needs_background": "light"
          }
        }
      ]
    },
    {
      "cell_type": "code",
      "source": [
        "####################################################################################################################"
      ],
      "metadata": {
        "id": "NZqmRThp91Vo"
      },
      "execution_count": 34,
      "outputs": []
    },
    {
      "cell_type": "code",
      "source": [
        "print(labels)"
      ],
      "metadata": {
        "colab": {
          "base_uri": "https://localhost:8080/"
        },
        "id": "D9cAJUznRcil",
        "outputId": "2e3c01a6-feeb-4a94-e9c2-12ad8de9cc47"
      },
      "execution_count": 37,
      "outputs": [
        {
          "output_type": "stream",
          "name": "stdout",
          "text": [
            "['0' '0' '0' ... '1' '1' '1']\n"
          ]
        }
      ]
    },
    {
      "cell_type": "code",
      "source": [
        "# DO NOT RUN THIS CELL IF YOU ALREADY HAVE THE PICKLE FILES\n",
        "W = LDA(arr, noOfDims=2)\n",
        "# DO NOT RUN THIS CELL IF YOU ALREADY HAVE THE PICKLE FILES"
      ],
      "metadata": {
        "id": "oqHjk0lRLRcp"
      },
      "execution_count": 35,
      "outputs": []
    },
    {
      "cell_type": "code",
      "source": [
        "#### 7.iii\n",
        "from sklearn.neighbors import KNeighborsClassifier\n",
        "from sklearn.metrics import accuracy_score\n",
        "acc=[]\n",
        "s=[]\n",
        "f=[]\n",
        "knn = KNeighborsClassifier(n_neighbors=1)\n",
        "knn.fit(X_train, labels_train)\n",
        "#before reduction\n",
        "#pred = knn.predict(X_test)\n",
        "#print('labels test',labels_test)\n",
        "#print(pred)\n",
        "knn.score(X_test, labels_test)\n",
        "\n",
        "\n",
        "knn = KNeighborsClassifier(n_neighbors=1)\n",
        "knn.fit(X_train_red, labels_train)\n",
        "print(knn.score(X_test_red, labels_test))\n",
        "pred = knn.predict(X_test_red)\n",
        "print(accuracy_score(pred,labels_test))\n",
        "acc.append(accuracy_score(pred,labels_test))\n",
        "\n",
        "pred = knn.predict(X_test_red)\n",
        "#print(X_test_red,labels_test)\n",
        "#print('labels test',labels_test)\n",
        "#print(pred)\n",
        "for i in range(len(pred)):\n",
        "    if(labels_test[i] != pred[i]):\n",
        "       f.append([X_test_red[i],labels_test[i]])\n",
        "    else:\n",
        "       s.append([X_test_red[i],labels_test[i]])\n",
        "print(f[0])       "
      ],
      "metadata": {
        "id": "8tlSi9_1-bey",
        "colab": {
          "base_uri": "https://localhost:8080/",
          "height": 710
        },
        "outputId": "da73071a-e9fe-41d2-f9a0-6b185fd2044f"
      },
      "execution_count": 36,
      "outputs": [
        {
          "output_type": "error",
          "ename": "ValueError",
          "evalue": "ignored",
          "traceback": [
            "\u001b[0;31m---------------------------------------------------------------------------\u001b[0m",
            "\u001b[0;31mValueError\u001b[0m                                Traceback (most recent call last)",
            "\u001b[0;32m<ipython-input-36-9bf3776b11cf>\u001b[0m in \u001b[0;36m<module>\u001b[0;34m\u001b[0m\n\u001b[1;32m     15\u001b[0m \u001b[0;34m\u001b[0m\u001b[0m\n\u001b[1;32m     16\u001b[0m \u001b[0mknn\u001b[0m \u001b[0;34m=\u001b[0m \u001b[0mKNeighborsClassifier\u001b[0m\u001b[0;34m(\u001b[0m\u001b[0mn_neighbors\u001b[0m\u001b[0;34m=\u001b[0m\u001b[0;36m1\u001b[0m\u001b[0;34m)\u001b[0m\u001b[0;34m\u001b[0m\u001b[0;34m\u001b[0m\u001b[0m\n\u001b[0;32m---> 17\u001b[0;31m \u001b[0mknn\u001b[0m\u001b[0;34m.\u001b[0m\u001b[0mfit\u001b[0m\u001b[0;34m(\u001b[0m\u001b[0mX_train_red\u001b[0m\u001b[0;34m,\u001b[0m \u001b[0mlabels_train\u001b[0m\u001b[0;34m)\u001b[0m\u001b[0;34m\u001b[0m\u001b[0;34m\u001b[0m\u001b[0m\n\u001b[0m\u001b[1;32m     18\u001b[0m \u001b[0mprint\u001b[0m\u001b[0;34m(\u001b[0m\u001b[0mknn\u001b[0m\u001b[0;34m.\u001b[0m\u001b[0mscore\u001b[0m\u001b[0;34m(\u001b[0m\u001b[0mX_test_red\u001b[0m\u001b[0;34m,\u001b[0m \u001b[0mlabels_test\u001b[0m\u001b[0;34m)\u001b[0m\u001b[0;34m)\u001b[0m\u001b[0;34m\u001b[0m\u001b[0;34m\u001b[0m\u001b[0m\n\u001b[1;32m     19\u001b[0m \u001b[0mpred\u001b[0m \u001b[0;34m=\u001b[0m \u001b[0mknn\u001b[0m\u001b[0;34m.\u001b[0m\u001b[0mpredict\u001b[0m\u001b[0;34m(\u001b[0m\u001b[0mX_test_red\u001b[0m\u001b[0;34m)\u001b[0m\u001b[0;34m\u001b[0m\u001b[0;34m\u001b[0m\u001b[0m\n",
            "\u001b[0;32m/usr/local/lib/python3.9/dist-packages/sklearn/neighbors/_classification.py\u001b[0m in \u001b[0;36mfit\u001b[0;34m(self, X, y)\u001b[0m\n\u001b[1;32m    213\u001b[0m         \u001b[0mself\u001b[0m\u001b[0;34m.\u001b[0m\u001b[0m_validate_params\u001b[0m\u001b[0;34m(\u001b[0m\u001b[0;34m)\u001b[0m\u001b[0;34m\u001b[0m\u001b[0;34m\u001b[0m\u001b[0m\n\u001b[1;32m    214\u001b[0m \u001b[0;34m\u001b[0m\u001b[0m\n\u001b[0;32m--> 215\u001b[0;31m         \u001b[0;32mreturn\u001b[0m \u001b[0mself\u001b[0m\u001b[0;34m.\u001b[0m\u001b[0m_fit\u001b[0m\u001b[0;34m(\u001b[0m\u001b[0mX\u001b[0m\u001b[0;34m,\u001b[0m \u001b[0my\u001b[0m\u001b[0;34m)\u001b[0m\u001b[0;34m\u001b[0m\u001b[0;34m\u001b[0m\u001b[0m\n\u001b[0m\u001b[1;32m    216\u001b[0m \u001b[0;34m\u001b[0m\u001b[0m\n\u001b[1;32m    217\u001b[0m     \u001b[0;32mdef\u001b[0m \u001b[0mpredict\u001b[0m\u001b[0;34m(\u001b[0m\u001b[0mself\u001b[0m\u001b[0;34m,\u001b[0m \u001b[0mX\u001b[0m\u001b[0;34m)\u001b[0m\u001b[0;34m:\u001b[0m\u001b[0;34m\u001b[0m\u001b[0;34m\u001b[0m\u001b[0m\n",
            "\u001b[0;32m/usr/local/lib/python3.9/dist-packages/sklearn/neighbors/_base.py\u001b[0m in \u001b[0;36m_fit\u001b[0;34m(self, X, y)\u001b[0m\n\u001b[1;32m    452\u001b[0m         \u001b[0;32mif\u001b[0m \u001b[0mself\u001b[0m\u001b[0;34m.\u001b[0m\u001b[0m_get_tags\u001b[0m\u001b[0;34m(\u001b[0m\u001b[0;34m)\u001b[0m\u001b[0;34m[\u001b[0m\u001b[0;34m\"requires_y\"\u001b[0m\u001b[0;34m]\u001b[0m\u001b[0;34m:\u001b[0m\u001b[0;34m\u001b[0m\u001b[0;34m\u001b[0m\u001b[0m\n\u001b[1;32m    453\u001b[0m             \u001b[0;32mif\u001b[0m \u001b[0;32mnot\u001b[0m \u001b[0misinstance\u001b[0m\u001b[0;34m(\u001b[0m\u001b[0mX\u001b[0m\u001b[0;34m,\u001b[0m \u001b[0;34m(\u001b[0m\u001b[0mKDTree\u001b[0m\u001b[0;34m,\u001b[0m \u001b[0mBallTree\u001b[0m\u001b[0;34m,\u001b[0m \u001b[0mNeighborsBase\u001b[0m\u001b[0;34m)\u001b[0m\u001b[0;34m)\u001b[0m\u001b[0;34m:\u001b[0m\u001b[0;34m\u001b[0m\u001b[0;34m\u001b[0m\u001b[0m\n\u001b[0;32m--> 454\u001b[0;31m                 X, y = self._validate_data(\n\u001b[0m\u001b[1;32m    455\u001b[0m                     \u001b[0mX\u001b[0m\u001b[0;34m,\u001b[0m \u001b[0my\u001b[0m\u001b[0;34m,\u001b[0m \u001b[0maccept_sparse\u001b[0m\u001b[0;34m=\u001b[0m\u001b[0;34m\"csr\"\u001b[0m\u001b[0;34m,\u001b[0m \u001b[0mmulti_output\u001b[0m\u001b[0;34m=\u001b[0m\u001b[0;32mTrue\u001b[0m\u001b[0;34m,\u001b[0m \u001b[0morder\u001b[0m\u001b[0;34m=\u001b[0m\u001b[0;34m\"C\"\u001b[0m\u001b[0;34m\u001b[0m\u001b[0;34m\u001b[0m\u001b[0m\n\u001b[1;32m    456\u001b[0m                 )\n",
            "\u001b[0;32m/usr/local/lib/python3.9/dist-packages/sklearn/base.py\u001b[0m in \u001b[0;36m_validate_data\u001b[0;34m(self, X, y, reset, validate_separately, **check_params)\u001b[0m\n\u001b[1;32m    582\u001b[0m                 \u001b[0my\u001b[0m \u001b[0;34m=\u001b[0m \u001b[0mcheck_array\u001b[0m\u001b[0;34m(\u001b[0m\u001b[0my\u001b[0m\u001b[0;34m,\u001b[0m \u001b[0minput_name\u001b[0m\u001b[0;34m=\u001b[0m\u001b[0;34m\"y\"\u001b[0m\u001b[0;34m,\u001b[0m \u001b[0;34m**\u001b[0m\u001b[0mcheck_y_params\u001b[0m\u001b[0;34m)\u001b[0m\u001b[0;34m\u001b[0m\u001b[0;34m\u001b[0m\u001b[0m\n\u001b[1;32m    583\u001b[0m             \u001b[0;32melse\u001b[0m\u001b[0;34m:\u001b[0m\u001b[0;34m\u001b[0m\u001b[0;34m\u001b[0m\u001b[0m\n\u001b[0;32m--> 584\u001b[0;31m                 \u001b[0mX\u001b[0m\u001b[0;34m,\u001b[0m \u001b[0my\u001b[0m \u001b[0;34m=\u001b[0m \u001b[0mcheck_X_y\u001b[0m\u001b[0;34m(\u001b[0m\u001b[0mX\u001b[0m\u001b[0;34m,\u001b[0m \u001b[0my\u001b[0m\u001b[0;34m,\u001b[0m \u001b[0;34m**\u001b[0m\u001b[0mcheck_params\u001b[0m\u001b[0;34m)\u001b[0m\u001b[0;34m\u001b[0m\u001b[0;34m\u001b[0m\u001b[0m\n\u001b[0m\u001b[1;32m    585\u001b[0m             \u001b[0mout\u001b[0m \u001b[0;34m=\u001b[0m \u001b[0mX\u001b[0m\u001b[0;34m,\u001b[0m \u001b[0my\u001b[0m\u001b[0;34m\u001b[0m\u001b[0;34m\u001b[0m\u001b[0m\n\u001b[1;32m    586\u001b[0m \u001b[0;34m\u001b[0m\u001b[0m\n",
            "\u001b[0;32m/usr/local/lib/python3.9/dist-packages/sklearn/utils/validation.py\u001b[0m in \u001b[0;36mcheck_X_y\u001b[0;34m(X, y, accept_sparse, accept_large_sparse, dtype, order, copy, force_all_finite, ensure_2d, allow_nd, multi_output, ensure_min_samples, ensure_min_features, y_numeric, estimator)\u001b[0m\n\u001b[1;32m   1104\u001b[0m         )\n\u001b[1;32m   1105\u001b[0m \u001b[0;34m\u001b[0m\u001b[0m\n\u001b[0;32m-> 1106\u001b[0;31m     X = check_array(\n\u001b[0m\u001b[1;32m   1107\u001b[0m         \u001b[0mX\u001b[0m\u001b[0;34m,\u001b[0m\u001b[0;34m\u001b[0m\u001b[0;34m\u001b[0m\u001b[0m\n\u001b[1;32m   1108\u001b[0m         \u001b[0maccept_sparse\u001b[0m\u001b[0;34m=\u001b[0m\u001b[0maccept_sparse\u001b[0m\u001b[0;34m,\u001b[0m\u001b[0;34m\u001b[0m\u001b[0;34m\u001b[0m\u001b[0m\n",
            "\u001b[0;32m/usr/local/lib/python3.9/dist-packages/sklearn/utils/validation.py\u001b[0m in \u001b[0;36mcheck_array\u001b[0;34m(array, accept_sparse, accept_large_sparse, dtype, order, copy, force_all_finite, ensure_2d, allow_nd, ensure_min_samples, ensure_min_features, estimator, input_name)\u001b[0m\n\u001b[1;32m    887\u001b[0m         \u001b[0;31m# result is that np.array(..) produces an array of complex dtype\u001b[0m\u001b[0;34m\u001b[0m\u001b[0;34m\u001b[0m\u001b[0m\n\u001b[1;32m    888\u001b[0m         \u001b[0;31m# and we need to catch and raise exception for such cases.\u001b[0m\u001b[0;34m\u001b[0m\u001b[0;34m\u001b[0m\u001b[0m\n\u001b[0;32m--> 889\u001b[0;31m         \u001b[0m_ensure_no_complex_data\u001b[0m\u001b[0;34m(\u001b[0m\u001b[0marray\u001b[0m\u001b[0;34m)\u001b[0m\u001b[0;34m\u001b[0m\u001b[0;34m\u001b[0m\u001b[0m\n\u001b[0m\u001b[1;32m    890\u001b[0m \u001b[0;34m\u001b[0m\u001b[0m\n\u001b[1;32m    891\u001b[0m         \u001b[0;32mif\u001b[0m \u001b[0mensure_2d\u001b[0m\u001b[0;34m:\u001b[0m\u001b[0;34m\u001b[0m\u001b[0;34m\u001b[0m\u001b[0m\n",
            "\u001b[0;32m/usr/local/lib/python3.9/dist-packages/sklearn/utils/validation.py\u001b[0m in \u001b[0;36m_ensure_no_complex_data\u001b[0;34m(array)\u001b[0m\n\u001b[1;32m    576\u001b[0m         \u001b[0;32mand\u001b[0m \u001b[0marray\u001b[0m\u001b[0;34m.\u001b[0m\u001b[0mdtype\u001b[0m\u001b[0;34m.\u001b[0m\u001b[0mkind\u001b[0m \u001b[0;34m==\u001b[0m \u001b[0;34m\"c\"\u001b[0m\u001b[0;34m\u001b[0m\u001b[0;34m\u001b[0m\u001b[0m\n\u001b[1;32m    577\u001b[0m     ):\n\u001b[0;32m--> 578\u001b[0;31m         \u001b[0;32mraise\u001b[0m \u001b[0mValueError\u001b[0m\u001b[0;34m(\u001b[0m\u001b[0;34m\"Complex data not supported\\n{}\\n\"\u001b[0m\u001b[0;34m.\u001b[0m\u001b[0mformat\u001b[0m\u001b[0;34m(\u001b[0m\u001b[0marray\u001b[0m\u001b[0;34m)\u001b[0m\u001b[0;34m)\u001b[0m\u001b[0;34m\u001b[0m\u001b[0;34m\u001b[0m\u001b[0m\n\u001b[0m\u001b[1;32m    579\u001b[0m \u001b[0;34m\u001b[0m\u001b[0m\n\u001b[1;32m    580\u001b[0m \u001b[0;34m\u001b[0m\u001b[0m\n",
            "\u001b[0;31mValueError\u001b[0m: Complex data not supported\n[[  98.05293542 +2.40598168j -214.90093579 -1.31599771j\n   -98.56033229 +2.24083171j ...   24.40452268 +1.39774768j\n   -33.43691684 +2.85744618j -316.36416699 +1.72312025j]\n [  94.85322925 +2.61862488j -194.30445991 +3.58653734j\n  -112.52100672 +0.77150943j ...   13.60739691 +3.15599504j\n   -13.83263511 +0.79870408j -328.5029635  +0.31465964j]\n [  90.4944887  -9.8119125j  -159.85699718 +3.63223538j\n  -122.09982327 +4.10518466j ...   27.91180273 -0.34759552j\n   -19.31609924 +6.75984103j -340.23279828 +1.83040712j]\n ...\n [  71.89228707-11.2546578j  -201.89219876+34.79306403j\n  -120.07012101 +8.23290119j ...   46.45883936 +0.67241293j\n   -39.96442292 +4.66467513j -356.73342596-11.31983526j]\n [ 109.2160701  +1.04169418j -242.06509263 +3.54443023j\n  -119.35765754 +4.91629435j ...   12.98634497 -0.30425548j\n   -22.90770586 +0.45397159j -384.32361457 +0.22015247j]\n [ 140.59674645 +2.32731702j -274.91271155 +1.60189104j\n  -111.56018811 +4.14555915j ...  -31.94160162 -1.56418262j\n    -4.01858638 +0.67426554j -227.47127756 +0.71312829j]]\n"
          ]
        }
      ]
    },
    {
      "cell_type": "code",
      "source": [
        "def KMC(X, k, epsilon=0.01, maxIter=100):\n",
        "  # initializing the error to be max at first\n",
        "  err = float('inf')\n",
        "  # randomly initializing the centroids\n",
        "  centroid = [X[np.random.randint(0, len(X)-1)] for i in range(k)]\n",
        "  while maxIter > 0 and err >= epsilon:\n",
        "    maxIter -= 1\n",
        "    cluster = [[] for i in range(k)]\n",
        "    # copying the old centroids\n",
        "    oldCentroid = copy.deepcopy(centroid)\n",
        "    # assigning each data point to closest cluster\n",
        "    for x in X:\n",
        "      minn, j = float('inf'), 0\n",
        "      for i in range(len(centroid)):\n",
        "        dist = np.linalg.norm(x-centroid[i]) ** 2\n",
        "        if dist < minn: minn, j = dist, i\n",
        "      cluster[j].append(x)\n",
        "    # updating the centroids\n",
        "    for i in range(len(cluster)):\n",
        "      if len(cluster[i]) != 0: centroid[i] = sum(cluster[i]) / len(cluster[i])\n",
        "    # if centroids didn't change, then terminate\n",
        "    err = 0\n",
        "    for i in range(len(centroid)):\n",
        "      err += np.linalg.norm(centroid[i] - oldCentroid[i]) ** 2\n",
        "  return cluster"
      ],
      "metadata": {
        "id": "NKpImacpJa4R"
      },
      "execution_count": null,
      "outputs": []
    }
  ]
}
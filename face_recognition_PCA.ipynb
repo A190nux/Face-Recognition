{
  "nbformat": 4,
  "nbformat_minor": 0,
  "metadata": {
    "colab": {
      "provenance": []
    },
    "kernelspec": {
      "name": "python3",
      "display_name": "Python 3"
    },
    "language_info": {
      "name": "python"
    }
  },
  "cells": [
    {
      "cell_type": "code",
      "execution_count": null,
      "metadata": {
        "id": "MT3flBJqJPZ9"
      },
      "outputs": [],
      "source": [
        "import re\n",
        "import os\n",
        "import copy\n",
        "import pickle\n",
        "import numpy as np\n",
        "import pandas as pd\n",
        "import matplotlib.pyplot as plt\n",
        "from google.colab import drive\n",
        "from skimage.io import imread\n",
        "from sklearn.neighbors import KNeighborsClassifier as ks"
      ]
    },
    {
      "cell_type": "code",
      "source": [
        "from google.colab import drive\n",
        "drive.mount('/content/drive')"
      ],
      "metadata": {
        "colab": {
          "base_uri": "https://localhost:8080/"
        },
        "id": "2VVQlRm_KGyl",
        "outputId": "bc9c6587-834f-47b6-d33d-b756d5d97dab"
      },
      "execution_count": null,
      "outputs": [
        {
          "output_type": "stream",
          "name": "stdout",
          "text": [
            "Drive already mounted at /content/drive; to attempt to forcibly remount, call drive.mount(\"/content/drive\", force_remount=True).\n"
          ]
        }
      ]
    },
    {
      "cell_type": "code",
      "source": [
        "arr=[]\n",
        "labels = []\n",
        "i=0\n",
        "j=0\n",
        "for root,di,files in os.walk(\"/content/drive/MyDrive/Colab Notebooks/Face-Recognition/dataset\"): \n",
        "  for name in files:\n",
        "    if name.endswith(\"pgm\"):\n",
        "      root_folder = os.path.split(root)\n",
        "      res=re.findall('(\\d+)',root_folder[1])\n",
        "      image = imread(os.path.join(root,name))\n",
        "      image=image.flatten(order='C')\n",
        "      arr.append(image)\n",
        "      labels.append(int(res[0]))\n",
        "      i=i+1\n",
        "arr=np.array(arr)   \n",
        "labels=np.array(labels)    "
      ],
      "metadata": {
        "id": "DfOlUIOy4e2i"
      },
      "execution_count": null,
      "outputs": []
    },
    {
      "cell_type": "code",
      "source": [
        "print(labels.shape)       \n",
        "print(arr.shape)\n",
        "print(labels[2])"
      ],
      "metadata": {
        "colab": {
          "base_uri": "https://localhost:8080/"
        },
        "id": "bx05rnRZ7Q04",
        "outputId": "0efc6a59-fac7-4637-b364-ed0d2f133b42"
      },
      "execution_count": null,
      "outputs": [
        {
          "output_type": "stream",
          "name": "stdout",
          "text": [
            "(400,)\n",
            "(400, 10304)\n",
            "1\n"
          ]
        }
      ]
    },
    {
      "cell_type": "code",
      "source": [
        "# adding the data to a dataframe\n",
        "df = pd.DataFrame(arr) \n",
        "df['label'] = pd.DataFrame(labels)\n",
        "# sorting the data according to labels\n",
        "df.sort_values(\"label\", inplace=True)\n",
        "df.head(5)"
      ],
      "metadata": {
        "colab": {
          "base_uri": "https://localhost:8080/",
          "height": 236
        },
        "id": "cVugZrV8_OSp",
        "outputId": "6300195c-ea47-48d6-a0c8-fa32d526d55a"
      },
      "execution_count": null,
      "outputs": [
        {
          "output_type": "execute_result",
          "data": {
            "text/plain": [
              "    0   1   2   3   4   5   6   7   8   9  ...  10295  10296  10297  10298  \\\n",
              "0  43  50  41  58  78  83  67  48  44  46  ...    164    164    162    159   \n",
              "8  63  53  35  36  33  34  31  35  39  43  ...    169    166    161    158   \n",
              "7  41  47  47  46  44  49  48  58  61  49  ...     34     35     34     36   \n",
              "6  44  43  32  32  30  30  38  40  48  66  ...     42     42     40     33   \n",
              "5  48  49  45  47  49  57  39  42  53  49  ...     44     40     41     49   \n",
              "\n",
              "   10299  10300  10301  10302  10303  label  \n",
              "0    156    155    158    153    169      1  \n",
              "8    169    137     41     10     24      1  \n",
              "7     34     39     35     37     38      1  \n",
              "6     29     37     43     43     37      1  \n",
              "5     42     44     47     46     46      1  \n",
              "\n",
              "[5 rows x 10305 columns]"
            ],
            "text/html": [
              "\n",
              "  <div id=\"df-e099c1d3-9bcd-4726-bb0c-7576d06d2e3f\">\n",
              "    <div class=\"colab-df-container\">\n",
              "      <div>\n",
              "<style scoped>\n",
              "    .dataframe tbody tr th:only-of-type {\n",
              "        vertical-align: middle;\n",
              "    }\n",
              "\n",
              "    .dataframe tbody tr th {\n",
              "        vertical-align: top;\n",
              "    }\n",
              "\n",
              "    .dataframe thead th {\n",
              "        text-align: right;\n",
              "    }\n",
              "</style>\n",
              "<table border=\"1\" class=\"dataframe\">\n",
              "  <thead>\n",
              "    <tr style=\"text-align: right;\">\n",
              "      <th></th>\n",
              "      <th>0</th>\n",
              "      <th>1</th>\n",
              "      <th>2</th>\n",
              "      <th>3</th>\n",
              "      <th>4</th>\n",
              "      <th>5</th>\n",
              "      <th>6</th>\n",
              "      <th>7</th>\n",
              "      <th>8</th>\n",
              "      <th>9</th>\n",
              "      <th>...</th>\n",
              "      <th>10295</th>\n",
              "      <th>10296</th>\n",
              "      <th>10297</th>\n",
              "      <th>10298</th>\n",
              "      <th>10299</th>\n",
              "      <th>10300</th>\n",
              "      <th>10301</th>\n",
              "      <th>10302</th>\n",
              "      <th>10303</th>\n",
              "      <th>label</th>\n",
              "    </tr>\n",
              "  </thead>\n",
              "  <tbody>\n",
              "    <tr>\n",
              "      <th>0</th>\n",
              "      <td>43</td>\n",
              "      <td>50</td>\n",
              "      <td>41</td>\n",
              "      <td>58</td>\n",
              "      <td>78</td>\n",
              "      <td>83</td>\n",
              "      <td>67</td>\n",
              "      <td>48</td>\n",
              "      <td>44</td>\n",
              "      <td>46</td>\n",
              "      <td>...</td>\n",
              "      <td>164</td>\n",
              "      <td>164</td>\n",
              "      <td>162</td>\n",
              "      <td>159</td>\n",
              "      <td>156</td>\n",
              "      <td>155</td>\n",
              "      <td>158</td>\n",
              "      <td>153</td>\n",
              "      <td>169</td>\n",
              "      <td>1</td>\n",
              "    </tr>\n",
              "    <tr>\n",
              "      <th>8</th>\n",
              "      <td>63</td>\n",
              "      <td>53</td>\n",
              "      <td>35</td>\n",
              "      <td>36</td>\n",
              "      <td>33</td>\n",
              "      <td>34</td>\n",
              "      <td>31</td>\n",
              "      <td>35</td>\n",
              "      <td>39</td>\n",
              "      <td>43</td>\n",
              "      <td>...</td>\n",
              "      <td>169</td>\n",
              "      <td>166</td>\n",
              "      <td>161</td>\n",
              "      <td>158</td>\n",
              "      <td>169</td>\n",
              "      <td>137</td>\n",
              "      <td>41</td>\n",
              "      <td>10</td>\n",
              "      <td>24</td>\n",
              "      <td>1</td>\n",
              "    </tr>\n",
              "    <tr>\n",
              "      <th>7</th>\n",
              "      <td>41</td>\n",
              "      <td>47</td>\n",
              "      <td>47</td>\n",
              "      <td>46</td>\n",
              "      <td>44</td>\n",
              "      <td>49</td>\n",
              "      <td>48</td>\n",
              "      <td>58</td>\n",
              "      <td>61</td>\n",
              "      <td>49</td>\n",
              "      <td>...</td>\n",
              "      <td>34</td>\n",
              "      <td>35</td>\n",
              "      <td>34</td>\n",
              "      <td>36</td>\n",
              "      <td>34</td>\n",
              "      <td>39</td>\n",
              "      <td>35</td>\n",
              "      <td>37</td>\n",
              "      <td>38</td>\n",
              "      <td>1</td>\n",
              "    </tr>\n",
              "    <tr>\n",
              "      <th>6</th>\n",
              "      <td>44</td>\n",
              "      <td>43</td>\n",
              "      <td>32</td>\n",
              "      <td>32</td>\n",
              "      <td>30</td>\n",
              "      <td>30</td>\n",
              "      <td>38</td>\n",
              "      <td>40</td>\n",
              "      <td>48</td>\n",
              "      <td>66</td>\n",
              "      <td>...</td>\n",
              "      <td>42</td>\n",
              "      <td>42</td>\n",
              "      <td>40</td>\n",
              "      <td>33</td>\n",
              "      <td>29</td>\n",
              "      <td>37</td>\n",
              "      <td>43</td>\n",
              "      <td>43</td>\n",
              "      <td>37</td>\n",
              "      <td>1</td>\n",
              "    </tr>\n",
              "    <tr>\n",
              "      <th>5</th>\n",
              "      <td>48</td>\n",
              "      <td>49</td>\n",
              "      <td>45</td>\n",
              "      <td>47</td>\n",
              "      <td>49</td>\n",
              "      <td>57</td>\n",
              "      <td>39</td>\n",
              "      <td>42</td>\n",
              "      <td>53</td>\n",
              "      <td>49</td>\n",
              "      <td>...</td>\n",
              "      <td>44</td>\n",
              "      <td>40</td>\n",
              "      <td>41</td>\n",
              "      <td>49</td>\n",
              "      <td>42</td>\n",
              "      <td>44</td>\n",
              "      <td>47</td>\n",
              "      <td>46</td>\n",
              "      <td>46</td>\n",
              "      <td>1</td>\n",
              "    </tr>\n",
              "  </tbody>\n",
              "</table>\n",
              "<p>5 rows × 10305 columns</p>\n",
              "</div>\n",
              "      <button class=\"colab-df-convert\" onclick=\"convertToInteractive('df-e099c1d3-9bcd-4726-bb0c-7576d06d2e3f')\"\n",
              "              title=\"Convert this dataframe to an interactive table.\"\n",
              "              style=\"display:none;\">\n",
              "        \n",
              "  <svg xmlns=\"http://www.w3.org/2000/svg\" height=\"24px\"viewBox=\"0 0 24 24\"\n",
              "       width=\"24px\">\n",
              "    <path d=\"M0 0h24v24H0V0z\" fill=\"none\"/>\n",
              "    <path d=\"M18.56 5.44l.94 2.06.94-2.06 2.06-.94-2.06-.94-.94-2.06-.94 2.06-2.06.94zm-11 1L8.5 8.5l.94-2.06 2.06-.94-2.06-.94L8.5 2.5l-.94 2.06-2.06.94zm10 10l.94 2.06.94-2.06 2.06-.94-2.06-.94-.94-2.06-.94 2.06-2.06.94z\"/><path d=\"M17.41 7.96l-1.37-1.37c-.4-.4-.92-.59-1.43-.59-.52 0-1.04.2-1.43.59L10.3 9.45l-7.72 7.72c-.78.78-.78 2.05 0 2.83L4 21.41c.39.39.9.59 1.41.59.51 0 1.02-.2 1.41-.59l7.78-7.78 2.81-2.81c.8-.78.8-2.07 0-2.86zM5.41 20L4 18.59l7.72-7.72 1.47 1.35L5.41 20z\"/>\n",
              "  </svg>\n",
              "      </button>\n",
              "      \n",
              "  <style>\n",
              "    .colab-df-container {\n",
              "      display:flex;\n",
              "      flex-wrap:wrap;\n",
              "      gap: 12px;\n",
              "    }\n",
              "\n",
              "    .colab-df-convert {\n",
              "      background-color: #E8F0FE;\n",
              "      border: none;\n",
              "      border-radius: 50%;\n",
              "      cursor: pointer;\n",
              "      display: none;\n",
              "      fill: #1967D2;\n",
              "      height: 32px;\n",
              "      padding: 0 0 0 0;\n",
              "      width: 32px;\n",
              "    }\n",
              "\n",
              "    .colab-df-convert:hover {\n",
              "      background-color: #E2EBFA;\n",
              "      box-shadow: 0px 1px 2px rgba(60, 64, 67, 0.3), 0px 1px 3px 1px rgba(60, 64, 67, 0.15);\n",
              "      fill: #174EA6;\n",
              "    }\n",
              "\n",
              "    [theme=dark] .colab-df-convert {\n",
              "      background-color: #3B4455;\n",
              "      fill: #D2E3FC;\n",
              "    }\n",
              "\n",
              "    [theme=dark] .colab-df-convert:hover {\n",
              "      background-color: #434B5C;\n",
              "      box-shadow: 0px 1px 3px 1px rgba(0, 0, 0, 0.15);\n",
              "      filter: drop-shadow(0px 1px 2px rgba(0, 0, 0, 0.3));\n",
              "      fill: #FFFFFF;\n",
              "    }\n",
              "  </style>\n",
              "\n",
              "      <script>\n",
              "        const buttonEl =\n",
              "          document.querySelector('#df-e099c1d3-9bcd-4726-bb0c-7576d06d2e3f button.colab-df-convert');\n",
              "        buttonEl.style.display =\n",
              "          google.colab.kernel.accessAllowed ? 'block' : 'none';\n",
              "\n",
              "        async function convertToInteractive(key) {\n",
              "          const element = document.querySelector('#df-e099c1d3-9bcd-4726-bb0c-7576d06d2e3f');\n",
              "          const dataTable =\n",
              "            await google.colab.kernel.invokeFunction('convertToInteractive',\n",
              "                                                     [key], {});\n",
              "          if (!dataTable) return;\n",
              "\n",
              "          const docLinkHtml = 'Like what you see? Visit the ' +\n",
              "            '<a target=\"_blank\" href=https://colab.research.google.com/notebooks/data_table.ipynb>data table notebook</a>'\n",
              "            + ' to learn more about interactive tables.';\n",
              "          element.innerHTML = '';\n",
              "          dataTable['output_type'] = 'display_data';\n",
              "          await google.colab.output.renderOutput(dataTable, element);\n",
              "          const docLink = document.createElement('div');\n",
              "          docLink.innerHTML = docLinkHtml;\n",
              "          element.appendChild(docLink);\n",
              "        }\n",
              "      </script>\n",
              "    </div>\n",
              "  </div>\n",
              "  "
            ]
          },
          "metadata": {},
          "execution_count": 5
        }
      ]
    },
    {
      "cell_type": "code",
      "source": [
        "# seperating images from labels\n",
        "Y = np.array(df['label'])\n",
        "df = df.drop(axis=1, labels=\"label\")"
      ],
      "metadata": {
        "id": "eX1YeAfdDjVA"
      },
      "execution_count": null,
      "outputs": []
    },
    {
      "cell_type": "code",
      "source": [
        "df = df.reset_index()\n",
        "df.head()"
      ],
      "metadata": {
        "colab": {
          "base_uri": "https://localhost:8080/",
          "height": 236
        },
        "id": "GqkYLPb2M4Pl",
        "outputId": "a5389cff-add7-475f-85b2-3d7cbf05b229"
      },
      "execution_count": null,
      "outputs": [
        {
          "output_type": "execute_result",
          "data": {
            "text/plain": [
              "   index   0   1   2   3   4   5   6   7   8  ...  10294  10295  10296  10297  \\\n",
              "0      0  43  50  41  58  78  83  67  48  44  ...    167    164    164    162   \n",
              "1      8  63  53  35  36  33  34  31  35  39  ...    173    169    166    161   \n",
              "2      7  41  47  47  46  44  49  48  58  61  ...     27     34     35     34   \n",
              "3      6  44  43  32  32  30  30  38  40  48  ...     37     42     42     40   \n",
              "4      5  48  49  45  47  49  57  39  42  53  ...     39     44     40     41   \n",
              "\n",
              "   10298  10299  10300  10301  10302  10303  \n",
              "0    159    156    155    158    153    169  \n",
              "1    158    169    137     41     10     24  \n",
              "2     36     34     39     35     37     38  \n",
              "3     33     29     37     43     43     37  \n",
              "4     49     42     44     47     46     46  \n",
              "\n",
              "[5 rows x 10305 columns]"
            ],
            "text/html": [
              "\n",
              "  <div id=\"df-965eecc9-e7d5-40e5-b7d2-394d46b620d9\">\n",
              "    <div class=\"colab-df-container\">\n",
              "      <div>\n",
              "<style scoped>\n",
              "    .dataframe tbody tr th:only-of-type {\n",
              "        vertical-align: middle;\n",
              "    }\n",
              "\n",
              "    .dataframe tbody tr th {\n",
              "        vertical-align: top;\n",
              "    }\n",
              "\n",
              "    .dataframe thead th {\n",
              "        text-align: right;\n",
              "    }\n",
              "</style>\n",
              "<table border=\"1\" class=\"dataframe\">\n",
              "  <thead>\n",
              "    <tr style=\"text-align: right;\">\n",
              "      <th></th>\n",
              "      <th>index</th>\n",
              "      <th>0</th>\n",
              "      <th>1</th>\n",
              "      <th>2</th>\n",
              "      <th>3</th>\n",
              "      <th>4</th>\n",
              "      <th>5</th>\n",
              "      <th>6</th>\n",
              "      <th>7</th>\n",
              "      <th>8</th>\n",
              "      <th>...</th>\n",
              "      <th>10294</th>\n",
              "      <th>10295</th>\n",
              "      <th>10296</th>\n",
              "      <th>10297</th>\n",
              "      <th>10298</th>\n",
              "      <th>10299</th>\n",
              "      <th>10300</th>\n",
              "      <th>10301</th>\n",
              "      <th>10302</th>\n",
              "      <th>10303</th>\n",
              "    </tr>\n",
              "  </thead>\n",
              "  <tbody>\n",
              "    <tr>\n",
              "      <th>0</th>\n",
              "      <td>0</td>\n",
              "      <td>43</td>\n",
              "      <td>50</td>\n",
              "      <td>41</td>\n",
              "      <td>58</td>\n",
              "      <td>78</td>\n",
              "      <td>83</td>\n",
              "      <td>67</td>\n",
              "      <td>48</td>\n",
              "      <td>44</td>\n",
              "      <td>...</td>\n",
              "      <td>167</td>\n",
              "      <td>164</td>\n",
              "      <td>164</td>\n",
              "      <td>162</td>\n",
              "      <td>159</td>\n",
              "      <td>156</td>\n",
              "      <td>155</td>\n",
              "      <td>158</td>\n",
              "      <td>153</td>\n",
              "      <td>169</td>\n",
              "    </tr>\n",
              "    <tr>\n",
              "      <th>1</th>\n",
              "      <td>8</td>\n",
              "      <td>63</td>\n",
              "      <td>53</td>\n",
              "      <td>35</td>\n",
              "      <td>36</td>\n",
              "      <td>33</td>\n",
              "      <td>34</td>\n",
              "      <td>31</td>\n",
              "      <td>35</td>\n",
              "      <td>39</td>\n",
              "      <td>...</td>\n",
              "      <td>173</td>\n",
              "      <td>169</td>\n",
              "      <td>166</td>\n",
              "      <td>161</td>\n",
              "      <td>158</td>\n",
              "      <td>169</td>\n",
              "      <td>137</td>\n",
              "      <td>41</td>\n",
              "      <td>10</td>\n",
              "      <td>24</td>\n",
              "    </tr>\n",
              "    <tr>\n",
              "      <th>2</th>\n",
              "      <td>7</td>\n",
              "      <td>41</td>\n",
              "      <td>47</td>\n",
              "      <td>47</td>\n",
              "      <td>46</td>\n",
              "      <td>44</td>\n",
              "      <td>49</td>\n",
              "      <td>48</td>\n",
              "      <td>58</td>\n",
              "      <td>61</td>\n",
              "      <td>...</td>\n",
              "      <td>27</td>\n",
              "      <td>34</td>\n",
              "      <td>35</td>\n",
              "      <td>34</td>\n",
              "      <td>36</td>\n",
              "      <td>34</td>\n",
              "      <td>39</td>\n",
              "      <td>35</td>\n",
              "      <td>37</td>\n",
              "      <td>38</td>\n",
              "    </tr>\n",
              "    <tr>\n",
              "      <th>3</th>\n",
              "      <td>6</td>\n",
              "      <td>44</td>\n",
              "      <td>43</td>\n",
              "      <td>32</td>\n",
              "      <td>32</td>\n",
              "      <td>30</td>\n",
              "      <td>30</td>\n",
              "      <td>38</td>\n",
              "      <td>40</td>\n",
              "      <td>48</td>\n",
              "      <td>...</td>\n",
              "      <td>37</td>\n",
              "      <td>42</td>\n",
              "      <td>42</td>\n",
              "      <td>40</td>\n",
              "      <td>33</td>\n",
              "      <td>29</td>\n",
              "      <td>37</td>\n",
              "      <td>43</td>\n",
              "      <td>43</td>\n",
              "      <td>37</td>\n",
              "    </tr>\n",
              "    <tr>\n",
              "      <th>4</th>\n",
              "      <td>5</td>\n",
              "      <td>48</td>\n",
              "      <td>49</td>\n",
              "      <td>45</td>\n",
              "      <td>47</td>\n",
              "      <td>49</td>\n",
              "      <td>57</td>\n",
              "      <td>39</td>\n",
              "      <td>42</td>\n",
              "      <td>53</td>\n",
              "      <td>...</td>\n",
              "      <td>39</td>\n",
              "      <td>44</td>\n",
              "      <td>40</td>\n",
              "      <td>41</td>\n",
              "      <td>49</td>\n",
              "      <td>42</td>\n",
              "      <td>44</td>\n",
              "      <td>47</td>\n",
              "      <td>46</td>\n",
              "      <td>46</td>\n",
              "    </tr>\n",
              "  </tbody>\n",
              "</table>\n",
              "<p>5 rows × 10305 columns</p>\n",
              "</div>\n",
              "      <button class=\"colab-df-convert\" onclick=\"convertToInteractive('df-965eecc9-e7d5-40e5-b7d2-394d46b620d9')\"\n",
              "              title=\"Convert this dataframe to an interactive table.\"\n",
              "              style=\"display:none;\">\n",
              "        \n",
              "  <svg xmlns=\"http://www.w3.org/2000/svg\" height=\"24px\"viewBox=\"0 0 24 24\"\n",
              "       width=\"24px\">\n",
              "    <path d=\"M0 0h24v24H0V0z\" fill=\"none\"/>\n",
              "    <path d=\"M18.56 5.44l.94 2.06.94-2.06 2.06-.94-2.06-.94-.94-2.06-.94 2.06-2.06.94zm-11 1L8.5 8.5l.94-2.06 2.06-.94-2.06-.94L8.5 2.5l-.94 2.06-2.06.94zm10 10l.94 2.06.94-2.06 2.06-.94-2.06-.94-.94-2.06-.94 2.06-2.06.94z\"/><path d=\"M17.41 7.96l-1.37-1.37c-.4-.4-.92-.59-1.43-.59-.52 0-1.04.2-1.43.59L10.3 9.45l-7.72 7.72c-.78.78-.78 2.05 0 2.83L4 21.41c.39.39.9.59 1.41.59.51 0 1.02-.2 1.41-.59l7.78-7.78 2.81-2.81c.8-.78.8-2.07 0-2.86zM5.41 20L4 18.59l7.72-7.72 1.47 1.35L5.41 20z\"/>\n",
              "  </svg>\n",
              "      </button>\n",
              "      \n",
              "  <style>\n",
              "    .colab-df-container {\n",
              "      display:flex;\n",
              "      flex-wrap:wrap;\n",
              "      gap: 12px;\n",
              "    }\n",
              "\n",
              "    .colab-df-convert {\n",
              "      background-color: #E8F0FE;\n",
              "      border: none;\n",
              "      border-radius: 50%;\n",
              "      cursor: pointer;\n",
              "      display: none;\n",
              "      fill: #1967D2;\n",
              "      height: 32px;\n",
              "      padding: 0 0 0 0;\n",
              "      width: 32px;\n",
              "    }\n",
              "\n",
              "    .colab-df-convert:hover {\n",
              "      background-color: #E2EBFA;\n",
              "      box-shadow: 0px 1px 2px rgba(60, 64, 67, 0.3), 0px 1px 3px 1px rgba(60, 64, 67, 0.15);\n",
              "      fill: #174EA6;\n",
              "    }\n",
              "\n",
              "    [theme=dark] .colab-df-convert {\n",
              "      background-color: #3B4455;\n",
              "      fill: #D2E3FC;\n",
              "    }\n",
              "\n",
              "    [theme=dark] .colab-df-convert:hover {\n",
              "      background-color: #434B5C;\n",
              "      box-shadow: 0px 1px 3px 1px rgba(0, 0, 0, 0.15);\n",
              "      filter: drop-shadow(0px 1px 2px rgba(0, 0, 0, 0.3));\n",
              "      fill: #FFFFFF;\n",
              "    }\n",
              "  </style>\n",
              "\n",
              "      <script>\n",
              "        const buttonEl =\n",
              "          document.querySelector('#df-965eecc9-e7d5-40e5-b7d2-394d46b620d9 button.colab-df-convert');\n",
              "        buttonEl.style.display =\n",
              "          google.colab.kernel.accessAllowed ? 'block' : 'none';\n",
              "\n",
              "        async function convertToInteractive(key) {\n",
              "          const element = document.querySelector('#df-965eecc9-e7d5-40e5-b7d2-394d46b620d9');\n",
              "          const dataTable =\n",
              "            await google.colab.kernel.invokeFunction('convertToInteractive',\n",
              "                                                     [key], {});\n",
              "          if (!dataTable) return;\n",
              "\n",
              "          const docLinkHtml = 'Like what you see? Visit the ' +\n",
              "            '<a target=\"_blank\" href=https://colab.research.google.com/notebooks/data_table.ipynb>data table notebook</a>'\n",
              "            + ' to learn more about interactive tables.';\n",
              "          element.innerHTML = '';\n",
              "          dataTable['output_type'] = 'display_data';\n",
              "          await google.colab.output.renderOutput(dataTable, element);\n",
              "          const docLink = document.createElement('div');\n",
              "          docLink.innerHTML = docLinkHtml;\n",
              "          element.appendChild(docLink);\n",
              "        }\n",
              "      </script>\n",
              "    </div>\n",
              "  </div>\n",
              "  "
            ]
          },
          "metadata": {},
          "execution_count": 7
        }
      ]
    },
    {
      "cell_type": "code",
      "source": [
        "df = df.drop(axis=1, labels=\"index\")\n",
        "df.head()"
      ],
      "metadata": {
        "colab": {
          "base_uri": "https://localhost:8080/",
          "height": 236
        },
        "id": "PUAtz2YNNN-X",
        "outputId": "7a6f1f62-2cef-4baa-8dd1-a3fa5084d0c6"
      },
      "execution_count": null,
      "outputs": [
        {
          "output_type": "execute_result",
          "data": {
            "text/plain": [
              "   0      1      2      3      4      5      6      7      8      9      ...  \\\n",
              "0     43     50     41     58     78     83     67     48     44     46  ...   \n",
              "1     63     53     35     36     33     34     31     35     39     43  ...   \n",
              "2     41     47     47     46     44     49     48     58     61     49  ...   \n",
              "3     44     43     32     32     30     30     38     40     48     66  ...   \n",
              "4     48     49     45     47     49     57     39     42     53     49  ...   \n",
              "\n",
              "   10294  10295  10296  10297  10298  10299  10300  10301  10302  10303  \n",
              "0    167    164    164    162    159    156    155    158    153    169  \n",
              "1    173    169    166    161    158    169    137     41     10     24  \n",
              "2     27     34     35     34     36     34     39     35     37     38  \n",
              "3     37     42     42     40     33     29     37     43     43     37  \n",
              "4     39     44     40     41     49     42     44     47     46     46  \n",
              "\n",
              "[5 rows x 10304 columns]"
            ],
            "text/html": [
              "\n",
              "  <div id=\"df-cdc7dd23-a9be-4ffa-ae95-18280236482a\">\n",
              "    <div class=\"colab-df-container\">\n",
              "      <div>\n",
              "<style scoped>\n",
              "    .dataframe tbody tr th:only-of-type {\n",
              "        vertical-align: middle;\n",
              "    }\n",
              "\n",
              "    .dataframe tbody tr th {\n",
              "        vertical-align: top;\n",
              "    }\n",
              "\n",
              "    .dataframe thead th {\n",
              "        text-align: right;\n",
              "    }\n",
              "</style>\n",
              "<table border=\"1\" class=\"dataframe\">\n",
              "  <thead>\n",
              "    <tr style=\"text-align: right;\">\n",
              "      <th></th>\n",
              "      <th>0</th>\n",
              "      <th>1</th>\n",
              "      <th>2</th>\n",
              "      <th>3</th>\n",
              "      <th>4</th>\n",
              "      <th>5</th>\n",
              "      <th>6</th>\n",
              "      <th>7</th>\n",
              "      <th>8</th>\n",
              "      <th>9</th>\n",
              "      <th>...</th>\n",
              "      <th>10294</th>\n",
              "      <th>10295</th>\n",
              "      <th>10296</th>\n",
              "      <th>10297</th>\n",
              "      <th>10298</th>\n",
              "      <th>10299</th>\n",
              "      <th>10300</th>\n",
              "      <th>10301</th>\n",
              "      <th>10302</th>\n",
              "      <th>10303</th>\n",
              "    </tr>\n",
              "  </thead>\n",
              "  <tbody>\n",
              "    <tr>\n",
              "      <th>0</th>\n",
              "      <td>43</td>\n",
              "      <td>50</td>\n",
              "      <td>41</td>\n",
              "      <td>58</td>\n",
              "      <td>78</td>\n",
              "      <td>83</td>\n",
              "      <td>67</td>\n",
              "      <td>48</td>\n",
              "      <td>44</td>\n",
              "      <td>46</td>\n",
              "      <td>...</td>\n",
              "      <td>167</td>\n",
              "      <td>164</td>\n",
              "      <td>164</td>\n",
              "      <td>162</td>\n",
              "      <td>159</td>\n",
              "      <td>156</td>\n",
              "      <td>155</td>\n",
              "      <td>158</td>\n",
              "      <td>153</td>\n",
              "      <td>169</td>\n",
              "    </tr>\n",
              "    <tr>\n",
              "      <th>1</th>\n",
              "      <td>63</td>\n",
              "      <td>53</td>\n",
              "      <td>35</td>\n",
              "      <td>36</td>\n",
              "      <td>33</td>\n",
              "      <td>34</td>\n",
              "      <td>31</td>\n",
              "      <td>35</td>\n",
              "      <td>39</td>\n",
              "      <td>43</td>\n",
              "      <td>...</td>\n",
              "      <td>173</td>\n",
              "      <td>169</td>\n",
              "      <td>166</td>\n",
              "      <td>161</td>\n",
              "      <td>158</td>\n",
              "      <td>169</td>\n",
              "      <td>137</td>\n",
              "      <td>41</td>\n",
              "      <td>10</td>\n",
              "      <td>24</td>\n",
              "    </tr>\n",
              "    <tr>\n",
              "      <th>2</th>\n",
              "      <td>41</td>\n",
              "      <td>47</td>\n",
              "      <td>47</td>\n",
              "      <td>46</td>\n",
              "      <td>44</td>\n",
              "      <td>49</td>\n",
              "      <td>48</td>\n",
              "      <td>58</td>\n",
              "      <td>61</td>\n",
              "      <td>49</td>\n",
              "      <td>...</td>\n",
              "      <td>27</td>\n",
              "      <td>34</td>\n",
              "      <td>35</td>\n",
              "      <td>34</td>\n",
              "      <td>36</td>\n",
              "      <td>34</td>\n",
              "      <td>39</td>\n",
              "      <td>35</td>\n",
              "      <td>37</td>\n",
              "      <td>38</td>\n",
              "    </tr>\n",
              "    <tr>\n",
              "      <th>3</th>\n",
              "      <td>44</td>\n",
              "      <td>43</td>\n",
              "      <td>32</td>\n",
              "      <td>32</td>\n",
              "      <td>30</td>\n",
              "      <td>30</td>\n",
              "      <td>38</td>\n",
              "      <td>40</td>\n",
              "      <td>48</td>\n",
              "      <td>66</td>\n",
              "      <td>...</td>\n",
              "      <td>37</td>\n",
              "      <td>42</td>\n",
              "      <td>42</td>\n",
              "      <td>40</td>\n",
              "      <td>33</td>\n",
              "      <td>29</td>\n",
              "      <td>37</td>\n",
              "      <td>43</td>\n",
              "      <td>43</td>\n",
              "      <td>37</td>\n",
              "    </tr>\n",
              "    <tr>\n",
              "      <th>4</th>\n",
              "      <td>48</td>\n",
              "      <td>49</td>\n",
              "      <td>45</td>\n",
              "      <td>47</td>\n",
              "      <td>49</td>\n",
              "      <td>57</td>\n",
              "      <td>39</td>\n",
              "      <td>42</td>\n",
              "      <td>53</td>\n",
              "      <td>49</td>\n",
              "      <td>...</td>\n",
              "      <td>39</td>\n",
              "      <td>44</td>\n",
              "      <td>40</td>\n",
              "      <td>41</td>\n",
              "      <td>49</td>\n",
              "      <td>42</td>\n",
              "      <td>44</td>\n",
              "      <td>47</td>\n",
              "      <td>46</td>\n",
              "      <td>46</td>\n",
              "    </tr>\n",
              "  </tbody>\n",
              "</table>\n",
              "<p>5 rows × 10304 columns</p>\n",
              "</div>\n",
              "      <button class=\"colab-df-convert\" onclick=\"convertToInteractive('df-cdc7dd23-a9be-4ffa-ae95-18280236482a')\"\n",
              "              title=\"Convert this dataframe to an interactive table.\"\n",
              "              style=\"display:none;\">\n",
              "        \n",
              "  <svg xmlns=\"http://www.w3.org/2000/svg\" height=\"24px\"viewBox=\"0 0 24 24\"\n",
              "       width=\"24px\">\n",
              "    <path d=\"M0 0h24v24H0V0z\" fill=\"none\"/>\n",
              "    <path d=\"M18.56 5.44l.94 2.06.94-2.06 2.06-.94-2.06-.94-.94-2.06-.94 2.06-2.06.94zm-11 1L8.5 8.5l.94-2.06 2.06-.94-2.06-.94L8.5 2.5l-.94 2.06-2.06.94zm10 10l.94 2.06.94-2.06 2.06-.94-2.06-.94-.94-2.06-.94 2.06-2.06.94z\"/><path d=\"M17.41 7.96l-1.37-1.37c-.4-.4-.92-.59-1.43-.59-.52 0-1.04.2-1.43.59L10.3 9.45l-7.72 7.72c-.78.78-.78 2.05 0 2.83L4 21.41c.39.39.9.59 1.41.59.51 0 1.02-.2 1.41-.59l7.78-7.78 2.81-2.81c.8-.78.8-2.07 0-2.86zM5.41 20L4 18.59l7.72-7.72 1.47 1.35L5.41 20z\"/>\n",
              "  </svg>\n",
              "      </button>\n",
              "      \n",
              "  <style>\n",
              "    .colab-df-container {\n",
              "      display:flex;\n",
              "      flex-wrap:wrap;\n",
              "      gap: 12px;\n",
              "    }\n",
              "\n",
              "    .colab-df-convert {\n",
              "      background-color: #E8F0FE;\n",
              "      border: none;\n",
              "      border-radius: 50%;\n",
              "      cursor: pointer;\n",
              "      display: none;\n",
              "      fill: #1967D2;\n",
              "      height: 32px;\n",
              "      padding: 0 0 0 0;\n",
              "      width: 32px;\n",
              "    }\n",
              "\n",
              "    .colab-df-convert:hover {\n",
              "      background-color: #E2EBFA;\n",
              "      box-shadow: 0px 1px 2px rgba(60, 64, 67, 0.3), 0px 1px 3px 1px rgba(60, 64, 67, 0.15);\n",
              "      fill: #174EA6;\n",
              "    }\n",
              "\n",
              "    [theme=dark] .colab-df-convert {\n",
              "      background-color: #3B4455;\n",
              "      fill: #D2E3FC;\n",
              "    }\n",
              "\n",
              "    [theme=dark] .colab-df-convert:hover {\n",
              "      background-color: #434B5C;\n",
              "      box-shadow: 0px 1px 3px 1px rgba(0, 0, 0, 0.15);\n",
              "      filter: drop-shadow(0px 1px 2px rgba(0, 0, 0, 0.3));\n",
              "      fill: #FFFFFF;\n",
              "    }\n",
              "  </style>\n",
              "\n",
              "      <script>\n",
              "        const buttonEl =\n",
              "          document.querySelector('#df-cdc7dd23-a9be-4ffa-ae95-18280236482a button.colab-df-convert');\n",
              "        buttonEl.style.display =\n",
              "          google.colab.kernel.accessAllowed ? 'block' : 'none';\n",
              "\n",
              "        async function convertToInteractive(key) {\n",
              "          const element = document.querySelector('#df-cdc7dd23-a9be-4ffa-ae95-18280236482a');\n",
              "          const dataTable =\n",
              "            await google.colab.kernel.invokeFunction('convertToInteractive',\n",
              "                                                     [key], {});\n",
              "          if (!dataTable) return;\n",
              "\n",
              "          const docLinkHtml = 'Like what you see? Visit the ' +\n",
              "            '<a target=\"_blank\" href=https://colab.research.google.com/notebooks/data_table.ipynb>data table notebook</a>'\n",
              "            + ' to learn more about interactive tables.';\n",
              "          element.innerHTML = '';\n",
              "          dataTable['output_type'] = 'display_data';\n",
              "          await google.colab.output.renderOutput(dataTable, element);\n",
              "          const docLink = document.createElement('div');\n",
              "          docLink.innerHTML = docLinkHtml;\n",
              "          element.appendChild(docLink);\n",
              "        }\n",
              "      </script>\n",
              "    </div>\n",
              "  </div>\n",
              "  "
            ]
          },
          "metadata": {},
          "execution_count": 8
        }
      ]
    },
    {
      "cell_type": "code",
      "source": [
        "X_train = []\n",
        "X_test =  []  \n",
        "labels_train = []\n",
        "labels_test =  []  \n",
        "\n",
        "for i in range(0,400):\n",
        "    if((i%2==0)):\n",
        "       X_test.append(arr[i,:])\n",
        "       labels_test.append(labels[i])\n",
        "    else:\n",
        "       X_train.append(arr[i,:])\n",
        "       labels_train.append(labels[i])\n",
        " \n",
        "print(X_test[0])\n",
        "print(labels_test[0])"
      ],
      "metadata": {
        "colab": {
          "base_uri": "https://localhost:8080/"
        },
        "id": "ujLhTgof8m8y",
        "outputId": "da29152c-ea0c-4cca-c841-f610e2b59bd8"
      },
      "execution_count": null,
      "outputs": [
        {
          "output_type": "stream",
          "name": "stdout",
          "text": [
            "[ 43  50  41 ... 158 153 169]\n",
            "1\n"
          ]
        }
      ]
    },
    {
      "cell_type": "code",
      "source": [
        "X_train = np.array(X_train)\n",
        "X_test =  np.array(X_test)\n",
        "labels_train = np.array(labels_train)\n",
        "labels_test =  np.array(labels_test)"
      ],
      "metadata": {
        "id": "Le5ThNbuTR1q"
      },
      "execution_count": null,
      "outputs": []
    },
    {
      "cell_type": "code",
      "source": [
        "def PCA(X):\n",
        "  # X           ---> data to be reduced\n",
        "  # alpha       ---> total variance threshold\n",
        "  # evectors    ---> eigen vectors used to reduce the dimensionality\n",
        "\n",
        "  # calculate the mean\n",
        "  mean = np.mean(X,axis=0)\n",
        "  # center the data\n",
        "  z = X - mean\n",
        "  # calculate covariance matrix\n",
        "  cov = (1/X.shape[0])*np.dot(z.T,z)\n",
        "  # calculate eigenvalues and eigenvectors\n",
        "  (evalues, evectors) = np.linalg.eigh(cov)\n",
        "  evalues = np.flip(evalues)\n",
        "  evectors = np.flip(evectors,axis=1)\n",
        "\n",
        "  return (evalues, evectors)\n"
      ],
      "metadata": {
        "id": "-A1puSnFSPmS"
      },
      "execution_count": null,
      "outputs": []
    },
    {
      "cell_type": "code",
      "source": [
        "def choose_dim(evalues, evectors, alpha):\n",
        "  # fraction of total variance\n",
        "  fr = evalues/evalues.sum()\n",
        "\n",
        "  totvar = 0\n",
        "  i = 0\n",
        "\n",
        "  while(totvar < alpha):\n",
        "    totvar = totvar + fr[i]\n",
        "    i = i + 1\n",
        "\n",
        "  # choose dimensionality\n",
        "  evectors = evectors[ : , 0:i]\n",
        "\n",
        "  return evectors"
      ],
      "metadata": {
        "id": "AP_6h40WknMr"
      },
      "execution_count": null,
      "outputs": []
    },
    {
      "cell_type": "code",
      "source": [
        "def reduce_dim(X, evectors):\n",
        "  reducedmat = np.matmul(evectors.T,X.T).T\n",
        "  return reducedmat"
      ],
      "metadata": {
        "id": "ePrlg50wdxV_"
      },
      "execution_count": null,
      "outputs": []
    },
    {
      "cell_type": "code",
      "source": [
        "# DO NOT RUN THIS CELL IF YOU ALREADY HAVE THE PICKLE FILES\n",
        "(evalues, evectors) = PCA(X_train)\n",
        "# DO NOT RUN THIS CELL IF YOU ALREADY HAVE THE PICKLE FILES"
      ],
      "metadata": {
        "id": "9OPGaK29euhu"
      },
      "execution_count": null,
      "outputs": []
    },
    {
      "cell_type": "code",
      "source": [
        "# saving the PCA output for later use\n",
        "file_name = 'PCA_evalues.pkl'\n",
        "with open(file_name, 'wb') as file:\n",
        "    pickle.dump(evalues, file)\n",
        "    print(f'Object successfully saved to \"{file_name}\"')"
      ],
      "metadata": {
        "colab": {
          "base_uri": "https://localhost:8080/"
        },
        "id": "mduWyls6qjEt",
        "outputId": "88df6c50-2762-4f4d-9e42-8e0c6f6e3ba1"
      },
      "execution_count": null,
      "outputs": [
        {
          "output_type": "stream",
          "name": "stdout",
          "text": [
            "Object successfully saved to \"PCA_evalues.pkl\"\n"
          ]
        }
      ]
    },
    {
      "cell_type": "code",
      "source": [
        "# saving the PCA output for later use\n",
        "file_name = 'PCA_evectors.pkl'\n",
        "with open(file_name, 'wb') as file:\n",
        "    pickle.dump(evectors, file)\n",
        "    print(f'Object successfully saved to \"{file_name}\"')"
      ],
      "metadata": {
        "colab": {
          "base_uri": "https://localhost:8080/"
        },
        "id": "aORifJQgq2Zt",
        "outputId": "b8446f68-6b1e-4509-f35c-38c039643a39"
      },
      "execution_count": null,
      "outputs": [
        {
          "output_type": "stream",
          "name": "stdout",
          "text": [
            "Object successfully saved to \"PCA_evectors.pkl\"\n"
          ]
        }
      ]
    },
    {
      "cell_type": "code",
      "source": [
        "file_name = 'PCA_evalues.pkl'\n",
        "with open(file_name, 'rb') as file:\n",
        "    evalues  = pickle.load(file)\n",
        "    print(f'Object successfully loaded from \"{file_name}\"')"
      ],
      "metadata": {
        "colab": {
          "base_uri": "https://localhost:8080/"
        },
        "id": "xUT-ZD8Mrv05",
        "outputId": "5a91f9c8-c210-47df-b510-b94f1b786357"
      },
      "execution_count": null,
      "outputs": [
        {
          "output_type": "stream",
          "name": "stdout",
          "text": [
            "Object successfully loaded from \"PCA_evalues.pkl\"\n"
          ]
        }
      ]
    },
    {
      "cell_type": "code",
      "source": [
        "file_name = 'PCA_evectors.pkl'\n",
        "with open(file_name, 'rb') as file:\n",
        "    evectors = pickle.load(file)\n",
        "    print(f'Object successfully loaded from \"{file_name}\"')"
      ],
      "metadata": {
        "colab": {
          "base_uri": "https://localhost:8080/"
        },
        "id": "p12cI1QArvpO",
        "outputId": "2495dda1-ef13-4cba-e914-0987ea5e026b"
      },
      "execution_count": null,
      "outputs": [
        {
          "output_type": "stream",
          "name": "stdout",
          "text": [
            "Object successfully loaded from \"PCA_evectors.pkl\"\n"
          ]
        }
      ]
    },
    {
      "cell_type": "code",
      "source": [
        "evectors_red = choose_dim(evalues, evectors, 0.8)"
      ],
      "metadata": {
        "id": "3Vt2sJ40lmU_"
      },
      "execution_count": null,
      "outputs": []
    },
    {
      "cell_type": "code",
      "source": [
        "X_train_red = reduce_dim(X_train, evectors_red)\n",
        "X_test_red =  reduce_dim(X_test, evectors_red)"
      ],
      "metadata": {
        "id": "37hsboGdiThi"
      },
      "execution_count": null,
      "outputs": []
    },
    {
      "cell_type": "code",
      "source": [
        "from sklearn.neighbors import KNeighborsClassifier\n",
        "knn = KNeighborsClassifier(n_neighbors=1)\n",
        "knn.fit(X_train_red, labels_train)"
      ],
      "metadata": {
        "id": "AKXkFZRNMj5w",
        "colab": {
          "base_uri": "https://localhost:8080/",
          "height": 75
        },
        "outputId": "55c65f6f-3ce0-42e6-8b3e-47721029e734"
      },
      "execution_count": null,
      "outputs": [
        {
          "output_type": "execute_result",
          "data": {
            "text/plain": [
              "KNeighborsClassifier(n_neighbors=1)"
            ],
            "text/html": [
              "<style>#sk-container-id-1 {color: black;background-color: white;}#sk-container-id-1 pre{padding: 0;}#sk-container-id-1 div.sk-toggleable {background-color: white;}#sk-container-id-1 label.sk-toggleable__label {cursor: pointer;display: block;width: 100%;margin-bottom: 0;padding: 0.3em;box-sizing: border-box;text-align: center;}#sk-container-id-1 label.sk-toggleable__label-arrow:before {content: \"▸\";float: left;margin-right: 0.25em;color: #696969;}#sk-container-id-1 label.sk-toggleable__label-arrow:hover:before {color: black;}#sk-container-id-1 div.sk-estimator:hover label.sk-toggleable__label-arrow:before {color: black;}#sk-container-id-1 div.sk-toggleable__content {max-height: 0;max-width: 0;overflow: hidden;text-align: left;background-color: #f0f8ff;}#sk-container-id-1 div.sk-toggleable__content pre {margin: 0.2em;color: black;border-radius: 0.25em;background-color: #f0f8ff;}#sk-container-id-1 input.sk-toggleable__control:checked~div.sk-toggleable__content {max-height: 200px;max-width: 100%;overflow: auto;}#sk-container-id-1 input.sk-toggleable__control:checked~label.sk-toggleable__label-arrow:before {content: \"▾\";}#sk-container-id-1 div.sk-estimator input.sk-toggleable__control:checked~label.sk-toggleable__label {background-color: #d4ebff;}#sk-container-id-1 div.sk-label input.sk-toggleable__control:checked~label.sk-toggleable__label {background-color: #d4ebff;}#sk-container-id-1 input.sk-hidden--visually {border: 0;clip: rect(1px 1px 1px 1px);clip: rect(1px, 1px, 1px, 1px);height: 1px;margin: -1px;overflow: hidden;padding: 0;position: absolute;width: 1px;}#sk-container-id-1 div.sk-estimator {font-family: monospace;background-color: #f0f8ff;border: 1px dotted black;border-radius: 0.25em;box-sizing: border-box;margin-bottom: 0.5em;}#sk-container-id-1 div.sk-estimator:hover {background-color: #d4ebff;}#sk-container-id-1 div.sk-parallel-item::after {content: \"\";width: 100%;border-bottom: 1px solid gray;flex-grow: 1;}#sk-container-id-1 div.sk-label:hover label.sk-toggleable__label {background-color: #d4ebff;}#sk-container-id-1 div.sk-serial::before {content: \"\";position: absolute;border-left: 1px solid gray;box-sizing: border-box;top: 0;bottom: 0;left: 50%;z-index: 0;}#sk-container-id-1 div.sk-serial {display: flex;flex-direction: column;align-items: center;background-color: white;padding-right: 0.2em;padding-left: 0.2em;position: relative;}#sk-container-id-1 div.sk-item {position: relative;z-index: 1;}#sk-container-id-1 div.sk-parallel {display: flex;align-items: stretch;justify-content: center;background-color: white;position: relative;}#sk-container-id-1 div.sk-item::before, #sk-container-id-1 div.sk-parallel-item::before {content: \"\";position: absolute;border-left: 1px solid gray;box-sizing: border-box;top: 0;bottom: 0;left: 50%;z-index: -1;}#sk-container-id-1 div.sk-parallel-item {display: flex;flex-direction: column;z-index: 1;position: relative;background-color: white;}#sk-container-id-1 div.sk-parallel-item:first-child::after {align-self: flex-end;width: 50%;}#sk-container-id-1 div.sk-parallel-item:last-child::after {align-self: flex-start;width: 50%;}#sk-container-id-1 div.sk-parallel-item:only-child::after {width: 0;}#sk-container-id-1 div.sk-dashed-wrapped {border: 1px dashed gray;margin: 0 0.4em 0.5em 0.4em;box-sizing: border-box;padding-bottom: 0.4em;background-color: white;}#sk-container-id-1 div.sk-label label {font-family: monospace;font-weight: bold;display: inline-block;line-height: 1.2em;}#sk-container-id-1 div.sk-label-container {text-align: center;}#sk-container-id-1 div.sk-container {/* jupyter's `normalize.less` sets `[hidden] { display: none; }` but bootstrap.min.css set `[hidden] { display: none !important; }` so we also need the `!important` here to be able to override the default hidden behavior on the sphinx rendered scikit-learn.org. See: https://github.com/scikit-learn/scikit-learn/issues/21755 */display: inline-block !important;position: relative;}#sk-container-id-1 div.sk-text-repr-fallback {display: none;}</style><div id=\"sk-container-id-1\" class=\"sk-top-container\"><div class=\"sk-text-repr-fallback\"><pre>KNeighborsClassifier(n_neighbors=1)</pre><b>In a Jupyter environment, please rerun this cell to show the HTML representation or trust the notebook. <br />On GitHub, the HTML representation is unable to render, please try loading this page with nbviewer.org.</b></div><div class=\"sk-container\" hidden><div class=\"sk-item\"><div class=\"sk-estimator sk-toggleable\"><input class=\"sk-toggleable__control sk-hidden--visually\" id=\"sk-estimator-id-1\" type=\"checkbox\" checked><label for=\"sk-estimator-id-1\" class=\"sk-toggleable__label sk-toggleable__label-arrow\">KNeighborsClassifier</label><div class=\"sk-toggleable__content\"><pre>KNeighborsClassifier(n_neighbors=1)</pre></div></div></div></div></div>"
            ]
          },
          "metadata": {},
          "execution_count": 20
        }
      ]
    },
    {
      "cell_type": "code",
      "source": [
        "knn.score(X_test_red, labels_test)"
      ],
      "metadata": {
        "colab": {
          "base_uri": "https://localhost:8080/"
        },
        "id": "uphLCKvqiKx_",
        "outputId": "a6aca275-f7bb-4cd3-d27a-478d1f98bde7"
      },
      "execution_count": null,
      "outputs": [
        {
          "output_type": "execute_result",
          "data": {
            "text/plain": [
              "0.945"
            ]
          },
          "metadata": {},
          "execution_count": 21
        }
      ]
    },
    {
      "cell_type": "code",
      "source": [
        "evectors_red = choose_dim(evalues, evectors, 0.85)\n",
        "X_train_red = reduce_dim(X_train, evectors_red)\n",
        "X_test_red =  reduce_dim(X_test, evectors_red)\n",
        "from sklearn.neighbors import KNeighborsClassifier\n",
        "knn = KNeighborsClassifier(n_neighbors=1)\n",
        "knn.fit(X_train_red, labels_train)\n",
        "knn.score(X_test_red, labels_test)"
      ],
      "metadata": {
        "colab": {
          "base_uri": "https://localhost:8080/"
        },
        "id": "IIWWwSSsoCMl",
        "outputId": "0a2973a9-f18b-4a41-a716-dcc66bc33e08"
      },
      "execution_count": null,
      "outputs": [
        {
          "output_type": "execute_result",
          "data": {
            "text/plain": [
              "0.95"
            ]
          },
          "metadata": {},
          "execution_count": 22
        }
      ]
    },
    {
      "cell_type": "code",
      "source": [
        "evectors_red = choose_dim(evalues, evectors, 0.9)\n",
        "X_train_red = reduce_dim(X_train, evectors_red)\n",
        "X_test_red =  reduce_dim(X_test, evectors_red)\n",
        "from sklearn.neighbors import KNeighborsClassifier\n",
        "knn = KNeighborsClassifier(n_neighbors=1)\n",
        "knn.fit(X_train_red, labels_train)\n",
        "knn.score(X_test_red, labels_test)"
      ],
      "metadata": {
        "colab": {
          "base_uri": "https://localhost:8080/"
        },
        "id": "2-wM6ycgoeyi",
        "outputId": "2046d0fc-98bf-455a-c5ed-47f5508888a3"
      },
      "execution_count": null,
      "outputs": [
        {
          "output_type": "execute_result",
          "data": {
            "text/plain": [
              "0.955"
            ]
          },
          "metadata": {},
          "execution_count": 23
        }
      ]
    },
    {
      "cell_type": "code",
      "source": [
        "evectors_red = choose_dim(evalues, evectors, 0.95)\n",
        "X_train_red = reduce_dim(X_train, evectors_red)\n",
        "X_test_red =  reduce_dim(X_test, evectors_red)\n",
        "from sklearn.neighbors import KNeighborsClassifier\n",
        "knn = KNeighborsClassifier(n_neighbors=1)\n",
        "knn.fit(X_train_red, labels_train)\n",
        "knn.score(X_test_red, labels_test)\n"
      ],
      "metadata": {
        "colab": {
          "base_uri": "https://localhost:8080/"
        },
        "id": "DBeN0_yCofGx",
        "outputId": "ee305506-776a-4fa2-c3c3-89144f0075f9"
      },
      "execution_count": null,
      "outputs": [
        {
          "output_type": "execute_result",
          "data": {
            "text/plain": [
              "0.96"
            ]
          },
          "metadata": {},
          "execution_count": 24
        }
      ]
    },
    {
      "cell_type": "code",
      "source": [],
      "metadata": {
        "id": "X3QiWxZPtIGw"
      },
      "execution_count": null,
      "outputs": []
    }
  ]
}

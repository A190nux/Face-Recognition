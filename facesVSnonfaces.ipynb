{
  "nbformat": 4,
  "nbformat_minor": 0,
  "metadata": {
    "colab": {
      "provenance": []
    },
    "kernelspec": {
      "name": "python3",
      "display_name": "Python 3"
    },
    "language_info": {
      "name": "python"
    }
  },
  "cells": [
    {
      "cell_type": "code",
      "execution_count": 112,
      "metadata": {
        "id": "MT3flBJqJPZ9"
      },
      "outputs": [],
      "source": [
        "import gc\n",
        "import re\n",
        "import os\n",
        "import copy\n",
        "import pickle\n",
        "import numpy as np\n",
        "import pandas as pd\n",
        "import matplotlib.pyplot as plt\n",
        "from google.colab import drive\n",
        "from skimage.io import imread\n",
        "from sklearn.neighbors import KNeighborsClassifier as ks"
      ]
    },
    {
      "cell_type": "code",
      "source": [
        "from google.colab import drive\n",
        "drive.mount('/content/drive')"
      ],
      "metadata": {
        "colab": {
          "base_uri": "https://localhost:8080/"
        },
        "id": "WcBjWgCsB6i9",
        "outputId": "022e6299-0eb5-4be4-c188-4db081718fab"
      },
      "execution_count": 113,
      "outputs": [
        {
          "output_type": "stream",
          "name": "stdout",
          "text": [
            "Drive already mounted at /content/drive; to attempt to forcibly remount, call drive.mount(\"/content/drive\", force_remount=True).\n"
          ]
        }
      ]
    },
    {
      "cell_type": "code",
      "source": [
        "import cv2\n",
        "arr=[]\n",
        "labels = []\n",
        "num_nonfaces =[]\n",
        "image1 =[]\n",
        "i=0\n",
        "nonfaces=0\n",
        "for root,di,files in os.walk(\"/content/drive/MyDrive/Colab Notebooks/dataset2\"): \n",
        "  for name in files:\n",
        "    if name.endswith(\"jpg\") or name.endswith(\"pgm\") :\n",
        "      root_folder = os.path.split(root) ##   \n",
        "      if name.endswith(\"jpg\"): \n",
        "        nonfaces = nonfaces + 1 \n",
        "        #image1 = io.imread(os.path.join(root,name))\n",
        "        image1 = cv2.imread(os.path.join(root,name), 0)\n",
        "      elif name.endswith(\"pgm\") :\n",
        "        image1 = imread(os.path.join(root,name))  \n",
        "      res=re.findall('(\\d+)',root_folder[1]) ##\n",
        "      #image1 = image.imread(os.path.join(root,name))\n",
        "      image1.resize((92, 112))\n",
        "      image1=image1.flatten(order='C')\n",
        "      #print(image1)\n",
        "      arr.append(image1)\n",
        "      labels.append(int(res[0]))\n",
        "      i=i+1\n",
        "num_nonfaces.append( nonfaces)     \n",
        "arr=np.array(arr)   \n",
        "labels=np.array(labels)    \n",
        "print(labels.shape)       \n",
        "print(arr.shape)\n",
        "#print(labels)      "
      ],
      "metadata": {
        "colab": {
          "base_uri": "https://localhost:8080/"
        },
        "id": "zhNSeazl8DC_",
        "outputId": "928def8a-6053-40f1-e04a-17d6db316aca"
      },
      "execution_count": 114,
      "outputs": [
        {
          "output_type": "stream",
          "name": "stdout",
          "text": [
            "(600,)\n",
            "(600, 10304)\n"
          ]
        }
      ]
    },
    {
      "cell_type": "code",
      "source": [
        "print(labels.shape)       \n",
        "print(arr.shape)\n",
        "#print(labels)"
      ],
      "metadata": {
        "colab": {
          "base_uri": "https://localhost:8080/"
        },
        "id": "bx05rnRZ7Q04",
        "outputId": "0783f535-8abb-4851-ba22-e0ee765c0985"
      },
      "execution_count": 126,
      "outputs": [
        {
          "output_type": "stream",
          "name": "stdout",
          "text": [
            "(844,)\n",
            "(844, 10304)\n"
          ]
        }
      ]
    },
    {
      "cell_type": "code",
      "source": [
        "# adding the data to a dataframe\n",
        "df = pd.DataFrame(arr) \n",
        "df['label'] = pd.DataFrame(labels)\n",
        "# sorting the data according to labels\n",
        "df.sort_values(\"label\", inplace=True)\n",
        "df.tail(10)"
      ],
      "metadata": {
        "id": "cVugZrV8_OSp"
      },
      "execution_count": null,
      "outputs": []
    },
    {
      "cell_type": "code",
      "source": [
        "# seperating images from labels\n",
        "Y = np.array(df['label'])\n",
        "df = df.drop(axis=1, labels=\"label\")"
      ],
      "metadata": {
        "id": "eX1YeAfdDjVA"
      },
      "execution_count": 116,
      "outputs": []
    },
    {
      "cell_type": "code",
      "source": [
        "X_train = []\n",
        "X_test =  []  \n",
        "labels_train = []\n",
        "labels_test =  []  \n",
        "\n",
        "for i in range(0,600):\n",
        "    if((i%2==0)):\n",
        "       X_test.append(arr[i,:])\n",
        "       labels_test.append(labels[i])\n",
        "    else:\n",
        "       X_train.append(arr[i,:])\n",
        "       labels_train.append(labels[i])\n",
        " \n",
        "print(X_test[0])\n",
        "print(labels_test[0])"
      ],
      "metadata": {
        "colab": {
          "base_uri": "https://localhost:8080/"
        },
        "id": "ujLhTgof8m8y",
        "outputId": "4d1903a8-0689-4825-8a43-d427820eac3f"
      },
      "execution_count": 117,
      "outputs": [
        {
          "output_type": "stream",
          "name": "stdout",
          "text": [
            "[157 156 153 ... 141 141 133]\n",
            "1\n"
          ]
        }
      ]
    },
    {
      "cell_type": "code",
      "source": [
        "def LDA(arr, Y=None, noOfDims=None):\n",
        "    # initializing the variables\n",
        "    summ, lenn = 0, 0\n",
        "    # computing the mean for each class\n",
        "    mu = []\n",
        "    Z =  []\n",
        "    if nonfaces >200:\n",
        "      arr2=np.concatenate((arr[0:199,:],arr[600:,:]))\n",
        "      mu.append(np.mean(arr2, axis=0, keepdims=True).T) \n",
        "    else: \n",
        "      mu.append(np.mean(arr[0:199,:], axis=0, keepdims=True).T) \n",
        "    mu.append(np.mean(arr[200:599,:], axis=0 , keepdims=True).T)    \n",
        "    # computing the between class scatter matrices\n",
        "    SB = np.matmul((mu[0]-mu[1]), (mu[0]-mu[1]).T)\n",
        "    # centering the class matrices\n",
        "    if nonfaces >200:\n",
        "        Z.append( (arr2 - mu[0].T)) \n",
        "    else:\n",
        "        Z.append((arr[0:200,:] - mu[1].T))    \n",
        "    Z.append((arr[200:599,:] - mu[1].T))\n",
        "    S = 0\n",
        "    for i in range(len(Z)): S += np.matmul(Z[i].T, Z[i])\n",
        "    # performing eigenvalue decomposition\n",
        "    eigValues, eigVectors = np.linalg.eigh(np.matmul(np.linalg.inv(S), SB))\n",
        "    # returning the dominant eigen vectors\n",
        "    return eigVectors[::-1][:noOfDims].T\n",
        "\n",
        "    "
      ],
      "metadata": {
        "id": "rY_EVhf_JVXB"
      },
      "execution_count": 118,
      "outputs": []
    },
    {
      "cell_type": "code",
      "source": [
        "# DO NOT RUN THIS CELL IF YOU ALREADY HAVE THE PICKLE FILES\n",
        "W = LDA(arr, noOfDims=2)\n",
        "# DO NOT RUN THIS CELL IF YOU ALREADY HAVE THE PICKLE FILES"
      ],
      "metadata": {
        "id": "yGfI7Pdt9mn0"
      },
      "execution_count": 119,
      "outputs": []
    },
    {
      "cell_type": "code",
      "source": [
        "# saving the LDA output for later use\n",
        "file_name = 'LDA_output.pkl'\n",
        "with open(file_name, 'wb') as file:\n",
        "    pickle.dump(W, file)\n",
        "    print(f'Object successfully saved to \"{file_name}\"')"
      ],
      "metadata": {
        "id": "NooEJLM3ISN1",
        "colab": {
          "base_uri": "https://localhost:8080/"
        },
        "outputId": "410c2417-38c2-47d5-ef5b-9d0dd8f38ab9"
      },
      "execution_count": null,
      "outputs": [
        {
          "output_type": "stream",
          "name": "stdout",
          "text": [
            "Object successfully saved to \"LDA_output.pkl\"\n"
          ]
        }
      ]
    },
    {
      "cell_type": "code",
      "source": [
        "print(\"After LDA\")\n",
        "X_train_red, X_test_red = projectData(np.array(X_train), np.array(X_test), W)\n",
        "#reg = ks().fit(X_train_red, labels_train)\n",
        "#train_score = reg.score(X_train_red, labels_train)\n",
        "#test_score = reg.score(X_test_red, labels_test)\n",
        "knn = KNeighborsClassifier(n_neighbors=1)\n",
        "knn.fit(X_train, labels_train)\n",
        "pred = knn.predict(X_test)\n",
        "print('200',accuracy_score(pred,labels_test))\n",
        "#acc.append(accuracy_score(pred,labels_test))\n",
        "#print(X_test_red)\n",
        "print(\"Training Set Accuracy: {}\\nTesting  Set Accuracy: {}\".format(train_score, test_score))"
      ],
      "metadata": {
        "colab": {
          "base_uri": "https://localhost:8080/"
        },
        "id": "vUY_G1I3p0CM",
        "outputId": "3296be93-9278-4b1f-f2f5-85d5394b823d"
      },
      "execution_count": 86,
      "outputs": [
        {
          "output_type": "stream",
          "name": "stdout",
          "text": [
            "After LDA\n",
            "200 0.9933333333333333\n",
            "Training Set Accuracy: 0.76\n",
            "Testing  Set Accuracy: 0.7733333333333333\n"
          ]
        }
      ]
    },
    {
      "cell_type": "code",
      "source": [
        "file_name = 'LDA_output.pkl'\n",
        "with open(file_name, 'rb') as file:\n",
        "    W  = pickle.load(file)\n",
        "    print(f'Object successfully loaded from \"{file_name}\"')"
      ],
      "metadata": {
        "colab": {
          "base_uri": "https://localhost:8080/"
        },
        "id": "Q-mfa7UfVZrL",
        "outputId": "5534f7a5-eabe-4b7d-d59c-66b6f6e7cb92"
      },
      "execution_count": null,
      "outputs": [
        {
          "output_type": "stream",
          "name": "stdout",
          "text": [
            "[[-0.00480145  0.00697254]\n",
            " [-0.00466157  0.00676886]\n",
            " [-0.00391163  0.00567956]\n",
            " ...\n",
            " [-0.00378211  0.00549338]\n",
            " [-0.00464662  0.00674866]\n",
            " [-0.00475303  0.00690263]]\n",
            "Object successfully loaded from \"LDA_output.pkl\"\n"
          ]
        }
      ]
    },
    {
      "cell_type": "code",
      "source": [
        "def projectData(X_train, X_test, W):\n",
        "    X_train = np.array([np.matmul(W.T, X_train[i]) for i in range(X_train.shape[0])])\n",
        "    X_test = np.array([np.matmul(W.T, X_test[i]) for i in range(X_test.shape[0])])\n",
        "    return X_train, X_test"
      ],
      "metadata": {
        "id": "-QWlmfVWUYjm"
      },
      "execution_count": 120,
      "outputs": []
    },
    {
      "cell_type": "code",
      "source": [
        "labels2 = []\n",
        "arr2 =[]\n",
        "\n",
        "for root,di,files in os.walk(\"/content/drive/MyDrive/Colab Notebooks/dataset3/11\"): \n",
        "  for name in files:\n",
        "    if name.endswith(\"jpg\") or name.endswith(\"jpeg\") or name.endswith(\"pgm\") :\n",
        "      root_folder = os.path.split(root) ##   \n",
        "      if name.endswith(\"jpg\") or name.endswith(\"jpeg\"): \n",
        "        nonfaces = nonfaces + 1\n",
        "        labels2.append(1)\n",
        "        #image1 = io.imread(os.path.join(root,name))\n",
        "        image1 = cv2.imread(os.path.join(root,name), 0)\n",
        "      elif name.endswith(\"pgm\") :\n",
        "        image1 = image.imread(os.path.join(root,name))\n",
        "        labels2.append(2)  \n",
        "      #res=re.findall('(\\d+)',root_folder[1]) ##\n",
        "      #image1 = image.imread(os.path.join(root,name))\n",
        "      image1.resize((92, 112))\n",
        "      image1=image1.flatten(order='C')\n",
        "      #print(image1)\n",
        "      arr2.append(image1)\n",
        "     # labels.append(int(res[0]))\n",
        "      i=i+1\n",
        "      \n",
        "num_nonfaces.append( nonfaces)           \n",
        "arr2=np.array(arr2)\n",
        "arr = np.vstack((arr, arr2))\n",
        "labels2=np.array(labels2)\n",
        "labels = np.hstack((labels, labels2))\n",
        "print(labels.shape)       \n",
        "print(arr.shape)\n",
        "#print(labels)    \n",
        "#AfterChanging_nonfaces()"
      ],
      "metadata": {
        "colab": {
          "base_uri": "https://localhost:8080/"
        },
        "id": "4vKzEqxgLRaR",
        "outputId": "cc76f8ba-0f28-4415-83b5-2df21a681831"
      },
      "execution_count": 123,
      "outputs": [
        {
          "output_type": "stream",
          "name": "stdout",
          "text": [
            "(750,)\n",
            "(750, 10304)\n"
          ]
        }
      ]
    },
    {
      "cell_type": "code",
      "source": [
        "#####def AfterChanging_nonfaces():\n",
        "\n",
        "X_train = []\n",
        "X_test =  []  \n",
        "labels_train = []\n",
        "labels_test =  []  \n",
        "\n",
        "for i in range(0,(400+nonfaces)):\n",
        "    if((i%2==0)):\n",
        "       X_test.append(arr[i,:])\n",
        "       labels_test.append(labels[i])\n",
        "    else:\n",
        "       X_train.append(arr[i,:])\n",
        "       labels_train.append(labels[i])\n",
        " \n",
        "print(X_test[0])\n",
        "print(labels_test[0])\n",
        "# DO NOT RUN THIS CELL IF YOU ALREADY HAVE THE PICKLE FILES\n",
        "W = LDA(arr, noOfDims=2)\n",
        "# DO NOT RUN THIS CELL IF YOU ALREADY HAVE THE PICKLE FILES\n",
        "print(\"After LDA\")\n",
        "X_train_red, X_test_red = projectData(np.array(X_train), np.array(X_test), W)\n",
        "#reg = ks().fit(X_train_red, labels_train)\n",
        "#train_score = reg.score(X_train_red, labels_train)\n",
        "#test_score = reg.score(X_test_red, labels_test)\n",
        "knn = KNeighborsClassifier(n_neighbors=1)\n",
        "knn.fit(X_train, labels_train)\n",
        "pred = knn.predict(X_test)\n",
        "print((400+nonfaces),accuracy_score(pred,labels_test))\n",
        "acc.append(accuracy_score(pred,labels_test))\n",
        "#print(X_test_red)\n",
        "print(\"Training Set Accuracy: {}\\nTesting  Set Accuracy: {}\".format(train_score, test_score))\n",
        "print(nonfaces)\n",
        "print(acc )"
      ],
      "metadata": {
        "colab": {
          "base_uri": "https://localhost:8080/"
        },
        "id": "TO-A6d4A05ae",
        "outputId": "ff2fb174-3e2f-4727-df6e-0608f39a2c56"
      },
      "execution_count": 127,
      "outputs": [
        {
          "output_type": "stream",
          "name": "stdout",
          "text": [
            "[157 156 153 ... 141 141 133]\n",
            "1\n",
            "After LDA\n",
            "844 0.9976303317535545\n",
            "Training Set Accuracy: 0.76\n",
            "Testing  Set Accuracy: 0.7733333333333333\n",
            "444\n",
            "[0.9973333333333333, 0.9976303317535545]\n"
          ]
        }
      ]
    },
    {
      "cell_type": "code",
      "source": [
        "labels2 = []\n",
        "arr2 =[]\n",
        "\n",
        "for root,di,files in os.walk(\"/content/drive/MyDrive/Colab Notebooks/dataset3/21\"): \n",
        "  for name in files:\n",
        "    if name.endswith(\"jpg\") or name.endswith(\"jpeg\") or name.endswith(\"pgm\") :\n",
        "      root_folder = os.path.split(root) ##   \n",
        "      if name.endswith(\"jpg\") or name.endswith(\"jpeg\"): \n",
        "        nonfaces = nonfaces + 1\n",
        "        labels2.append(1)\n",
        "        image1 = cv2.imread(os.path.join(root,name), 0)\n",
        "      elif name.endswith(\"pgm\") :\n",
        "        image1 = imread(os.path.join(root,name))\n",
        "        labels2.append(2)  \n",
        "      image1.resize((92, 112))\n",
        "      image1=image1.flatten(order='C')\n",
        "      arr2.append(image1)\n",
        "      i=i+1\n",
        "      \n",
        "num_nonfaces.append( nonfaces)           \n",
        "arr2=np.array(arr2)\n",
        "arr = np.vstack((arr, arr2))\n",
        "labels2=np.array(labels2)\n",
        "labels = np.hstack((labels, labels2))\n",
        "print(labels.shape)       \n",
        "print(arr.shape)\n",
        "#print(labels)    \n"
      ],
      "metadata": {
        "id": "5mY_6bgxSr3m"
      },
      "execution_count": null,
      "outputs": []
    },
    {
      "cell_type": "code",
      "source": [
        "#Call the cell of\n",
        "#AfterChanging_nonfaces()"
      ],
      "metadata": {
        "id": "cUWpk6Du91M1"
      },
      "execution_count": null,
      "outputs": []
    },
    {
      "cell_type": "code",
      "source": [
        "plt.plot(num_nonfaces , acc)\n",
        "plt.xlabel('Number of non faces')\n",
        "plt.ylabel('Accuracy')\n",
        "plt.show()"
      ],
      "metadata": {
        "id": "hPOgARfE91PY"
      },
      "execution_count": null,
      "outputs": []
    },
    {
      "cell_type": "code",
      "source": [
        "####################################################################################################################"
      ],
      "metadata": {
        "id": "NZqmRThp91Vo"
      },
      "execution_count": null,
      "outputs": []
    },
    {
      "cell_type": "code",
      "source": [
        "# DO NOT RUN THIS CELL IF YOU ALREADY HAVE THE PICKLE FILES\n",
        "W = LDA(arr, noOfDims=2)\n",
        "# DO NOT RUN THIS CELL IF YOU ALREADY HAVE THE PICKLE FILES"
      ],
      "metadata": {
        "colab": {
          "base_uri": "https://localhost:8080/"
        },
        "id": "oqHjk0lRLRcp",
        "outputId": "00b0206f-0f72-4690-b175-d13c5bb5b771"
      },
      "execution_count": 98,
      "outputs": [
        {
          "output_type": "stream",
          "name": "stdout",
          "text": [
            "[[124.58465011]\n",
            " [123.83069977]\n",
            " [122.79458239]\n",
            " ...\n",
            " [103.5282167 ]\n",
            " [102.64559819]\n",
            " [102.23024831]]\n"
          ]
        }
      ]
    },
    {
      "cell_type": "code",
      "source": [
        "#### 7.iii\n",
        "from sklearn.neighbors import KNeighborsClassifier\n",
        "from sklearn.metrics import accuracy_score\n",
        "acc=[]\n",
        "s=[]\n",
        "f=[]\n",
        "knn = KNeighborsClassifier(n_neighbors=1)\n",
        "knn.fit(X_train, labels_train)\n",
        "#before reduction\n",
        "#pred = knn.predict(X_test)\n",
        "#print('labels test',labels_test)\n",
        "#print(pred)\n",
        "knn.score(X_test, labels_test)\n",
        "\n",
        "\n",
        "knn = KNeighborsClassifier(n_neighbors=1)\n",
        "knn.fit(X_train_red, labels_train)\n",
        "print(knn.score(X_test_red, labels_test))\n",
        "pred = knn.predict(X_test_red)\n",
        "print(accuracy_score(pred,labels_test))\n",
        "acc.append(accuracy_score(pred,labels_test))\n",
        "\n",
        "pred = knn.predict(X_test_red)\n",
        "#print(X_test_red,labels_test)\n",
        "#print('labels test',labels_test)\n",
        "#print(pred)\n",
        "for i in range(len(pred)):\n",
        "    if(labels_test[i] != pred[i]):\n",
        "       f.append([X_test_red[i],labels_test[i]])\n",
        "    else:\n",
        "       s.append([X_test_red[i],labels_test[i]])\n",
        "print(f[0])       "
      ],
      "metadata": {
        "colab": {
          "base_uri": "https://localhost:8080/"
        },
        "id": "8tlSi9_1-bey",
        "outputId": "9be93bd1-091c-47a1-ad5a-6592bece0516"
      },
      "execution_count": 132,
      "outputs": [
        {
          "output_type": "stream",
          "name": "stdout",
          "text": [
            "0.7867298578199052\n",
            "0.7867298578199052\n",
            "[array([ 8.95092952, 61.22145525]), 1]\n"
          ]
        }
      ]
    },
    {
      "cell_type": "code",
      "source": [
        "def KMC(X, k, epsilon=0.01, maxIter=100):\n",
        "  # initializing the error to be max at first\n",
        "  err = float('inf')\n",
        "  # randomly initializing the centroids\n",
        "  centroid = [X[np.random.randint(0, len(X)-1)] for i in range(k)]\n",
        "  while maxIter > 0 and err >= epsilon:\n",
        "    maxIter -= 1\n",
        "    cluster = [[] for i in range(k)]\n",
        "    # copying the old centroids\n",
        "    oldCentroid = copy.deepcopy(centroid)\n",
        "    # assigning each data point to closest cluster\n",
        "    for x in X:\n",
        "      minn, j = float('inf'), 0\n",
        "      for i in range(len(centroid)):\n",
        "        dist = np.linalg.norm(x-centroid[i]) ** 2\n",
        "        if dist < minn: minn, j = dist, i\n",
        "      cluster[j].append(x)\n",
        "    # updating the centroids\n",
        "    for i in range(len(cluster)):\n",
        "      if len(cluster[i]) != 0: centroid[i] = sum(cluster[i]) / len(cluster[i])\n",
        "    # if centroids didn't change, then terminate\n",
        "    err = 0\n",
        "    for i in range(len(centroid)):\n",
        "      err += np.linalg.norm(centroid[i] - oldCentroid[i]) ** 2\n",
        "  return cluster"
      ],
      "metadata": {
        "id": "NKpImacpJa4R"
      },
      "execution_count": null,
      "outputs": []
    },
    {
      "cell_type": "code",
      "source": [
        "reg = ks().fit(X_train, labels_train)\n",
        "train_score = reg.score(X_train, labels_train)\n",
        "test_score = reg.score(X_test, labels_test)\n",
        "print(\"Before LDA\")\n",
        "print(\"Training Set Accuracy: {}\\nTesting  Set Accuracy: {}\\n\\n\\n\".format(train_score, test_score))\n",
        "\n",
        "print(\"After LDA\")\n",
        "X_train_red, X_test_red = projectData(np.array(X_train), np.array(X_test), W)\n",
        "reg = ks().fit(X_train_red, labels_train)\n",
        "train_score = reg.score(X_train_red, labels_train)\n",
        "test_score = reg.score(X_test_red, labels_test)\n",
        "print('200',accuracy_score(pred,labels_test))\n",
        "\n",
        "#print(X_test_red)\n",
        "print(\"Training Set Accuracy: {}\\nTesting  Set Accuracy: {}\".format(train_score, test_score))"
      ],
      "metadata": {
        "id": "1GfJUgjVN2mM"
      },
      "execution_count": null,
      "outputs": []
    }
  ]
}
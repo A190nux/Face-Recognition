{
  "nbformat": 4,
  "nbformat_minor": 0,
  "metadata": {
    "colab": {
      "provenance": []
    },
    "kernelspec": {
      "name": "python3",
      "display_name": "Python 3"
    },
    "language_info": {
      "name": "python"
    }
  },
  "cells": [
    {
      "cell_type": "code",
      "execution_count": 35,
      "metadata": {
        "id": "MT3flBJqJPZ9"
      },
      "outputs": [],
      "source": [
        "import re\n",
        "import os\n",
        "import copy\n",
        "import pickle\n",
        "import numpy as np\n",
        "import pandas as pd\n",
        "import matplotlib.pyplot as plt\n",
        "from PIL import Image\n",
        "from collections import Counter\n",
        "from google.colab import drive\n",
        "from skimage.io import imread\n",
        "from sklearn.metrics import accuracy_score\n",
        "from sklearn.metrics.pairwise import rbf_kernel\n",
        "from sklearn.model_selection import train_test_split\n",
        "from sklearn.neighbors import KNeighborsClassifier as ks "
      ]
    },
    {
      "cell_type": "code",
      "source": [
        "from google.colab import drive\n",
        "drive.mount('/content/drive')"
      ],
      "metadata": {
        "colab": {
          "base_uri": "https://localhost:8080/"
        },
        "id": "WcBjWgCsB6i9",
        "outputId": "98ab124c-76ac-468c-b1bd-9be2094137ad"
      },
      "execution_count": 36,
      "outputs": [
        {
          "output_type": "stream",
          "name": "stdout",
          "text": [
            "Drive already mounted at /content/drive; to attempt to forcibly remount, call drive.mount(\"/content/drive\", force_remount=True).\n"
          ]
        }
      ]
    },
    {
      "cell_type": "code",
      "source": [
        "import cv2\n",
        "arr=[]\n",
        "labels = []\n",
        "num_nonfaces =[]\n",
        "image1 =[]\n",
        "accff=[]\n",
        "i=0\n",
        "nonfaces=0\n",
        "for root,di,files in os.walk(\"/content/drive/MyDrive/Colab Notebooks/dataset2\"): \n",
        "  for name in files:\n",
        "    if name.endswith(\"jpg\") or name.endswith(\"pgm\") :\n",
        "      root_folder = os.path.split(root) ##   \n",
        "      if name.endswith(\"jpg\"): \n",
        "        nonfaces = nonfaces + 1 \n",
        "        #image1 = io.imread(os.path.join(root,name))\n",
        "        image1 = cv2.imread(os.path.join(root,name), 0)\n",
        "      elif name.endswith(\"pgm\") :\n",
        "        image1 = imread(os.path.join(root,name))  \n",
        "      res=re.findall('(\\d+)',root_folder[1]) ##\n",
        "      #image1 = image.imread(os.path.join(root,name))\n",
        "      image1.resize((92, 112))\n",
        "      image1=image1.flatten(order='C')\n",
        "      #print(image1)\n",
        "      arr.append(image1)\n",
        "      labels.append(int(res[0]))\n",
        "      i=i+1\n",
        "num_nonfaces.append( nonfaces)     \n",
        "arr=np.array(arr)   \n",
        "labels=np.array(labels)    \n",
        "print(labels.shape)       \n",
        "print(arr.shape)\n",
        "#print(labels)      "
      ],
      "metadata": {
        "colab": {
          "base_uri": "https://localhost:8080/"
        },
        "id": "zhNSeazl8DC_",
        "outputId": "67170512-a6cf-4ecd-d53c-29d5ac03d547"
      },
      "execution_count": 37,
      "outputs": [
        {
          "output_type": "stream",
          "name": "stdout",
          "text": [
            "(600,)\n",
            "(600, 10304)\n"
          ]
        }
      ]
    },
    {
      "cell_type": "code",
      "source": [
        "print(labels.shape)       \n",
        "print(arr.shape)\n",
        "#print(labels)"
      ],
      "metadata": {
        "colab": {
          "base_uri": "https://localhost:8080/"
        },
        "id": "bx05rnRZ7Q04",
        "outputId": "7c1e5c0c-d0fb-4ca1-b30b-62853e4f4224"
      },
      "execution_count": 38,
      "outputs": [
        {
          "output_type": "stream",
          "name": "stdout",
          "text": [
            "(600,)\n",
            "(600, 10304)\n"
          ]
        }
      ]
    },
    {
      "cell_type": "code",
      "source": [
        "# adding the data to a dataframe\n",
        "df = pd.DataFrame(arr) \n",
        "df['label'] = pd.DataFrame(labels)\n",
        "# sorting the data according to labels\n",
        "df.sort_values(\"label\", inplace=True)\n",
        "df.tail(10)"
      ],
      "metadata": {
        "id": "cVugZrV8_OSp",
        "colab": {
          "base_uri": "https://localhost:8080/",
          "height": 392
        },
        "outputId": "043855de-11ff-47d1-bb6d-86a3f5d58553"
      },
      "execution_count": 39,
      "outputs": [
        {
          "output_type": "execute_result",
          "data": {
            "text/plain": [
              "       0    1    2    3    4    5    6    7    8    9  ...  10295  10296  \\\n",
              "332   58   54   57   57   54   54   53   61   55   56  ...     97     82   \n",
              "331  103  102  104  104  105  101  104  102  103  104  ...    150    155   \n",
              "330  122  121  121  123  124  123  121  125  124  125  ...     73     78   \n",
              "329  108  105  105  108  106  107  105  108  105  106  ...    139    147   \n",
              "328   56   58   50   51   51   55   54   54   56   57  ...     88     90   \n",
              "327  107  103  104  102  105  103  105  103  106  102  ...    143    152   \n",
              "326  109  110  113  111  112  110  111  112  110  112  ...     56     50   \n",
              "325   58   55   52   54   55   53   55   57   48   58  ...     54     54   \n",
              "335   49   65   53   56   51   61   54   55   59   53  ...     67     55   \n",
              "599  155  154  153  157  154  156  153  153  155  153  ...    137    141   \n",
              "\n",
              "     10297  10298  10299  10300  10301  10302  10303  label  \n",
              "332     66     85     92     99     97    115    128      2  \n",
              "331    151    174    166    160    139    152    178      2  \n",
              "330     75     78     75     81     78     78     80      2  \n",
              "329    169    156    142    139    169    147    165      2  \n",
              "328    126    148    172    153     63     75    189      2  \n",
              "327    151    152    175    167    155    133    159      2  \n",
              "326     50     54     52     55     49     52     51      2  \n",
              "325    101     93    112    142    131    115     68      2  \n",
              "335     92    101     94    121    134    130    145      2  \n",
              "599    135    123    112    111    113    110    111      2  \n",
              "\n",
              "[10 rows x 10305 columns]"
            ],
            "text/html": [
              "\n",
              "  <div id=\"df-0d401cc3-df00-42e6-8a0e-f8869c850606\">\n",
              "    <div class=\"colab-df-container\">\n",
              "      <div>\n",
              "<style scoped>\n",
              "    .dataframe tbody tr th:only-of-type {\n",
              "        vertical-align: middle;\n",
              "    }\n",
              "\n",
              "    .dataframe tbody tr th {\n",
              "        vertical-align: top;\n",
              "    }\n",
              "\n",
              "    .dataframe thead th {\n",
              "        text-align: right;\n",
              "    }\n",
              "</style>\n",
              "<table border=\"1\" class=\"dataframe\">\n",
              "  <thead>\n",
              "    <tr style=\"text-align: right;\">\n",
              "      <th></th>\n",
              "      <th>0</th>\n",
              "      <th>1</th>\n",
              "      <th>2</th>\n",
              "      <th>3</th>\n",
              "      <th>4</th>\n",
              "      <th>5</th>\n",
              "      <th>6</th>\n",
              "      <th>7</th>\n",
              "      <th>8</th>\n",
              "      <th>9</th>\n",
              "      <th>...</th>\n",
              "      <th>10295</th>\n",
              "      <th>10296</th>\n",
              "      <th>10297</th>\n",
              "      <th>10298</th>\n",
              "      <th>10299</th>\n",
              "      <th>10300</th>\n",
              "      <th>10301</th>\n",
              "      <th>10302</th>\n",
              "      <th>10303</th>\n",
              "      <th>label</th>\n",
              "    </tr>\n",
              "  </thead>\n",
              "  <tbody>\n",
              "    <tr>\n",
              "      <th>332</th>\n",
              "      <td>58</td>\n",
              "      <td>54</td>\n",
              "      <td>57</td>\n",
              "      <td>57</td>\n",
              "      <td>54</td>\n",
              "      <td>54</td>\n",
              "      <td>53</td>\n",
              "      <td>61</td>\n",
              "      <td>55</td>\n",
              "      <td>56</td>\n",
              "      <td>...</td>\n",
              "      <td>97</td>\n",
              "      <td>82</td>\n",
              "      <td>66</td>\n",
              "      <td>85</td>\n",
              "      <td>92</td>\n",
              "      <td>99</td>\n",
              "      <td>97</td>\n",
              "      <td>115</td>\n",
              "      <td>128</td>\n",
              "      <td>2</td>\n",
              "    </tr>\n",
              "    <tr>\n",
              "      <th>331</th>\n",
              "      <td>103</td>\n",
              "      <td>102</td>\n",
              "      <td>104</td>\n",
              "      <td>104</td>\n",
              "      <td>105</td>\n",
              "      <td>101</td>\n",
              "      <td>104</td>\n",
              "      <td>102</td>\n",
              "      <td>103</td>\n",
              "      <td>104</td>\n",
              "      <td>...</td>\n",
              "      <td>150</td>\n",
              "      <td>155</td>\n",
              "      <td>151</td>\n",
              "      <td>174</td>\n",
              "      <td>166</td>\n",
              "      <td>160</td>\n",
              "      <td>139</td>\n",
              "      <td>152</td>\n",
              "      <td>178</td>\n",
              "      <td>2</td>\n",
              "    </tr>\n",
              "    <tr>\n",
              "      <th>330</th>\n",
              "      <td>122</td>\n",
              "      <td>121</td>\n",
              "      <td>121</td>\n",
              "      <td>123</td>\n",
              "      <td>124</td>\n",
              "      <td>123</td>\n",
              "      <td>121</td>\n",
              "      <td>125</td>\n",
              "      <td>124</td>\n",
              "      <td>125</td>\n",
              "      <td>...</td>\n",
              "      <td>73</td>\n",
              "      <td>78</td>\n",
              "      <td>75</td>\n",
              "      <td>78</td>\n",
              "      <td>75</td>\n",
              "      <td>81</td>\n",
              "      <td>78</td>\n",
              "      <td>78</td>\n",
              "      <td>80</td>\n",
              "      <td>2</td>\n",
              "    </tr>\n",
              "    <tr>\n",
              "      <th>329</th>\n",
              "      <td>108</td>\n",
              "      <td>105</td>\n",
              "      <td>105</td>\n",
              "      <td>108</td>\n",
              "      <td>106</td>\n",
              "      <td>107</td>\n",
              "      <td>105</td>\n",
              "      <td>108</td>\n",
              "      <td>105</td>\n",
              "      <td>106</td>\n",
              "      <td>...</td>\n",
              "      <td>139</td>\n",
              "      <td>147</td>\n",
              "      <td>169</td>\n",
              "      <td>156</td>\n",
              "      <td>142</td>\n",
              "      <td>139</td>\n",
              "      <td>169</td>\n",
              "      <td>147</td>\n",
              "      <td>165</td>\n",
              "      <td>2</td>\n",
              "    </tr>\n",
              "    <tr>\n",
              "      <th>328</th>\n",
              "      <td>56</td>\n",
              "      <td>58</td>\n",
              "      <td>50</td>\n",
              "      <td>51</td>\n",
              "      <td>51</td>\n",
              "      <td>55</td>\n",
              "      <td>54</td>\n",
              "      <td>54</td>\n",
              "      <td>56</td>\n",
              "      <td>57</td>\n",
              "      <td>...</td>\n",
              "      <td>88</td>\n",
              "      <td>90</td>\n",
              "      <td>126</td>\n",
              "      <td>148</td>\n",
              "      <td>172</td>\n",
              "      <td>153</td>\n",
              "      <td>63</td>\n",
              "      <td>75</td>\n",
              "      <td>189</td>\n",
              "      <td>2</td>\n",
              "    </tr>\n",
              "    <tr>\n",
              "      <th>327</th>\n",
              "      <td>107</td>\n",
              "      <td>103</td>\n",
              "      <td>104</td>\n",
              "      <td>102</td>\n",
              "      <td>105</td>\n",
              "      <td>103</td>\n",
              "      <td>105</td>\n",
              "      <td>103</td>\n",
              "      <td>106</td>\n",
              "      <td>102</td>\n",
              "      <td>...</td>\n",
              "      <td>143</td>\n",
              "      <td>152</td>\n",
              "      <td>151</td>\n",
              "      <td>152</td>\n",
              "      <td>175</td>\n",
              "      <td>167</td>\n",
              "      <td>155</td>\n",
              "      <td>133</td>\n",
              "      <td>159</td>\n",
              "      <td>2</td>\n",
              "    </tr>\n",
              "    <tr>\n",
              "      <th>326</th>\n",
              "      <td>109</td>\n",
              "      <td>110</td>\n",
              "      <td>113</td>\n",
              "      <td>111</td>\n",
              "      <td>112</td>\n",
              "      <td>110</td>\n",
              "      <td>111</td>\n",
              "      <td>112</td>\n",
              "      <td>110</td>\n",
              "      <td>112</td>\n",
              "      <td>...</td>\n",
              "      <td>56</td>\n",
              "      <td>50</td>\n",
              "      <td>50</td>\n",
              "      <td>54</td>\n",
              "      <td>52</td>\n",
              "      <td>55</td>\n",
              "      <td>49</td>\n",
              "      <td>52</td>\n",
              "      <td>51</td>\n",
              "      <td>2</td>\n",
              "    </tr>\n",
              "    <tr>\n",
              "      <th>325</th>\n",
              "      <td>58</td>\n",
              "      <td>55</td>\n",
              "      <td>52</td>\n",
              "      <td>54</td>\n",
              "      <td>55</td>\n",
              "      <td>53</td>\n",
              "      <td>55</td>\n",
              "      <td>57</td>\n",
              "      <td>48</td>\n",
              "      <td>58</td>\n",
              "      <td>...</td>\n",
              "      <td>54</td>\n",
              "      <td>54</td>\n",
              "      <td>101</td>\n",
              "      <td>93</td>\n",
              "      <td>112</td>\n",
              "      <td>142</td>\n",
              "      <td>131</td>\n",
              "      <td>115</td>\n",
              "      <td>68</td>\n",
              "      <td>2</td>\n",
              "    </tr>\n",
              "    <tr>\n",
              "      <th>335</th>\n",
              "      <td>49</td>\n",
              "      <td>65</td>\n",
              "      <td>53</td>\n",
              "      <td>56</td>\n",
              "      <td>51</td>\n",
              "      <td>61</td>\n",
              "      <td>54</td>\n",
              "      <td>55</td>\n",
              "      <td>59</td>\n",
              "      <td>53</td>\n",
              "      <td>...</td>\n",
              "      <td>67</td>\n",
              "      <td>55</td>\n",
              "      <td>92</td>\n",
              "      <td>101</td>\n",
              "      <td>94</td>\n",
              "      <td>121</td>\n",
              "      <td>134</td>\n",
              "      <td>130</td>\n",
              "      <td>145</td>\n",
              "      <td>2</td>\n",
              "    </tr>\n",
              "    <tr>\n",
              "      <th>599</th>\n",
              "      <td>155</td>\n",
              "      <td>154</td>\n",
              "      <td>153</td>\n",
              "      <td>157</td>\n",
              "      <td>154</td>\n",
              "      <td>156</td>\n",
              "      <td>153</td>\n",
              "      <td>153</td>\n",
              "      <td>155</td>\n",
              "      <td>153</td>\n",
              "      <td>...</td>\n",
              "      <td>137</td>\n",
              "      <td>141</td>\n",
              "      <td>135</td>\n",
              "      <td>123</td>\n",
              "      <td>112</td>\n",
              "      <td>111</td>\n",
              "      <td>113</td>\n",
              "      <td>110</td>\n",
              "      <td>111</td>\n",
              "      <td>2</td>\n",
              "    </tr>\n",
              "  </tbody>\n",
              "</table>\n",
              "<p>10 rows × 10305 columns</p>\n",
              "</div>\n",
              "      <button class=\"colab-df-convert\" onclick=\"convertToInteractive('df-0d401cc3-df00-42e6-8a0e-f8869c850606')\"\n",
              "              title=\"Convert this dataframe to an interactive table.\"\n",
              "              style=\"display:none;\">\n",
              "        \n",
              "  <svg xmlns=\"http://www.w3.org/2000/svg\" height=\"24px\"viewBox=\"0 0 24 24\"\n",
              "       width=\"24px\">\n",
              "    <path d=\"M0 0h24v24H0V0z\" fill=\"none\"/>\n",
              "    <path d=\"M18.56 5.44l.94 2.06.94-2.06 2.06-.94-2.06-.94-.94-2.06-.94 2.06-2.06.94zm-11 1L8.5 8.5l.94-2.06 2.06-.94-2.06-.94L8.5 2.5l-.94 2.06-2.06.94zm10 10l.94 2.06.94-2.06 2.06-.94-2.06-.94-.94-2.06-.94 2.06-2.06.94z\"/><path d=\"M17.41 7.96l-1.37-1.37c-.4-.4-.92-.59-1.43-.59-.52 0-1.04.2-1.43.59L10.3 9.45l-7.72 7.72c-.78.78-.78 2.05 0 2.83L4 21.41c.39.39.9.59 1.41.59.51 0 1.02-.2 1.41-.59l7.78-7.78 2.81-2.81c.8-.78.8-2.07 0-2.86zM5.41 20L4 18.59l7.72-7.72 1.47 1.35L5.41 20z\"/>\n",
              "  </svg>\n",
              "      </button>\n",
              "      \n",
              "  <style>\n",
              "    .colab-df-container {\n",
              "      display:flex;\n",
              "      flex-wrap:wrap;\n",
              "      gap: 12px;\n",
              "    }\n",
              "\n",
              "    .colab-df-convert {\n",
              "      background-color: #E8F0FE;\n",
              "      border: none;\n",
              "      border-radius: 50%;\n",
              "      cursor: pointer;\n",
              "      display: none;\n",
              "      fill: #1967D2;\n",
              "      height: 32px;\n",
              "      padding: 0 0 0 0;\n",
              "      width: 32px;\n",
              "    }\n",
              "\n",
              "    .colab-df-convert:hover {\n",
              "      background-color: #E2EBFA;\n",
              "      box-shadow: 0px 1px 2px rgba(60, 64, 67, 0.3), 0px 1px 3px 1px rgba(60, 64, 67, 0.15);\n",
              "      fill: #174EA6;\n",
              "    }\n",
              "\n",
              "    [theme=dark] .colab-df-convert {\n",
              "      background-color: #3B4455;\n",
              "      fill: #D2E3FC;\n",
              "    }\n",
              "\n",
              "    [theme=dark] .colab-df-convert:hover {\n",
              "      background-color: #434B5C;\n",
              "      box-shadow: 0px 1px 3px 1px rgba(0, 0, 0, 0.15);\n",
              "      filter: drop-shadow(0px 1px 2px rgba(0, 0, 0, 0.3));\n",
              "      fill: #FFFFFF;\n",
              "    }\n",
              "  </style>\n",
              "\n",
              "      <script>\n",
              "        const buttonEl =\n",
              "          document.querySelector('#df-0d401cc3-df00-42e6-8a0e-f8869c850606 button.colab-df-convert');\n",
              "        buttonEl.style.display =\n",
              "          google.colab.kernel.accessAllowed ? 'block' : 'none';\n",
              "\n",
              "        async function convertToInteractive(key) {\n",
              "          const element = document.querySelector('#df-0d401cc3-df00-42e6-8a0e-f8869c850606');\n",
              "          const dataTable =\n",
              "            await google.colab.kernel.invokeFunction('convertToInteractive',\n",
              "                                                     [key], {});\n",
              "          if (!dataTable) return;\n",
              "\n",
              "          const docLinkHtml = 'Like what you see? Visit the ' +\n",
              "            '<a target=\"_blank\" href=https://colab.research.google.com/notebooks/data_table.ipynb>data table notebook</a>'\n",
              "            + ' to learn more about interactive tables.';\n",
              "          element.innerHTML = '';\n",
              "          dataTable['output_type'] = 'display_data';\n",
              "          await google.colab.output.renderOutput(dataTable, element);\n",
              "          const docLink = document.createElement('div');\n",
              "          docLink.innerHTML = docLinkHtml;\n",
              "          element.appendChild(docLink);\n",
              "        }\n",
              "      </script>\n",
              "    </div>\n",
              "  </div>\n",
              "  "
            ]
          },
          "metadata": {},
          "execution_count": 39
        }
      ]
    },
    {
      "cell_type": "code",
      "source": [
        "# seperating images from labels\n",
        "Y = np.array(df['label'])\n",
        "df = df.drop(axis=1, labels=\"label\")"
      ],
      "metadata": {
        "id": "eX1YeAfdDjVA"
      },
      "execution_count": 40,
      "outputs": []
    },
    {
      "cell_type": "code",
      "source": [
        "X_train = []\n",
        "X_test =  []  \n",
        "labels_train = []\n",
        "labels_test =  []  \n",
        "\n",
        "for i in range(0,(400+nonfaces)):\n",
        "    if((i%2==0)):\n",
        "       X_test.append(arr[i,:])\n",
        "       labels_test.append(labels[i])\n",
        "    else:\n",
        "       X_train.append(arr[i,:])\n",
        "       labels_train.append(labels[i])\n",
        " \n",
        "print(X_test[0])\n",
        "print(labels_test[0])"
      ],
      "metadata": {
        "colab": {
          "base_uri": "https://localhost:8080/"
        },
        "id": "ujLhTgof8m8y",
        "outputId": "53c3f1c7-4468-43a5-fbd7-4317a7c88a50"
      },
      "execution_count": 41,
      "outputs": [
        {
          "output_type": "stream",
          "name": "stdout",
          "text": [
            "[157 156 153 ... 141 141 133]\n",
            "1\n"
          ]
        }
      ]
    },
    {
      "cell_type": "code",
      "source": [
        "def PCA(X):\n",
        "  # X           ---> data to be reduced\n",
        "  # alpha       ---> total variance threshold\n",
        "  # evectors    ---> eigen vectors used to reduce the dimensionality\n",
        "\n",
        "  # calculate the mean\n",
        "  mean = np.mean(X,axis=0)\n",
        "  # center the data\n",
        "  z = X - mean\n",
        "  # calculate covariance matrix\n",
        "  cov = (1/X.shape[0])*np.dot(z.T,z)\n",
        "  # calculate eigenvalues and eigenvectors\n",
        "  (evalues, evectors) = np.linalg.eigh(cov)\n",
        "  evalues = np.flip(evalues)\n",
        "  evectors = np.flip(evectors,axis=1)\n",
        "  return (evalues, evectors)\n",
        "     \n"
      ],
      "metadata": {
        "id": "zrbGobMiCwC6"
      },
      "execution_count": 42,
      "outputs": []
    },
    {
      "cell_type": "code",
      "source": [
        "def choose_dim(evalues, evectors, alpha):\n",
        "  # fraction of total variance\n",
        "  fr = evalues/evalues.sum()\n",
        "\n",
        "  totvar = 0\n",
        "  i = 0\n",
        "\n",
        "  while(totvar < alpha):\n",
        "    totvar = totvar + fr[i]\n",
        "    i = i + 1\n",
        "\n",
        "  # choose dimensionality\n",
        "  evectors = evectors[ : , 0:i]\n",
        "\n",
        "  return evectors\n",
        "     "
      ],
      "metadata": {
        "id": "mLyUaC90CwF4"
      },
      "execution_count": 43,
      "outputs": []
    },
    {
      "cell_type": "code",
      "source": [
        "def reduce_dim(X, evectors):\n",
        "  reducedmat = np.matmul(evectors.T,X.T).T\n",
        "  return reducedmat\n",
        "     "
      ],
      "metadata": {
        "id": "w0kzDzYlCwJT"
      },
      "execution_count": 44,
      "outputs": []
    },
    {
      "cell_type": "code",
      "source": [
        "# DO NOT RUN THIS CELL IF YOU ALREADY HAVE THE PICKLE FILES\n",
        "(evalues, evectors) = PCA(arr)\n",
        "# DO NOT RUN THIS CELL IF YOU ALREADY HAVE THE PICKLE FILES\n",
        "     "
      ],
      "metadata": {
        "id": "PUD7P1g8CwWr"
      },
      "execution_count": 45,
      "outputs": []
    },
    {
      "cell_type": "code",
      "source": [
        "# saving the PCA output for later use\n",
        "file_name = 'PCA_output.pkl'\n",
        "with open(file_name, 'wb') as file:\n",
        "    pickle.dump(evalues, file)\n",
        "    print(f'PCA eigen values successfully saved to \"{file_name}\"')\n",
        "    pickle.dump(evectors, file)\n",
        "    print(f'PCA eigen vectors successfully saved to \"{file_name}\"')"
      ],
      "metadata": {
        "id": "cpTXRcGxDAsY"
      },
      "execution_count": null,
      "outputs": []
    },
    {
      "cell_type": "code",
      "source": [
        "file_name = 'PCA_output.pkl'\n",
        "with open(file_name, 'rb') as file:\n",
        "    evalues  = pickle.load(file)\n",
        "    print(f'PCA eigen values successfully loaded from \"{file_name}\"')\n",
        "    evectors  = pickle.load(file)\n",
        "    print(f'PCA eigen vectors loaded from \"{file_name}\"')"
      ],
      "metadata": {
        "id": "L0JMN9mkDAu4"
      },
      "execution_count": null,
      "outputs": []
    },
    {
      "cell_type": "code",
      "source": [
        "\n",
        "# after reducing with PCA with r = 0.8\n",
        "print(\"After PCA with r = 0.8\")\n",
        "evectors_red = choose_dim(evalues, evectors, 0.8)\n",
        "X_train_red, X_test_red = projectData(np.array(X_train), np.array(X_test), evectors_red)\n",
        "yhat = KNN(X_train_red, X_test_red, labels_train, 1)\n",
        "test_score = accuracy_score(labels_test, yhat) * 100\n",
        "print(f\"Testing Set Accuracy: {test_score}\\n\\n\")\n",
        "\n",
        "# after reducing with PCA with r = 0.85\n",
        "print(\"After PCA with r = 0.85\")\n",
        "evectors_red = choose_dim(evalues, evectors, 0.85)\n",
        "X_train_red, X_test_red = projectData(np.array(X_train), np.array(X_test), evectors_red)\n",
        "yhat = KNN(X_train_red, X_test_red, labels_train, 1)\n",
        "test_score = accuracy_score(labels_test, yhat) * 100\n",
        "print(f\"Testing Set Accuracy: {test_score}\\n\\n\")\n",
        "\n",
        "# after reducing with PCA with r = 0.9\n",
        "print(\"After PCA with r = 0.9\")\n",
        "evectors_red = choose_dim(evalues, evectors, 0.9)\n",
        "X_train_red, X_test_red = projectData(np.array(X_train), np.array(X_test), evectors_red)\n",
        "yhat = KNN(X_train_red, X_test_red, labels_train, 1)\n",
        "test_score = accuracy_score(labels_test, yhat) * 100\n",
        "print(f\"Testing Set Accuracy: {test_score}\\n\\n\")\n",
        "\n",
        "# after reducing with PCA with r = 0.95\n",
        "print(\"After PCA with r = 0.95\")\n",
        "evectors_red = choose_dim(evalues, evectors, 0.95)\n",
        "X_train_red, X_test_red = projectData(np.array(X_train), np.array(X_test), evectors_red)\n",
        "yhat = KNN(X_train_red, X_test_red, labels_train, 1)\n",
        "test_score = accuracy_score(labels_test, yhat) * 100\n",
        "print(f\"Testing Set Accuracy: {test_score}\")"
      ],
      "metadata": {
        "id": "zd_4ktFTDAxR"
      },
      "execution_count": null,
      "outputs": []
    },
    {
      "cell_type": "code",
      "source": [
        "accuracies=[]\n",
        "num_k=[]\n",
        "alphas=[]\n",
        "def Accuracies(num,alpha,X_train,X_test,labels_train, labels_test):\n",
        "    num_k.append(num)\n",
        "    alphas.append(alpha)\n",
        "    print(\"After PCA with r = \",alpha,\"k = \",num)\n",
        "    yhat = KNN(X_train, X_test, labels_train, num)\n",
        "    accuracies.append(accuracy_score(labels_test, yhat))\n",
        "    test_score = accuracy_score(labels_test, yhat) * 100\n",
        "    print(f\"Testing Set Accuracy: {test_score}\")"
      ],
      "metadata": {
        "id": "ReusdZ4Jfcfi"
      },
      "execution_count": null,
      "outputs": []
    },
    {
      "cell_type": "code",
      "source": [],
      "metadata": {
        "id": "k5tzUa2bftVP"
      },
      "execution_count": null,
      "outputs": []
    },
    {
      "cell_type": "code",
      "source": [
        "evectors_red = choose_dim(evalues, evectors, 0.85)\n",
        "X_train_red, X_test_red = projectData(np.array(X_train), np.array(X_test), evectors_red)\n",
        "Accuracies(1,0.85,X_train_red,X_test_red,labels_train,labels_test)\n",
        "Accuracies(3,0.85,X_train_red,X_test_red,labels_train,labels_test)\n",
        "Accuracies(5,0.85,X_train_red,X_test_red,labels_train,labels_test)\n",
        "Accuracies(7,0.85,X_train_red,X_test_red,labels_train,labels_test)\n",
        "\n",
        "evectors_red = choose_dim(evalues, evectors, 0.9)\n",
        "X_train_red, X_test_red = projectData(np.array(X_train), np.array(X_test), evectors_red)\n",
        "Accuracies(1,0.9,X_train_red,X_test_red,labels_train,labels_test)\n",
        "Accuracies(3,0.9,X_train_red,X_test_red,labels_train,labels_test)\n",
        "Accuracies(5,0.9,X_train_red,X_test_red,labels_train,labels_test)\n",
        "Accuracies(7,0.9,X_train_red,X_test_red,labels_train,labels_test)\n",
        "\n",
        "evectors_red = choose_dim(evalues, evectors, 0.95)\n",
        "X_train_red, X_test_red = projectData(np.array(X_train), np.array(X_test), evectors_red)\n",
        "Accuracies(1,0.95,X_train_red,X_test_red,labels_train,labels_test)\n",
        "Accuracies(3,0.95,X_train_red,X_test_red,labels_train,labels_test)\n",
        "Accuracies(5,0.95,X_train_red,X_test_red,labels_train,labels_test)\n",
        "Accuracies(7,0.95,X_train_red,X_test_red,labels_train,labels_test)"
      ],
      "metadata": {
        "id": "tBzQQyrZDAzx"
      },
      "execution_count": null,
      "outputs": []
    },
    {
      "cell_type": "code",
      "source": [
        "fig = plt.figure()\n",
        "ax = plt.axes(projection ='3d')\n",
        "ax.scatter(num_k, alphas, accuracies)\n",
        "plt.xlabel('KNN Classifier')\n",
        "plt.ylabel('alpha')\n",
        "plt.show()"
      ],
      "metadata": {
        "id": "vQ-IvQOJDA3R"
      },
      "execution_count": null,
      "outputs": []
    },
    {
      "cell_type": "code",
      "source": [
        "accPCA=[]\n",
        "numberofnonfaces=[]"
      ],
      "metadata": {
        "id": "rKlURx4sieZd"
      },
      "execution_count": 34,
      "outputs": []
    },
    {
      "cell_type": "code",
      "source": [
        "evectors_red = choose_dim(evalues, evectors, 0.85)\n",
        "X_train_red, X_test_red = projectData(np.array(X_train), np.array(X_test), evectors_red)\n",
        "yhat = KNN(X_train_red, X_test_red, labels_train, 1)\n",
        "accPCA.append(accuracy_score(labels_test, yhat))\n",
        "numberofnonfaces.append(nonfaces)\n",
        "print(accPCA)\n",
        "print(numberofnonfaces)"
      ],
      "metadata": {
        "id": "rGvmEXDGkIfT"
      },
      "execution_count": 46,
      "outputs": []
    },
    {
      "cell_type": "code",
      "source": [
        "print(accPCA)\n",
        "print(numberofnonfaces)"
      ],
      "metadata": {
        "colab": {
          "base_uri": "https://localhost:8080/"
        },
        "id": "Q3dQH2tOlMRN",
        "outputId": "e116dc8f-43e6-4ec0-8281-459c7a3c86fc"
      },
      "execution_count": 48,
      "outputs": [
        {
          "output_type": "stream",
          "name": "stdout",
          "text": [
            "[0.9966666666666667]\n",
            "[200]\n"
          ]
        }
      ]
    },
    {
      "cell_type": "code",
      "source": [
        " # after changing\n",
        "X_train = []\n",
        "X_test =  []  \n",
        "labels_train = []\n",
        "labels_test =  []  \n",
        "\n",
        "for i in range(0,(400+nonfaces)):\n",
        "    if((i%2==0)):\n",
        "       X_test.append(arr[i,:])\n",
        "       labels_test.append(labels[i])\n",
        "    else:\n",
        "       X_train.append(arr[i,:])\n",
        "       labels_train.append(labels[i])\n",
        "# DO NOT RUN THIS CELL IF YOU ALREADY HAVE THE PICKLE FILES\n",
        "(evalues, evectors) = PCA(arr)\n",
        "# DO NOT RUN THIS CELL IF YOU ALREADY HAVE THE PICKLE FILES\n",
        "evectors_red = choose_dim(evalues, evectors, 0.85)\n",
        "X_train_red, X_test_red = projectData(np.array(X_train), np.array(X_test), evectors_red)\n",
        "yhat = KNN(X_train_red, X_test_red, labels_train, 1)\n",
        "accPCA.append(accuracy_score(labels_test, yhat))\n",
        "numberofnonfaces.append(nonfaces)\n",
        "#test_score = accuracy_score(labels_test, yhat) * 100\n",
        "#print(f\"Testing Set Accuracy: {test_score}\")\n",
        "#Accuracies(1,0.85,X_train_red,X_test_red,labels_train,labels_test)     "
      ],
      "metadata": {
        "id": "emMtMtOVgH2n"
      },
      "execution_count": 60,
      "outputs": []
    },
    {
      "cell_type": "code",
      "source": [
        "print(accPCA)\n",
        "print(numberofnonfaces)"
      ],
      "metadata": {
        "colab": {
          "base_uri": "https://localhost:8080/"
        },
        "id": "tiDWSjwzgH49",
        "outputId": "9e1244cf-56ee-40c6-bf74-86706364fdce"
      },
      "execution_count": 67,
      "outputs": [
        {
          "output_type": "stream",
          "name": "stdout",
          "text": [
            "[0.99666667 0.99733333 0.99763033 0.99788136 0.99885845]\n",
            "[ 200  350  444  544 1352]\n"
          ]
        }
      ]
    },
    {
      "cell_type": "code",
      "source": [
        "plt.plot(numberofnonfaces , accPCA)\n",
        "plt.xlabel('Number of non faces')\n",
        "plt.ylabel('Accuracy')\n",
        "plt.show()"
      ],
      "metadata": {
        "colab": {
          "base_uri": "https://localhost:8080/",
          "height": 279
        },
        "id": "wMgXitDygH-q",
        "outputId": "6c763008-20cd-4ea7-d614-80da30083bd7"
      },
      "execution_count": 68,
      "outputs": [
        {
          "output_type": "display_data",
          "data": {
            "text/plain": [
              "<Figure size 432x288 with 1 Axes>"
            ],
            "image/png": "[encoded data removed]"
          },
          "metadata": {
            "needs_background": "light"
          }
        }
      ]
    },
    {
      "cell_type": "code",
      "source": [
        "def KNN(X_train, X_test, y_train, k):   \n",
        "  # predicted label\n",
        "  yPredicted = []\n",
        "  for i in range(len(X_test)):\n",
        "    # measuring the distance between that test point each train point\n",
        "    dist = dict([(j, np.sqrt(np.sum((X_test[i] - X_train[j])**2))) for j in range(len(X_train))])\n",
        "    # sorting the distances\n",
        "    dist = sorted(dist.items(), key=lambda kv:(kv[1], kv[0]))\n",
        "    # considering only the k closest points\n",
        "    dist = dict(dist[:k])\n",
        "    # print(dist)\n",
        "    # creating a counter object to track the labels of k closest neighbors\n",
        "    counter = Counter([y_train[k] for k in dist.keys()])\n",
        "    # getting the most common label of all the nearest neighbors\n",
        "    yPredicted.append(counter.most_common()[0][0])\n",
        "    # print(counter.most_common()[0][0])\n",
        "  return yPredicted"
      ],
      "metadata": {
        "id": "JUFam-qXPZi7"
      },
      "execution_count": null,
      "outputs": []
    },
    {
      "cell_type": "code",
      "source": [
        "def projectData(X_train, X_test, W):\n",
        "    X_train = np.array([np.matmul(W.T, X_train[i]) for i in range(X_train.shape[0])])\n",
        "    X_test = np.array([np.matmul(W.T, X_test[i]) for i in range(X_test.shape[0])])\n",
        "    return X_train, X_test"
      ],
      "metadata": {
        "id": "Aiol2vfKqaob"
      },
      "execution_count": null,
      "outputs": []
    },
    {
      "cell_type": "code",
      "source": [
        "labels2 = []\n",
        "arr2 =[]\n",
        "\n",
        "for root,di,files in os.walk(\"/content/drive/MyDrive/Colab Notebooks/dataset3/11\"): \n",
        "  for name in files:\n",
        "    if name.endswith(\"jpg\") or name.endswith(\"jpeg\") or name.endswith(\"pgm\") :\n",
        "      root_folder = os.path.split(root) ##   \n",
        "      if name.endswith(\"jpg\") or name.endswith(\"jpeg\"): \n",
        "        nonfaces = nonfaces + 1\n",
        "        labels2.append(1)\n",
        "        image1 = cv2.imread(os.path.join(root,name), 0)\n",
        "      elif name.endswith(\"pgm\") :\n",
        "        image1 = imread(os.path.join(root,name))\n",
        "        labels2.append(2)  \n",
        "      image1.resize((92, 112))\n",
        "      image1=image1.flatten(order='C')\n",
        "      arr2.append(image1)\n",
        "      i=i+1\n",
        "      \n",
        "num_nonfaces.append( nonfaces)           \n",
        "arr2=np.array(arr2)\n",
        "arr = np.vstack((arr, arr2))\n",
        "labels2=np.array(labels2)\n",
        "labels = np.hstack((labels, labels2))\n",
        "print(labels.shape)       \n",
        "print(arr.shape)\n",
        "#print(labels)    \n",
        "#AfterChanging_nonfaces()"
      ],
      "metadata": {
        "colab": {
          "base_uri": "https://localhost:8080/"
        },
        "id": "4vKzEqxgLRaR",
        "outputId": "3462c935-d7a5-4dbd-83de-7116e1ba1af1"
      },
      "execution_count": 49,
      "outputs": [
        {
          "output_type": "stream",
          "name": "stdout",
          "text": [
            "(750,)\n",
            "(750, 10304)\n"
          ]
        }
      ]
    },
    {
      "cell_type": "code",
      "source": [
        "labels2 = []\n",
        "arr2 =[]\n",
        "\n",
        "for root,di,files in os.walk(\"/content/drive/MyDrive/Colab Notebooks/dataset3/21\"): \n",
        "  for name in files:\n",
        "    if name.endswith(\"jpg\") or name.endswith(\"jpeg\") or name.endswith(\"pgm\") :\n",
        "      root_folder = os.path.split(root) ##   \n",
        "      if name.endswith(\"jpg\") or name.endswith(\"jpeg\"): \n",
        "        nonfaces = nonfaces + 1\n",
        "        labels2.append(1)\n",
        "        image1 = cv2.imread(os.path.join(root,name), 0)\n",
        "      elif name.endswith(\"pgm\") :\n",
        "        image1 = imread(os.path.join(root,name))\n",
        "        labels2.append(2)  \n",
        "      image1.resize((92, 112))\n",
        "      image1=image1.flatten(order='C')\n",
        "      arr2.append(image1)\n",
        "      i=i+1\n",
        "      \n",
        "num_nonfaces.append( nonfaces)           \n",
        "arr2=np.array(arr2)\n",
        "arr = np.vstack((arr, arr2))\n",
        "labels2=np.array(labels2)\n",
        "labels = np.hstack((labels, labels2))\n",
        "print(labels.shape)       \n",
        "print(arr.shape)\n",
        "#print(labels)    \n"
      ],
      "metadata": {
        "id": "5mY_6bgxSr3m",
        "colab": {
          "base_uri": "https://localhost:8080/"
        },
        "outputId": "cace32ac-1624-4320-bc8e-57b06bd7eabf"
      },
      "execution_count": 52,
      "outputs": [
        {
          "output_type": "stream",
          "name": "stdout",
          "text": [
            "(844,)\n",
            "(844, 10304)\n"
          ]
        }
      ]
    },
    {
      "cell_type": "code",
      "source": [
        "print(labels.shape)       \n",
        "print(arr.shape)"
      ],
      "metadata": {
        "id": "cUWpk6Du91M1",
        "colab": {
          "base_uri": "https://localhost:8080/"
        },
        "outputId": "b1b87c98-15f7-4069-ad61-125df769fa9d"
      },
      "execution_count": 62,
      "outputs": [
        {
          "output_type": "stream",
          "name": "stdout",
          "text": [
            "(1752,)\n",
            "(1752, 10304)\n"
          ]
        }
      ]
    },
    {
      "cell_type": "code",
      "source": [
        "labels2 = []\n",
        "arr2 =[]\n",
        "\n",
        "for root,di,files in os.walk(\"/content/drive/MyDrive/Colab Notebooks/dataset3/2\"): \n",
        "  for name in files:\n",
        "    if name.endswith(\"jpg\") or name.endswith(\"jpeg\") or name.endswith(\"pgm\") :\n",
        "      root_folder = os.path.split(root) ##   \n",
        "      if name.endswith(\"jpg\") or name.endswith(\"jpeg\"): \n",
        "        nonfaces = nonfaces + 1\n",
        "        labels2.append(1)\n",
        "        image1 = cv2.imread(os.path.join(root,name), 0)\n",
        "      elif name.endswith(\"pgm\") :\n",
        "        image1 = imread(os.path.join(root,name))\n",
        "        labels2.append(2)  \n",
        "      image1.resize((92, 112))\n",
        "      image1=image1.flatten(order='C')\n",
        "      arr2.append(image1)\n",
        "      i=i+1\n",
        "      \n",
        "num_nonfaces.append( nonfaces)           \n",
        "arr2=np.array(arr2)\n",
        "arr = np.vstack((arr, arr2))\n",
        "labels2=np.array(labels2)\n",
        "labels = np.hstack((labels, labels2))\n",
        "print(labels.shape)       \n",
        "print(arr.shape)\n",
        "#print(labels)    \n"
      ],
      "metadata": {
        "colab": {
          "base_uri": "https://localhost:8080/"
        },
        "id": "GCPZPgo4wQ-G",
        "outputId": "47de64bd-cc31-4028-b861-871dd1356849"
      },
      "execution_count": 56,
      "outputs": [
        {
          "output_type": "stream",
          "name": "stdout",
          "text": [
            "(944,)\n",
            "(944, 10304)\n"
          ]
        }
      ]
    },
    {
      "cell_type": "code",
      "source": [
        "#Call the cell of\n",
        "#AfterChanging_nonfaces()"
      ],
      "metadata": {
        "id": "Ny4WpuSwwTfo"
      },
      "execution_count": null,
      "outputs": []
    },
    {
      "cell_type": "code",
      "source": [
        "labels2 = []\n",
        "arr2 =[]\n",
        "\n",
        "for root,di,files in os.walk(\"/content/drive/MyDrive/Colab Notebooks/dataset3/1\"): \n",
        "  for name in files:\n",
        "    if name.endswith(\"jpg\") or name.endswith(\"jpeg\") or name.endswith(\"pgm\") :\n",
        "      root_folder = os.path.split(root) ##   \n",
        "      if name.endswith(\"jpg\") or name.endswith(\"jpeg\"): \n",
        "        nonfaces = nonfaces + 1\n",
        "        labels2.append(1)\n",
        "        image1 = cv2.imread(os.path.join(root,name), 0)\n",
        "      elif name.endswith(\"pgm\") :\n",
        "        image1 = imread(os.path.join(root,name))\n",
        "        labels2.append(2)  \n",
        "      image1.resize((92, 112))\n",
        "      image1=image1.flatten(order='C')\n",
        "      arr2.append(image1)\n",
        "      i=i+1\n",
        "      \n",
        "num_nonfaces.append( nonfaces)           \n",
        "arr2=np.array(arr2)\n",
        "arr = np.vstack((arr, arr2))\n",
        "labels2=np.array(labels2)\n",
        "labels = np.hstack((labels, labels2))\n",
        "print(labels.shape)       \n",
        "print(arr.shape)\n",
        "#print(labels)    \n"
      ],
      "metadata": {
        "colab": {
          "base_uri": "https://localhost:8080/"
        },
        "id": "TqJ-fzBvwVyd",
        "outputId": "e64f4999-86b1-49fe-de6e-c26c3740ff40"
      },
      "execution_count": 59,
      "outputs": [
        {
          "output_type": "stream",
          "name": "stdout",
          "text": [
            "(1752,)\n",
            "(1752, 10304)\n"
          ]
        }
      ]
    },
    {
      "cell_type": "code",
      "source": [
        "#Call the cell of\n",
        "#AfterChanging_nonfaces()\n",
        "print(num_nonfaces)"
      ],
      "metadata": {
        "colab": {
          "base_uri": "https://localhost:8080/"
        },
        "id": "USQLVsCqwdHO",
        "outputId": "d99f75fc-975b-46a8-b1bc-7f5a4614a85c"
      },
      "execution_count": null,
      "outputs": [
        {
          "output_type": "stream",
          "name": "stdout",
          "text": [
            "[200, 350, 444, 544, 1352]\n"
          ]
        }
      ]
    },
    {
      "cell_type": "code",
      "source": [
        "plt.plot(num_nonfaces , accff)\n",
        "plt.xlabel('Number of non faces')\n",
        "plt.ylabel('Accuracy')\n",
        "plt.show()"
      ],
      "metadata": {
        "id": "hPOgARfE91PY",
        "colab": {
          "base_uri": "https://localhost:8080/",
          "height": 279
        },
        "outputId": "52f398f6-5f94-4f36-a5c9-932f2c321205"
      },
      "execution_count": null,
      "outputs": [
        {
          "output_type": "display_data",
          "data": {
            "text/plain": [
              "<Figure size 432x288 with 1 Axes>"
            ],
            "image/png": "[encoded data removed]"
          },
          "metadata": {
            "needs_background": "light"
          }
        }
      ]
    },
    {
      "cell_type": "code",
      "source": [
        "####################################################################################################################"
      ],
      "metadata": {
        "id": "NZqmRThp91Vo"
      },
      "execution_count": null,
      "outputs": []
    },
    {
      "cell_type": "code",
      "source": [
        "#### 7.iii\n",
        "from sklearn.neighbors import KNeighborsClassifier\n",
        "from sklearn.metrics import accuracy_score\n",
        "acc=[]\n",
        "s=[]\n",
        "f=[]\n",
        "knn = KNeighborsClassifier(n_neighbors=1)\n",
        "knn.fit(X_train, labels_train)\n",
        "#before reduction\n",
        "#pred = knn.predict(X_test)\n",
        "#print('labels test',labels_test)\n",
        "#print(pred)\n",
        "knn.score(X_test, labels_test)\n",
        "\n",
        "\n",
        "knn = KNeighborsClassifier(n_neighbors=1)\n",
        "knn.fit(X_train_red, labels_train)\n",
        "print(knn.score(X_test_red, labels_test))\n",
        "pred = knn.predict(X_test_red)\n",
        "print(accuracy_score(pred,labels_test))\n",
        "acc.append(accuracy_score(pred,labels_test))\n",
        "\n",
        "pred = knn.predict(X_test_red)\n",
        "#print(X_test_red,labels_test)\n",
        "#print('labels test',labels_test)\n",
        "#print(pred)\n",
        "for i in range(len(pred)):\n",
        "    if(labels_test[i] != pred[i]):\n",
        "       f.append([X_test_red[i],labels_test[i]])\n",
        "    else:\n",
        "       s.append([X_test_red[i],labels_test[i]])\n",
        "print(f[0])       "
      ],
      "metadata": {
        "colab": {
          "base_uri": "https://localhost:8080/"
        },
        "id": "8tlSi9_1-bey",
        "outputId": "9be93bd1-091c-47a1-ad5a-6592bece0516"
      },
      "execution_count": null,
      "outputs": [
        {
          "output_type": "stream",
          "name": "stdout",
          "text": [
            "0.7867298578199052\n",
            "0.7867298578199052\n",
            "[array([ 8.95092952, 61.22145525]), 1]\n"
          ]
        }
      ]
    },
    {
      "cell_type": "code",
      "source": [
        "def KMC(X, k, epsilon=0.01, maxIter=100):\n",
        "  # initializing the error to be max at first\n",
        "  err = float('inf')\n",
        "  # randomly initializing the centroids\n",
        "  centroid = [X[np.random.randint(0, len(X)-1)] for i in range(k)]\n",
        "  while maxIter > 0 and err >= epsilon:\n",
        "    maxIter -= 1\n",
        "    cluster = [[] for i in range(k)]\n",
        "    # copying the old centroids\n",
        "    oldCentroid = copy.deepcopy(centroid)\n",
        "    # assigning each data point to closest cluster\n",
        "    for x in X:\n",
        "      minn, j = float('inf'), 0\n",
        "      for i in range(len(centroid)):\n",
        "        dist = np.linalg.norm(x-centroid[i]) ** 2\n",
        "        if dist < minn: minn, j = dist, i\n",
        "      cluster[j].append(x)\n",
        "    # updating the centroids\n",
        "    for i in range(len(cluster)):\n",
        "      if len(cluster[i]) != 0: centroid[i] = sum(cluster[i]) / len(cluster[i])\n",
        "    # if centroids didn't change, then terminate\n",
        "    err = 0\n",
        "    for i in range(len(centroid)):\n",
        "      err += np.linalg.norm(centroid[i] - oldCentroid[i]) ** 2\n",
        "  return cluster"
      ],
      "metadata": {
        "id": "NKpImacpJa4R"
      },
      "execution_count": null,
      "outputs": []
    }
  ]
}
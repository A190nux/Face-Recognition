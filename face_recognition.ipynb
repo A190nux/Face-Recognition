{
  "nbformat": 4,
  "nbformat_minor": 0,
  "metadata": {
    "colab": {
      "provenance": []
    },
    "kernelspec": {
      "name": "python3",
      "display_name": "Python 3"
    },
    "language_info": {
      "name": "python"
    }
  },
  "cells": [
    {
      "cell_type": "code",
      "execution_count": 8,
      "metadata": {
        "id": "MT3flBJqJPZ9"
      },
      "outputs": [],
      "source": [
        "import copy\n",
        "import numpy as np\n",
        "import matplotlib.pyplot as plt\n",
        "from sklearn.neighbors import KNeighborsClassifier as ks"
      ]
    },
    {
      "cell_type": "code",
      "source": [
        "def LDA(D, Y=None, noOfDims=None):\n",
        "    # initializing the variables\n",
        "    summ, lenn = 0, 0\n",
        "    # computing the mean for each class\n",
        "    mu = []\n",
        "    for x in D: \n",
        "        mu.append(np.mean(x, axis=0, keepdims=True).T)\n",
        "        # calculating the sum and overall number\n",
        "        # elements for overall mu\n",
        "        summ += sum(x)\n",
        "        lenn += len(x)\n",
        "    mu = np.array(mu)\n",
        "    overallMu = summ / lenn\n",
        "    # computing the between class scatter matrices\n",
        "    SB = 0\n",
        "    for i in range(len(mu)): SB += len(D[i]) * np.matmul((mu[i]-overallMu), (mu[i]-overallMu).T)\n",
        "    # centering the class matrices\n",
        "    Z = np.array([D[i] - mu[i].T for i in range(len(D))])\n",
        "    # computing the within class scatter matrices\n",
        "    S = np.array([np.matmul(Z[i].T, Z[i]) for i in range(len(Z))])\n",
        "    # performing eigenvalue decomposition\n",
        "    eigValues, eigVectors = np.linalg.eigh(np.matmul(np.linalg.inv(sum(S)), SB))\n",
        "    # returning the dominant eigen vectors\n",
        "    return eigVectors[::-1][:noOfDims].T"
      ],
      "metadata": {
        "id": "rY_EVhf_JVXB"
      },
      "execution_count": 2,
      "outputs": []
    },
    {
      "cell_type": "code",
      "source": [
        "def projectData(X_train, X_test, W):\n",
        "    X_train = np.array([np.matmul(W.T, X_train[i]) for i in range(X_train.shape[0])])\n",
        "    X_test = np.array([np.matmul(W.T, X_test[i]) for i in range(X_test.shape[0])])\n",
        "    return X_train, X_test"
      ],
      "metadata": {
        "id": "ugrJiPaYJYpq"
      },
      "execution_count": 3,
      "outputs": []
    },
    {
      "cell_type": "code",
      "source": [
        "def KMC(X, k, epsilon=0.01, maxIter=100):\n",
        "  # initializing the error to be max at first\n",
        "  err = float('inf')\n",
        "  # randomly initializing the centroids\n",
        "  centroid = [X[np.random.randint(0, len(X)-1)] for i in range(k)]\n",
        "  while maxIter > 0 and err >= epsilon:\n",
        "    maxIter -= 1\n",
        "    cluster = [[] for i in range(k)]\n",
        "    # copying the old centroids\n",
        "    oldCentroid = copy.deepcopy(centroid)\n",
        "    # assigning each data point to closest cluster\n",
        "    for x in X:\n",
        "      minn, j = float('inf'), 0\n",
        "      for i in range(len(centroid)):\n",
        "        dist = np.linalg.norm(x-centroid[i]) ** 2\n",
        "        if dist < minn: minn, j = dist, i\n",
        "      cluster[j].append(x)\n",
        "    # updating the centroids\n",
        "    for i in range(len(cluster)):\n",
        "      if len(cluster[i]) != 0: centroid[i] = sum(cluster[i]) / len(cluster[i])\n",
        "    # if centroids didn't change, then terminate\n",
        "    err = 0\n",
        "    for i in range(len(centroid)):\n",
        "      err += np.linalg.norm(centroid[i] - oldCentroid[i]) ** 2\n",
        "  return cluster"
      ],
      "metadata": {
        "id": "NKpImacpJa4R"
      },
      "execution_count": 65,
      "outputs": []
    },
    {
      "cell_type": "code",
      "source": [],
      "metadata": {
        "id": "AKXkFZRNMj5w"
      },
      "execution_count": null,
      "outputs": []
    }
  ]
}
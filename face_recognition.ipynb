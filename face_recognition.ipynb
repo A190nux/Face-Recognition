{
  "nbformat": 4,
  "nbformat_minor": 0,
  "metadata": {
    "colab": {
      "provenance": []
    },
    "kernelspec": {
      "name": "python3",
      "display_name": "Python 3"
    },
    "language_info": {
      "name": "python"
    }
  },
  "cells": [
    {
      "cell_type": "code",
      "execution_count": null,
      "metadata": {
        "id": "MT3flBJqJPZ9"
      },
      "outputs": [],
      "source": [
        "import gc\n",
        "import re\n",
        "import os\n",
        "import copy\n",
        "import pickle\n",
        "import numpy as np\n",
        "import pandas as pd\n",
        "import matplotlib.pyplot as plt\n",
        "from google.colab import drive\n",
        "from skimage.io import imread\n",
        "from sklearn.neighbors import KNeighborsClassifier as ks"
      ]
    },
    {
      "cell_type": "code",
      "source": [
        "arr=[]\n",
        "labels = []\n",
        "i=0\n",
        "j=0\n",
        "drive.mount('/content/drive')\n",
        "for root,di,files in os.walk(\"/content/drive/MyDrive/Colab Notebooks/dataset\"): \n",
        "  for name in files:\n",
        "    if name.endswith(\"pgm\"):\n",
        "      root_folder = os.path.split(root)\n",
        "      res=re.findall('(\\d+)',root_folder[1])\n",
        "      image = imread(os.path.join(root,name))\n",
        "      image=image.flatten(order='C')\n",
        "      arr.append(image)\n",
        "      labels.append(int(res[0]))\n",
        "      i=i+1\n",
        "arr=np.array(arr)   \n",
        "labels=np.array(labels)    "
      ],
      "metadata": {
        "colab": {
          "base_uri": "https://localhost:8080/"
        },
        "id": "DfOlUIOy4e2i",
        "outputId": "23950e75-f51c-4df4-abdc-89bf435bc97c"
      },
      "execution_count": null,
      "outputs": [
        {
          "output_type": "stream",
          "name": "stdout",
          "text": [
            "Drive already mounted at /content/drive; to attempt to forcibly remount, call drive.mount(\"/content/drive\", force_remount=True).\n"
          ]
        }
      ]
    },
    {
      "cell_type": "code",
      "source": [
        "print(labels.shape)       \n",
        "print(arr.shape)\n",
        "print(labels[300])"
      ],
      "metadata": {
        "colab": {
          "base_uri": "https://localhost:8080/"
        },
        "id": "bx05rnRZ7Q04",
        "outputId": "9fa092ba-df36-4656-a694-a10b54b1b479"
      },
      "execution_count": null,
      "outputs": [
        {
          "output_type": "stream",
          "name": "stdout",
          "text": [
            "(400,)\n",
            "(400, 10304)\n",
            "1\n"
          ]
        }
      ]
    },
    {
      "cell_type": "code",
      "source": [
        "# adding the data to a dataframe\n",
        "df = pd.DataFrame(arr) \n",
        "df['label'] = pd.DataFrame(labels)\n",
        "# sorting the data according to labels\n",
        "df.sort_values(\"label\", inplace=True)\n",
        "df.head(5)"
      ],
      "metadata": {
        "colab": {
          "base_uri": "https://localhost:8080/",
          "height": 236
        },
        "id": "cVugZrV8_OSp",
        "outputId": "7828ca74-5ca9-4654-c502-666cede3ff7c"
      },
      "execution_count": null,
      "outputs": [
        {
          "output_type": "execute_result",
          "data": {
            "text/plain": [
              "      0   1   2   3   4   5   6   7   8   9  ...  10295  10296  10297  10298  \\\n",
              "306  48  49  45  47  49  57  39  42  53  49  ...     44     40     41     49   \n",
              "308  42  41  44  46  48  39  37  37  33  37  ...     33     39     39     40   \n",
              "309  44  43  32  32  30  30  38  40  48  66  ...     42     42     40     33   \n",
              "300  64  76  80  53  34  72  60  66  66  50  ...     28     34     32     35   \n",
              "301  34  34  33  32  38  40  39  49  54  57  ...     44     38     30     37   \n",
              "\n",
              "     10299  10300  10301  10302  10303  label  \n",
              "306     42     44     47     46     46      1  \n",
              "308     41     43     42     43     41      1  \n",
              "309     29     37     43     43     37      1  \n",
              "300     34     35     35     37     39      1  \n",
              "301     30     36     37     40     33      1  \n",
              "\n",
              "[5 rows x 10305 columns]"
            ],
            "text/html": [
              "\n",
              "  <div id=\"df-7d5486d3-6e42-4d87-90c0-0121cfc471dd\">\n",
              "    <div class=\"colab-df-container\">\n",
              "      <div>\n",
              "<style scoped>\n",
              "    .dataframe tbody tr th:only-of-type {\n",
              "        vertical-align: middle;\n",
              "    }\n",
              "\n",
              "    .dataframe tbody tr th {\n",
              "        vertical-align: top;\n",
              "    }\n",
              "\n",
              "    .dataframe thead th {\n",
              "        text-align: right;\n",
              "    }\n",
              "</style>\n",
              "<table border=\"1\" class=\"dataframe\">\n",
              "  <thead>\n",
              "    <tr style=\"text-align: right;\">\n",
              "      <th></th>\n",
              "      <th>0</th>\n",
              "      <th>1</th>\n",
              "      <th>2</th>\n",
              "      <th>3</th>\n",
              "      <th>4</th>\n",
              "      <th>5</th>\n",
              "      <th>6</th>\n",
              "      <th>7</th>\n",
              "      <th>8</th>\n",
              "      <th>9</th>\n",
              "      <th>...</th>\n",
              "      <th>10295</th>\n",
              "      <th>10296</th>\n",
              "      <th>10297</th>\n",
              "      <th>10298</th>\n",
              "      <th>10299</th>\n",
              "      <th>10300</th>\n",
              "      <th>10301</th>\n",
              "      <th>10302</th>\n",
              "      <th>10303</th>\n",
              "      <th>label</th>\n",
              "    </tr>\n",
              "  </thead>\n",
              "  <tbody>\n",
              "    <tr>\n",
              "      <th>306</th>\n",
              "      <td>48</td>\n",
              "      <td>49</td>\n",
              "      <td>45</td>\n",
              "      <td>47</td>\n",
              "      <td>49</td>\n",
              "      <td>57</td>\n",
              "      <td>39</td>\n",
              "      <td>42</td>\n",
              "      <td>53</td>\n",
              "      <td>49</td>\n",
              "      <td>...</td>\n",
              "      <td>44</td>\n",
              "      <td>40</td>\n",
              "      <td>41</td>\n",
              "      <td>49</td>\n",
              "      <td>42</td>\n",
              "      <td>44</td>\n",
              "      <td>47</td>\n",
              "      <td>46</td>\n",
              "      <td>46</td>\n",
              "      <td>1</td>\n",
              "    </tr>\n",
              "    <tr>\n",
              "      <th>308</th>\n",
              "      <td>42</td>\n",
              "      <td>41</td>\n",
              "      <td>44</td>\n",
              "      <td>46</td>\n",
              "      <td>48</td>\n",
              "      <td>39</td>\n",
              "      <td>37</td>\n",
              "      <td>37</td>\n",
              "      <td>33</td>\n",
              "      <td>37</td>\n",
              "      <td>...</td>\n",
              "      <td>33</td>\n",
              "      <td>39</td>\n",
              "      <td>39</td>\n",
              "      <td>40</td>\n",
              "      <td>41</td>\n",
              "      <td>43</td>\n",
              "      <td>42</td>\n",
              "      <td>43</td>\n",
              "      <td>41</td>\n",
              "      <td>1</td>\n",
              "    </tr>\n",
              "    <tr>\n",
              "      <th>309</th>\n",
              "      <td>44</td>\n",
              "      <td>43</td>\n",
              "      <td>32</td>\n",
              "      <td>32</td>\n",
              "      <td>30</td>\n",
              "      <td>30</td>\n",
              "      <td>38</td>\n",
              "      <td>40</td>\n",
              "      <td>48</td>\n",
              "      <td>66</td>\n",
              "      <td>...</td>\n",
              "      <td>42</td>\n",
              "      <td>42</td>\n",
              "      <td>40</td>\n",
              "      <td>33</td>\n",
              "      <td>29</td>\n",
              "      <td>37</td>\n",
              "      <td>43</td>\n",
              "      <td>43</td>\n",
              "      <td>37</td>\n",
              "      <td>1</td>\n",
              "    </tr>\n",
              "    <tr>\n",
              "      <th>300</th>\n",
              "      <td>64</td>\n",
              "      <td>76</td>\n",
              "      <td>80</td>\n",
              "      <td>53</td>\n",
              "      <td>34</td>\n",
              "      <td>72</td>\n",
              "      <td>60</td>\n",
              "      <td>66</td>\n",
              "      <td>66</td>\n",
              "      <td>50</td>\n",
              "      <td>...</td>\n",
              "      <td>28</td>\n",
              "      <td>34</td>\n",
              "      <td>32</td>\n",
              "      <td>35</td>\n",
              "      <td>34</td>\n",
              "      <td>35</td>\n",
              "      <td>35</td>\n",
              "      <td>37</td>\n",
              "      <td>39</td>\n",
              "      <td>1</td>\n",
              "    </tr>\n",
              "    <tr>\n",
              "      <th>301</th>\n",
              "      <td>34</td>\n",
              "      <td>34</td>\n",
              "      <td>33</td>\n",
              "      <td>32</td>\n",
              "      <td>38</td>\n",
              "      <td>40</td>\n",
              "      <td>39</td>\n",
              "      <td>49</td>\n",
              "      <td>54</td>\n",
              "      <td>57</td>\n",
              "      <td>...</td>\n",
              "      <td>44</td>\n",
              "      <td>38</td>\n",
              "      <td>30</td>\n",
              "      <td>37</td>\n",
              "      <td>30</td>\n",
              "      <td>36</td>\n",
              "      <td>37</td>\n",
              "      <td>40</td>\n",
              "      <td>33</td>\n",
              "      <td>1</td>\n",
              "    </tr>\n",
              "  </tbody>\n",
              "</table>\n",
              "<p>5 rows × 10305 columns</p>\n",
              "</div>\n",
              "      <button class=\"colab-df-convert\" onclick=\"convertToInteractive('df-7d5486d3-6e42-4d87-90c0-0121cfc471dd')\"\n",
              "              title=\"Convert this dataframe to an interactive table.\"\n",
              "              style=\"display:none;\">\n",
              "        \n",
              "  <svg xmlns=\"http://www.w3.org/2000/svg\" height=\"24px\"viewBox=\"0 0 24 24\"\n",
              "       width=\"24px\">\n",
              "    <path d=\"M0 0h24v24H0V0z\" fill=\"none\"/>\n",
              "    <path d=\"M18.56 5.44l.94 2.06.94-2.06 2.06-.94-2.06-.94-.94-2.06-.94 2.06-2.06.94zm-11 1L8.5 8.5l.94-2.06 2.06-.94-2.06-.94L8.5 2.5l-.94 2.06-2.06.94zm10 10l.94 2.06.94-2.06 2.06-.94-2.06-.94-.94-2.06-.94 2.06-2.06.94z\"/><path d=\"M17.41 7.96l-1.37-1.37c-.4-.4-.92-.59-1.43-.59-.52 0-1.04.2-1.43.59L10.3 9.45l-7.72 7.72c-.78.78-.78 2.05 0 2.83L4 21.41c.39.39.9.59 1.41.59.51 0 1.02-.2 1.41-.59l7.78-7.78 2.81-2.81c.8-.78.8-2.07 0-2.86zM5.41 20L4 18.59l7.72-7.72 1.47 1.35L5.41 20z\"/>\n",
              "  </svg>\n",
              "      </button>\n",
              "      \n",
              "  <style>\n",
              "    .colab-df-container {\n",
              "      display:flex;\n",
              "      flex-wrap:wrap;\n",
              "      gap: 12px;\n",
              "    }\n",
              "\n",
              "    .colab-df-convert {\n",
              "      background-color: #E8F0FE;\n",
              "      border: none;\n",
              "      border-radius: 50%;\n",
              "      cursor: pointer;\n",
              "      display: none;\n",
              "      fill: #1967D2;\n",
              "      height: 32px;\n",
              "      padding: 0 0 0 0;\n",
              "      width: 32px;\n",
              "    }\n",
              "\n",
              "    .colab-df-convert:hover {\n",
              "      background-color: #E2EBFA;\n",
              "      box-shadow: 0px 1px 2px rgba(60, 64, 67, 0.3), 0px 1px 3px 1px rgba(60, 64, 67, 0.15);\n",
              "      fill: #174EA6;\n",
              "    }\n",
              "\n",
              "    [theme=dark] .colab-df-convert {\n",
              "      background-color: #3B4455;\n",
              "      fill: #D2E3FC;\n",
              "    }\n",
              "\n",
              "    [theme=dark] .colab-df-convert:hover {\n",
              "      background-color: #434B5C;\n",
              "      box-shadow: 0px 1px 3px 1px rgba(0, 0, 0, 0.15);\n",
              "      filter: drop-shadow(0px 1px 2px rgba(0, 0, 0, 0.3));\n",
              "      fill: #FFFFFF;\n",
              "    }\n",
              "  </style>\n",
              "\n",
              "      <script>\n",
              "        const buttonEl =\n",
              "          document.querySelector('#df-7d5486d3-6e42-4d87-90c0-0121cfc471dd button.colab-df-convert');\n",
              "        buttonEl.style.display =\n",
              "          google.colab.kernel.accessAllowed ? 'block' : 'none';\n",
              "\n",
              "        async function convertToInteractive(key) {\n",
              "          const element = document.querySelector('#df-7d5486d3-6e42-4d87-90c0-0121cfc471dd');\n",
              "          const dataTable =\n",
              "            await google.colab.kernel.invokeFunction('convertToInteractive',\n",
              "                                                     [key], {});\n",
              "          if (!dataTable) return;\n",
              "\n",
              "          const docLinkHtml = 'Like what you see? Visit the ' +\n",
              "            '<a target=\"_blank\" href=https://colab.research.google.com/notebooks/data_table.ipynb>data table notebook</a>'\n",
              "            + ' to learn more about interactive tables.';\n",
              "          element.innerHTML = '';\n",
              "          dataTable['output_type'] = 'display_data';\n",
              "          await google.colab.output.renderOutput(dataTable, element);\n",
              "          const docLink = document.createElement('div');\n",
              "          docLink.innerHTML = docLinkHtml;\n",
              "          element.appendChild(docLink);\n",
              "        }\n",
              "      </script>\n",
              "    </div>\n",
              "  </div>\n",
              "  "
            ]
          },
          "metadata": {},
          "execution_count": 5
        }
      ]
    },
    {
      "cell_type": "code",
      "source": [
        "# seperating images from labels\n",
        "Y = np.array(df['label'])\n",
        "df = df.drop(axis=1, labels=\"label\")"
      ],
      "metadata": {
        "id": "eX1YeAfdDjVA"
      },
      "execution_count": null,
      "outputs": []
    },
    {
      "cell_type": "code",
      "source": [
        "# creating the data matrix D\n",
        "D = [[] for i in range(40)]\n",
        "for i in range(0, 400): D[i//10].append(df.iloc[i])\n",
        "D = np.array(D)\n",
        "print(D.shape)"
      ],
      "metadata": {
        "colab": {
          "base_uri": "https://localhost:8080/"
        },
        "id": "pErakbWYC9_8",
        "outputId": "805c2d2d-aa33-4f21-f47c-8be75b8e78f8"
      },
      "execution_count": null,
      "outputs": [
        {
          "output_type": "stream",
          "name": "stdout",
          "text": [
            "(40, 10, 10304)\n"
          ]
        }
      ]
    },
    {
      "cell_type": "code",
      "source": [
        "X_train = []\n",
        "X_test =  []  \n",
        "labels_train = []\n",
        "labels_test =  []  \n",
        "\n",
        "for i in range(0,400):\n",
        "    if((i%2==0)):\n",
        "       X_test.append(arr[i,:])\n",
        "       labels_test.append(labels[i])\n",
        "    else:\n",
        "       X_train.append(arr[i,:])\n",
        "       labels_train.append(labels[i])\n",
        " \n",
        "print(X_test[0])\n",
        "print(labels_test[0])"
      ],
      "metadata": {
        "colab": {
          "base_uri": "https://localhost:8080/"
        },
        "id": "ujLhTgof8m8y",
        "outputId": "2601d004-4b50-48d7-da72-44b255385d54"
      },
      "execution_count": null,
      "outputs": [
        {
          "output_type": "stream",
          "name": "stdout",
          "text": [
            "[112 115 120 ...  53  53  54]\n",
            "4\n"
          ]
        }
      ]
    },
    {
      "cell_type": "code",
      "source": [
        "def LDAOLD(D, Y=None, noOfDims=None):\n",
        "    # initializing the variables\n",
        "    summ, lenn = 0, 0\n",
        "    # computing the mean for each class\n",
        "    mu = []\n",
        "    for x in D: \n",
        "        mu.append(np.mean(x, axis=0, keepdims=True).T)\n",
        "        # calculating the sum and overall number\n",
        "        # elements for overall mu\n",
        "        summ += sum(x)\n",
        "        lenn += len(x)\n",
        "    mu = np.array(mu)\n",
        "    overallMu = summ / lenn\n",
        "    # computing the between class scatter matrices\n",
        "    SB = 0\n",
        "    for i in range(len(mu)): SB += len(D[i]) * np.matmul((mu[i]-overallMu), (mu[i]-overallMu).T)\n",
        "    # centering the class matrices\n",
        "    Z = np.array([D[i] - mu[i].T for i in range(len(D))])\n",
        "    # computing the within class scatter matrices\n",
        "    S = np.array([np.matmul(Z[i].T, Z[i]) for i in range(len(Z))])\n",
        "    # performing eigenvalue decomposition\n",
        "    eigValues, eigVectors = np.linalg.eigh(np.matmul(np.linalg.inv(sum(S)), SB))\n",
        "    # returning the dominant eigen vectors\n",
        "    return eigVectors[::-1][:noOfDims].T"
      ],
      "metadata": {
        "id": "JiO2FNhr8IHM"
      },
      "execution_count": null,
      "outputs": []
    },
    {
      "cell_type": "code",
      "source": [
        "def LDA(D, Y=None, noOfDims=None):\n",
        "    # initializing the variables\n",
        "    summ, lenn = 0, 0\n",
        "    # computing the mean for each class\n",
        "    mu = []\n",
        "    for x in D: \n",
        "        mu.append(np.mean(x, axis=0, keepdims=True).T)\n",
        "        # calculating the sum and overall number\n",
        "        # elements for overall mu\n",
        "        summ += np.sum(x, axis=0)\n",
        "        lenn += len(x)\n",
        "    mu = np.array(mu)\n",
        "    overallMu = np.array(summ / lenn).reshape(mu[0].shape)\n",
        "    # computing the between class scatter matrices\n",
        "    SB = 0\n",
        "    for i in range(len(mu)): SB += len(D[i]) * np.matmul((mu[i]-overallMu), (mu[i]-overallMu).T)\n",
        "    # centering the class matrices\n",
        "    Z = np.array([D[i] - mu[i].T for i in range(len(D))])\n",
        "    # computing the within class scatter matrices\n",
        "    S = 0\n",
        "    for i in range(len(Z)): S += np.matmul(Z[i].T, Z[i])\n",
        "    # performing eigenvalue decomposition\n",
        "    eigValues, eigVectors = np.linalg.eigh(np.matmul(np.linalg.inv(S), SB))\n",
        "    # returning the dominant eigen vectors\n",
        "    return eigVectors[::-1][:noOfDims].T"
      ],
      "metadata": {
        "id": "rY_EVhf_JVXB"
      },
      "execution_count": null,
      "outputs": []
    },
    {
      "cell_type": "code",
      "source": [
        "# DO NOT RUN THIS CELL IF YOU ALREADY HAVE THE PICKLE FILES\n",
        "W = LDA(D, noOfDims=39)\n",
        "# DO NOT RUN THIS CELL IF YOU ALREADY HAVE THE PICKLE FILES"
      ],
      "metadata": {
        "id": "yGfI7Pdt9mn0"
      },
      "execution_count": null,
      "outputs": []
    },
    {
      "cell_type": "code",
      "source": [
        "# saving the LDA output for later use\n",
        "file_name = 'LDA_output.pkl'\n",
        "with open(file_name, 'wb') as file:\n",
        "    pickle.dump(W, file)\n",
        "    print(f'Object successfully saved to \"{file_name}\"')"
      ],
      "metadata": {
        "id": "NooEJLM3ISN1",
        "colab": {
          "base_uri": "https://localhost:8080/"
        },
        "outputId": "85084bd6-b6c1-4f94-b791-c71df4a8259b"
      },
      "execution_count": null,
      "outputs": [
        {
          "output_type": "stream",
          "name": "stdout",
          "text": [
            "Object successfully saved to \"LDA_output.pkl\"\n"
          ]
        }
      ]
    },
    {
      "cell_type": "code",
      "source": [
        "file_name = 'LDA_output.pkl'\n",
        "with open(file_name, 'rb') as file:\n",
        "    W  = pickle.load(file)\n",
        "    print(f'Object successfully loaded from \"{file_name}\"')"
      ],
      "metadata": {
        "colab": {
          "base_uri": "https://localhost:8080/"
        },
        "id": "Q-mfa7UfVZrL",
        "outputId": "4927253f-c65c-44b0-d371-466583ef7cb9"
      },
      "execution_count": null,
      "outputs": [
        {
          "output_type": "stream",
          "name": "stdout",
          "text": [
            "Object successfully loaded from \"LDA_output.pkl\"\n"
          ]
        }
      ]
    },
    {
      "cell_type": "code",
      "source": [
        "print(eigVals)"
      ],
      "metadata": {
        "colab": {
          "base_uri": "https://localhost:8080/"
        },
        "id": "dPdiXED4rx1y",
        "outputId": "eb075d3a-321e-4780-bf87-6a360684cbe8"
      },
      "execution_count": null,
      "outputs": [
        {
          "output_type": "stream",
          "name": "stdout",
          "text": [
            "[-4.68059819e+18 -3.45273497e+18 -2.22037813e+18 ...  2.22071896e+18\n",
            "  3.46377157e+18  4.65618892e+18]\n"
          ]
        }
      ]
    },
    {
      "cell_type": "code",
      "source": [
        "W - eigVecs[::-1][:39].T"
      ],
      "metadata": {
        "colab": {
          "base_uri": "https://localhost:8080/"
        },
        "id": "HZrp0JhVryef",
        "outputId": "670da91b-9942-43c9-c710-45ada94ee0d5"
      },
      "execution_count": null,
      "outputs": [
        {
          "output_type": "execute_result",
          "data": {
            "text/plain": [
              "array([[0., 0., 0., ..., 0., 0., 0.],\n",
              "       [0., 0., 0., ..., 0., 0., 0.],\n",
              "       [0., 0., 0., ..., 0., 0., 0.],\n",
              "       ...,\n",
              "       [0., 0., 0., ..., 0., 0., 0.],\n",
              "       [0., 0., 0., ..., 0., 0., 0.],\n",
              "       [0., 0., 0., ..., 0., 0., 0.]])"
            ]
          },
          "metadata": {},
          "execution_count": 19
        }
      ]
    },
    {
      "cell_type": "code",
      "source": [
        "def projectData(X_train, X_test, W):\n",
        "    X_train = np.array([np.matmul(W.T, X_train[i]) for i in range(X_train.shape[0])])\n",
        "    X_test = np.array([np.matmul(W.T, X_test[i]) for i in range(X_test.shape[0])])\n",
        "    return X_train, X_test"
      ],
      "metadata": {
        "id": "-QWlmfVWUYjm"
      },
      "execution_count": null,
      "outputs": []
    },
    {
      "cell_type": "code",
      "source": [
        "reg = ks().fit(X_train, labels_train)\n",
        "train_score = reg.score(X_train, labels_train)\n",
        "test_score = reg.score(X_test, labels_test)\n",
        "print(\"Before LDA\")\n",
        "print(\"Training Set Accuracy: {}\\nTesting  Set Accuracy: {}\\n\\n\\n\".format(train_score, test_score))\n",
        "\n",
        "print(\"After LDA\")\n",
        "X_train_red, X_test_red = projectData(np.array(X_train), np.array(X_test), W)\n",
        "reg = ks().fit(X_train_red, labels_train)\n",
        "train_score = reg.score(X_train_red, labels_train)\n",
        "test_score = reg.score(X_test_red, labels_test)\n",
        "print(\"Training Set Accuracy: {}\\nTesting  Set Accuracy: {}\".format(train_score, test_score))"
      ],
      "metadata": {
        "colab": {
          "base_uri": "https://localhost:8080/"
        },
        "id": "FWRsD-ktWJ9p",
        "outputId": "57dae142-f056-4d27-8d9d-17a2a0e495a5"
      },
      "execution_count": null,
      "outputs": [
        {
          "output_type": "stream",
          "name": "stdout",
          "text": [
            "Before LDA\n",
            "Training Set Accuracy: 0.875\n",
            "Testing  Set Accuracy: 0.81\n",
            "\n",
            "\n",
            "\n",
            "After LDA\n",
            "Training Set Accuracy: 0.825\n",
            "Testing  Set Accuracy: 0.76\n"
          ]
        }
      ]
    },
    {
      "cell_type": "code",
      "source": [
        "from sklearn.neighbors import KNeighborsClassifier\n",
        "knn = KNeighborsClassifier(n_neighbors=1)\n",
        "knn.fit(X_train, labels_train)\n",
        "knn.score(X_test, labels_test)\n",
        "knn = KNeighborsClassifier(n_neighbors=1)\n",
        "\n",
        "knn.fit(X_train_red, labels_train)\n",
        "knn.score(X_test_red, labels_test)\n",
        "knn.score(X_test_red, labels_test)"
      ],
      "metadata": {
        "colab": {
          "base_uri": "https://localhost:8080/"
        },
        "id": "rtDi4B9RZjSB",
        "outputId": "a2b2451f-31a0-4c6d-abc8-2fa5519b611e"
      },
      "execution_count": null,
      "outputs": [
        {
          "output_type": "execute_result",
          "data": {
            "text/plain": [
              "0.88"
            ]
          },
          "metadata": {},
          "execution_count": 26
        }
      ]
    },
    {
      "cell_type": "code",
      "source": [
        "def KMC(X, k, epsilon=0.01, maxIter=100):\n",
        "  # initializing the error to be max at first\n",
        "  err = float('inf')\n",
        "  # randomly initializing the centroids\n",
        "  centroid = [X[np.random.randint(0, len(X)-1)] for i in range(k)]\n",
        "  while maxIter > 0 and err >= epsilon:\n",
        "    maxIter -= 1\n",
        "    cluster = [[] for i in range(k)]\n",
        "    # copying the old centroids\n",
        "    oldCentroid = copy.deepcopy(centroid)\n",
        "    # assigning each data point to closest cluster\n",
        "    for x in X:\n",
        "      minn, j = float('inf'), 0\n",
        "      for i in range(len(centroid)):\n",
        "        dist = np.linalg.norm(x-centroid[i]) ** 2\n",
        "        if dist < minn: minn, j = dist, i\n",
        "      cluster[j].append(x)\n",
        "    # updating the centroids\n",
        "    for i in range(len(cluster)):\n",
        "      if len(cluster[i]) != 0: centroid[i] = sum(cluster[i]) / len(cluster[i])\n",
        "    # if centroids didn't change, then terminate\n",
        "    err = 0\n",
        "    for i in range(len(centroid)):\n",
        "      err += np.linalg.norm(centroid[i] - oldCentroid[i]) ** 2\n",
        "  return cluster"
      ],
      "metadata": {
        "id": "NKpImacpJa4R"
      },
      "execution_count": null,
      "outputs": []
    },
    {
      "cell_type": "code",
      "source": [],
      "metadata": {
        "id": "1GfJUgjVN2mM"
      },
      "execution_count": null,
      "outputs": []
    }
  ]
}
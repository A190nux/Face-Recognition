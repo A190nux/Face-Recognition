{
  "nbformat": 4,
  "nbformat_minor": 0,
  "metadata": {
    "colab": {
      "provenance": []
    },
    "kernelspec": {
      "name": "python3",
      "display_name": "Python 3"
    },
    "language_info": {
      "name": "python"
    }
  },
  "cells": [
    {
      "cell_type": "code",
      "execution_count": 16,
      "metadata": {
        "id": "MT3flBJqJPZ9"
      },
      "outputs": [],
      "source": [
        "import re\n",
        "import os\n",
        "import copy\n",
        "import pickle\n",
        "import numpy as np\n",
        "import pandas as pd\n",
        "import matplotlib.pyplot as plt\n",
        "from PIL import Image\n",
        "from collections import Counter\n",
        "from google.colab import drive\n",
        "from skimage.io import imread\n",
        "from sklearn.metrics import accuracy_score\n",
        "from sklearn.metrics.pairwise import rbf_kernel\n",
        "from sklearn.model_selection import train_test_split\n",
        "from sklearn.neighbors import KNeighborsClassifier as ks "
      ]
    },
    {
      "cell_type": "code",
      "source": [
        "from google.colab import drive\n",
        "drive.mount('/content/drive')"
      ],
      "metadata": {
        "colab": {
          "base_uri": "https://localhost:8080/"
        },
        "id": "WcBjWgCsB6i9",
        "outputId": "03024371-d601-404c-b60f-236b3c22d43a"
      },
      "execution_count": 44,
      "outputs": [
        {
          "output_type": "stream",
          "name": "stdout",
          "text": [
            "Drive already mounted at /content/drive; to attempt to forcibly remount, call drive.mount(\"/content/drive\", force_remount=True).\n"
          ]
        }
      ]
    },
    {
      "cell_type": "code",
      "source": [
        "import cv2\n",
        "arr=[]\n",
        "labels = []\n",
        "num_nonfaces =[]\n",
        "image1 =[]\n",
        "accff=[]\n",
        "i=0\n",
        "nonfaces=0\n",
        "for root,di,files in os.walk(\"/content/drive/MyDrive/Colab Notebooks/dataset2\"): \n",
        "  for name in files:\n",
        "    if name.endswith(\"jpg\") or name.endswith(\"pgm\") :\n",
        "      root_folder = os.path.split(root) ##   \n",
        "      if name.endswith(\"jpg\"): \n",
        "        nonfaces = nonfaces + 1 \n",
        "        #image1 = io.imread(os.path.join(root,name))\n",
        "        image1 = cv2.imread(os.path.join(root,name), 0)\n",
        "      elif name.endswith(\"pgm\") :\n",
        "        image1 = imread(os.path.join(root,name))  \n",
        "      res=re.findall('(\\d+)',root_folder[1]) ##\n",
        "      #image1 = image.imread(os.path.join(root,name))\n",
        "      image1.resize((92, 112))\n",
        "      image1=image1.flatten(order='C')\n",
        "      #print(image1)\n",
        "      arr.append(image1)\n",
        "      labels.append(int(res[0]))\n",
        "      i=i+1\n",
        "num_nonfaces.append( nonfaces)     \n",
        "arr=np.array(arr)   \n",
        "labels=np.array(labels)    \n",
        "print(labels.shape)       \n",
        "print(arr.shape)\n",
        "#print(labels)      "
      ],
      "metadata": {
        "colab": {
          "base_uri": "https://localhost:8080/"
        },
        "id": "zhNSeazl8DC_",
        "outputId": "3de7f4fd-6cfc-4b04-df82-ab5d6c8f950f"
      },
      "execution_count": 18,
      "outputs": [
        {
          "output_type": "stream",
          "name": "stdout",
          "text": [
            "(599,)\n",
            "(599, 10304)\n"
          ]
        }
      ]
    },
    {
      "cell_type": "code",
      "source": [
        "print(labels.shape)       \n",
        "print(arr.shape)\n",
        "#print(labels)"
      ],
      "metadata": {
        "colab": {
          "base_uri": "https://localhost:8080/"
        },
        "id": "bx05rnRZ7Q04",
        "outputId": "8a930747-00fb-4536-abf9-d6a77fd20161"
      },
      "execution_count": 19,
      "outputs": [
        {
          "output_type": "stream",
          "name": "stdout",
          "text": [
            "(599,)\n",
            "(599, 10304)\n"
          ]
        }
      ]
    },
    {
      "cell_type": "code",
      "source": [
        "# adding the data to a dataframe\n",
        "df = pd.DataFrame(arr) \n",
        "df['label'] = pd.DataFrame(labels)\n",
        "# sorting the data according to labels\n",
        "df.sort_values(\"label\", inplace=True)\n",
        "df.tail(5)"
      ],
      "metadata": {
        "id": "cVugZrV8_OSp",
        "colab": {
          "base_uri": "https://localhost:8080/",
          "height": 235
        },
        "outputId": "301f8747-8e28-4d3c-ccab-21d9737ced8e"
      },
      "execution_count": 25,
      "outputs": [
        {
          "output_type": "execute_result",
          "data": {
            "text/plain": [
              "       0    1    2    3    4    5    6    7    8    9  ...  10295  10296  \\\n",
              "326  107  103  104  102  105  103  105  103  106  102  ...    143    152   \n",
              "325  109  110  113  111  112  110  111  112  110  112  ...     56     50   \n",
              "324   58   55   52   54   55   53   55   57   48   58  ...     54     54   \n",
              "334   49   65   53   56   51   61   54   55   59   53  ...     67     55   \n",
              "598  155  154  153  157  154  156  153  153  155  153  ...    137    141   \n",
              "\n",
              "     10297  10298  10299  10300  10301  10302  10303  label  \n",
              "326    151    152    175    167    155    133    159      2  \n",
              "325     50     54     52     55     49     52     51      2  \n",
              "324    101     93    112    142    131    115     68      2  \n",
              "334     92    101     94    121    134    130    145      2  \n",
              "598    135    123    112    111    113    110    111      2  \n",
              "\n",
              "[5 rows x 10305 columns]"
            ],
            "text/html": [
              "\n",
              "  <div id=\"df-4907b4bc-534a-4faf-9b7b-9ae5a2a273be\">\n",
              "    <div class=\"colab-df-container\">\n",
              "      <div>\n",
              "<style scoped>\n",
              "    .dataframe tbody tr th:only-of-type {\n",
              "        vertical-align: middle;\n",
              "    }\n",
              "\n",
              "    .dataframe tbody tr th {\n",
              "        vertical-align: top;\n",
              "    }\n",
              "\n",
              "    .dataframe thead th {\n",
              "        text-align: right;\n",
              "    }\n",
              "</style>\n",
              "<table border=\"1\" class=\"dataframe\">\n",
              "  <thead>\n",
              "    <tr style=\"text-align: right;\">\n",
              "      <th></th>\n",
              "      <th>0</th>\n",
              "      <th>1</th>\n",
              "      <th>2</th>\n",
              "      <th>3</th>\n",
              "      <th>4</th>\n",
              "      <th>5</th>\n",
              "      <th>6</th>\n",
              "      <th>7</th>\n",
              "      <th>8</th>\n",
              "      <th>9</th>\n",
              "      <th>...</th>\n",
              "      <th>10295</th>\n",
              "      <th>10296</th>\n",
              "      <th>10297</th>\n",
              "      <th>10298</th>\n",
              "      <th>10299</th>\n",
              "      <th>10300</th>\n",
              "      <th>10301</th>\n",
              "      <th>10302</th>\n",
              "      <th>10303</th>\n",
              "      <th>label</th>\n",
              "    </tr>\n",
              "  </thead>\n",
              "  <tbody>\n",
              "    <tr>\n",
              "      <th>326</th>\n",
              "      <td>107</td>\n",
              "      <td>103</td>\n",
              "      <td>104</td>\n",
              "      <td>102</td>\n",
              "      <td>105</td>\n",
              "      <td>103</td>\n",
              "      <td>105</td>\n",
              "      <td>103</td>\n",
              "      <td>106</td>\n",
              "      <td>102</td>\n",
              "      <td>...</td>\n",
              "      <td>143</td>\n",
              "      <td>152</td>\n",
              "      <td>151</td>\n",
              "      <td>152</td>\n",
              "      <td>175</td>\n",
              "      <td>167</td>\n",
              "      <td>155</td>\n",
              "      <td>133</td>\n",
              "      <td>159</td>\n",
              "      <td>2</td>\n",
              "    </tr>\n",
              "    <tr>\n",
              "      <th>325</th>\n",
              "      <td>109</td>\n",
              "      <td>110</td>\n",
              "      <td>113</td>\n",
              "      <td>111</td>\n",
              "      <td>112</td>\n",
              "      <td>110</td>\n",
              "      <td>111</td>\n",
              "      <td>112</td>\n",
              "      <td>110</td>\n",
              "      <td>112</td>\n",
              "      <td>...</td>\n",
              "      <td>56</td>\n",
              "      <td>50</td>\n",
              "      <td>50</td>\n",
              "      <td>54</td>\n",
              "      <td>52</td>\n",
              "      <td>55</td>\n",
              "      <td>49</td>\n",
              "      <td>52</td>\n",
              "      <td>51</td>\n",
              "      <td>2</td>\n",
              "    </tr>\n",
              "    <tr>\n",
              "      <th>324</th>\n",
              "      <td>58</td>\n",
              "      <td>55</td>\n",
              "      <td>52</td>\n",
              "      <td>54</td>\n",
              "      <td>55</td>\n",
              "      <td>53</td>\n",
              "      <td>55</td>\n",
              "      <td>57</td>\n",
              "      <td>48</td>\n",
              "      <td>58</td>\n",
              "      <td>...</td>\n",
              "      <td>54</td>\n",
              "      <td>54</td>\n",
              "      <td>101</td>\n",
              "      <td>93</td>\n",
              "      <td>112</td>\n",
              "      <td>142</td>\n",
              "      <td>131</td>\n",
              "      <td>115</td>\n",
              "      <td>68</td>\n",
              "      <td>2</td>\n",
              "    </tr>\n",
              "    <tr>\n",
              "      <th>334</th>\n",
              "      <td>49</td>\n",
              "      <td>65</td>\n",
              "      <td>53</td>\n",
              "      <td>56</td>\n",
              "      <td>51</td>\n",
              "      <td>61</td>\n",
              "      <td>54</td>\n",
              "      <td>55</td>\n",
              "      <td>59</td>\n",
              "      <td>53</td>\n",
              "      <td>...</td>\n",
              "      <td>67</td>\n",
              "      <td>55</td>\n",
              "      <td>92</td>\n",
              "      <td>101</td>\n",
              "      <td>94</td>\n",
              "      <td>121</td>\n",
              "      <td>134</td>\n",
              "      <td>130</td>\n",
              "      <td>145</td>\n",
              "      <td>2</td>\n",
              "    </tr>\n",
              "    <tr>\n",
              "      <th>598</th>\n",
              "      <td>155</td>\n",
              "      <td>154</td>\n",
              "      <td>153</td>\n",
              "      <td>157</td>\n",
              "      <td>154</td>\n",
              "      <td>156</td>\n",
              "      <td>153</td>\n",
              "      <td>153</td>\n",
              "      <td>155</td>\n",
              "      <td>153</td>\n",
              "      <td>...</td>\n",
              "      <td>137</td>\n",
              "      <td>141</td>\n",
              "      <td>135</td>\n",
              "      <td>123</td>\n",
              "      <td>112</td>\n",
              "      <td>111</td>\n",
              "      <td>113</td>\n",
              "      <td>110</td>\n",
              "      <td>111</td>\n",
              "      <td>2</td>\n",
              "    </tr>\n",
              "  </tbody>\n",
              "</table>\n",
              "<p>5 rows × 10305 columns</p>\n",
              "</div>\n",
              "      <button class=\"colab-df-convert\" onclick=\"convertToInteractive('df-4907b4bc-534a-4faf-9b7b-9ae5a2a273be')\"\n",
              "              title=\"Convert this dataframe to an interactive table.\"\n",
              "              style=\"display:none;\">\n",
              "        \n",
              "  <svg xmlns=\"http://www.w3.org/2000/svg\" height=\"24px\"viewBox=\"0 0 24 24\"\n",
              "       width=\"24px\">\n",
              "    <path d=\"M0 0h24v24H0V0z\" fill=\"none\"/>\n",
              "    <path d=\"M18.56 5.44l.94 2.06.94-2.06 2.06-.94-2.06-.94-.94-2.06-.94 2.06-2.06.94zm-11 1L8.5 8.5l.94-2.06 2.06-.94-2.06-.94L8.5 2.5l-.94 2.06-2.06.94zm10 10l.94 2.06.94-2.06 2.06-.94-2.06-.94-.94-2.06-.94 2.06-2.06.94z\"/><path d=\"M17.41 7.96l-1.37-1.37c-.4-.4-.92-.59-1.43-.59-.52 0-1.04.2-1.43.59L10.3 9.45l-7.72 7.72c-.78.78-.78 2.05 0 2.83L4 21.41c.39.39.9.59 1.41.59.51 0 1.02-.2 1.41-.59l7.78-7.78 2.81-2.81c.8-.78.8-2.07 0-2.86zM5.41 20L4 18.59l7.72-7.72 1.47 1.35L5.41 20z\"/>\n",
              "  </svg>\n",
              "      </button>\n",
              "      \n",
              "  <style>\n",
              "    .colab-df-container {\n",
              "      display:flex;\n",
              "      flex-wrap:wrap;\n",
              "      gap: 12px;\n",
              "    }\n",
              "\n",
              "    .colab-df-convert {\n",
              "      background-color: #E8F0FE;\n",
              "      border: none;\n",
              "      border-radius: 50%;\n",
              "      cursor: pointer;\n",
              "      display: none;\n",
              "      fill: #1967D2;\n",
              "      height: 32px;\n",
              "      padding: 0 0 0 0;\n",
              "      width: 32px;\n",
              "    }\n",
              "\n",
              "    .colab-df-convert:hover {\n",
              "      background-color: #E2EBFA;\n",
              "      box-shadow: 0px 1px 2px rgba(60, 64, 67, 0.3), 0px 1px 3px 1px rgba(60, 64, 67, 0.15);\n",
              "      fill: #174EA6;\n",
              "    }\n",
              "\n",
              "    [theme=dark] .colab-df-convert {\n",
              "      background-color: #3B4455;\n",
              "      fill: #D2E3FC;\n",
              "    }\n",
              "\n",
              "    [theme=dark] .colab-df-convert:hover {\n",
              "      background-color: #434B5C;\n",
              "      box-shadow: 0px 1px 3px 1px rgba(0, 0, 0, 0.15);\n",
              "      filter: drop-shadow(0px 1px 2px rgba(0, 0, 0, 0.3));\n",
              "      fill: #FFFFFF;\n",
              "    }\n",
              "  </style>\n",
              "\n",
              "      <script>\n",
              "        const buttonEl =\n",
              "          document.querySelector('#df-4907b4bc-534a-4faf-9b7b-9ae5a2a273be button.colab-df-convert');\n",
              "        buttonEl.style.display =\n",
              "          google.colab.kernel.accessAllowed ? 'block' : 'none';\n",
              "\n",
              "        async function convertToInteractive(key) {\n",
              "          const element = document.querySelector('#df-4907b4bc-534a-4faf-9b7b-9ae5a2a273be');\n",
              "          const dataTable =\n",
              "            await google.colab.kernel.invokeFunction('convertToInteractive',\n",
              "                                                     [key], {});\n",
              "          if (!dataTable) return;\n",
              "\n",
              "          const docLinkHtml = 'Like what you see? Visit the ' +\n",
              "            '<a target=\"_blank\" href=https://colab.research.google.com/notebooks/data_table.ipynb>data table notebook</a>'\n",
              "            + ' to learn more about interactive tables.';\n",
              "          element.innerHTML = '';\n",
              "          dataTable['output_type'] = 'display_data';\n",
              "          await google.colab.output.renderOutput(dataTable, element);\n",
              "          const docLink = document.createElement('div');\n",
              "          docLink.innerHTML = docLinkHtml;\n",
              "          element.appendChild(docLink);\n",
              "        }\n",
              "      </script>\n",
              "    </div>\n",
              "  </div>\n",
              "  "
            ]
          },
          "metadata": {},
          "execution_count": 25
        }
      ]
    },
    {
      "cell_type": "code",
      "source": [
        "# seperating images from labels\n",
        "Y = np.array(df['label'])\n",
        "df = df.drop(axis=1, labels=\"label\")"
      ],
      "metadata": {
        "id": "eX1YeAfdDjVA"
      },
      "execution_count": 26,
      "outputs": []
    },
    {
      "cell_type": "code",
      "source": [
        "X_train = []\n",
        "X_test =  []  \n",
        "labels_train = []\n",
        "labels_test =  []  \n",
        "\n",
        "for i in range(0,599):\n",
        "    if((i%2==0)):\n",
        "       X_test.append(arr[i,:])\n",
        "       labels_test.append(labels[i])\n",
        "    else:\n",
        "       X_train.append(arr[i,:])\n",
        "       labels_train.append(labels[i])\n",
        " \n",
        "print(X_test)\n",
        "print(labels_test[0])"
      ],
      "metadata": {
        "colab": {
          "base_uri": "https://localhost:8080/"
        },
        "id": "ujLhTgof8m8y",
        "outputId": "12c04c60-9e3f-45e2-9953-b3e971260867"
      },
      "execution_count": 27,
      "outputs": [
        {
          "output_type": "stream",
          "name": "stdout",
          "text": [
            "[array([157, 156, 153, ..., 141, 141, 133], dtype=uint8), array([249, 248, 247, ..., 236, 228, 225], dtype=uint8), array([229, 229, 229, ..., 182, 182, 182], dtype=uint8), array([204, 208, 202, ..., 236, 233, 231], dtype=uint8), array([219, 215, 218, ..., 239, 240, 241], dtype=uint8), array([228, 228, 228, ...,  95,  98,  98], dtype=uint8), array([221, 220, 220, ...,  31,  32,  34], dtype=uint8), array([ 62,  76,  90, ...,  94, 100, 100], dtype=uint8), array([ 60,  65,  46, ..., 165, 165, 163], dtype=uint8), array([216, 215, 224, ...,  62,  57,  65], dtype=uint8), array([229, 229, 228, ..., 227, 228, 230], dtype=uint8), array([ 97, 131, 163, ...,  58,  60,  59], dtype=uint8), array([150, 151, 152, ...,  14,  17,  12], dtype=uint8), array([181, 180, 182, ...,  77,  68,  55], dtype=uint8), array([228, 229, 227, ..., 167, 168, 167], dtype=uint8), array([236, 236, 236, ..., 210, 210, 210], dtype=uint8), array([230, 229, 229, ..., 120, 124, 127], dtype=uint8), array([185, 187, 188, ..., 195, 204, 202], dtype=uint8), array([255, 253, 255, ..., 241, 235, 252], dtype=uint8), array([242, 241, 241, ...,  30,  30,  30], dtype=uint8), array([176, 179, 181, ..., 216, 216, 216], dtype=uint8), array([ 27,  34,  32, ..., 111,  60, 100], dtype=uint8), array([193, 190, 189, ...,  85,  60,  58], dtype=uint8), array([163, 163, 164, ..., 153, 156, 158], dtype=uint8), array([137, 122, 124, ..., 104, 107, 105], dtype=uint8), array([25, 27, 29, ...,  0,  0,  0], dtype=uint8), array([67, 72, 73, ...,  0,  0,  0], dtype=uint8), array([86, 85, 87, ...,  0,  0,  0], dtype=uint8), array([31, 34, 32, ...,  0,  0,  0], dtype=uint8), array([15, 18, 20, ...,  0,  0,  0], dtype=uint8), array([225, 225, 224, ...,   0,   0,   0], dtype=uint8), array([139,  94, 136, ...,   0,   0,   0], dtype=uint8), array([140, 154, 164, ...,   0,   0,   0], dtype=uint8), array([71, 65, 63, ...,  0,  0,  0], dtype=uint8), array([176, 133, 149, ...,   0,   0,   0], dtype=uint8), array([226, 226, 226, ...,   0,   0,   0], dtype=uint8), array([131,  65, 196, ...,   0,   0,   0], dtype=uint8), array([94, 95, 92, ...,  0,  0,  0], dtype=uint8), array([140, 141, 140, ...,   0,   0,   0], dtype=uint8), array([45, 46, 45, ...,  0,  0,  0], dtype=uint8), array([157, 150, 154, ...,   0,   0,   0], dtype=uint8), array([255, 255, 255, ...,   0,   0,   0], dtype=uint8), array([157, 152, 149, ...,   0,   0,   0], dtype=uint8), array([61, 59, 59, ...,  0,  0,  0], dtype=uint8), array([48, 26, 35, ...,  0,  0,  0], dtype=uint8), array([206, 208, 139, ...,   0,   0,   0], dtype=uint8), array([87, 41, 26, ...,  0,  0,  0], dtype=uint8), array([75, 77, 72, ...,  0,  0,  0], dtype=uint8), array([247, 247, 247, ...,   0,   0,   0], dtype=uint8), array([144, 142, 142, ...,   0,   0,   0], dtype=uint8), array([119, 106, 126, ...,  85,  60,  61], dtype=uint8), array([138, 147, 170, ..., 137, 141, 141], dtype=uint8), array([115, 125, 122, ...,  70,  73, 114], dtype=uint8), array([133, 133, 133, ...,  83,  83,  78], dtype=uint8), array([ 18,  20,  18, ..., 117, 116, 107], dtype=uint8), array([168, 150, 161, ...,  63,  77,  85], dtype=uint8), array([68, 33, 18, ..., 57, 59, 56], dtype=uint8), array([ 41,  44,  43, ..., 181, 165, 158], dtype=uint8), array([114, 113, 113, ...,  47,  46,  46], dtype=uint8), array([ 72,  83,  56, ..., 157, 156, 152], dtype=uint8), array([125, 140, 153, ..., 109, 109, 107], dtype=uint8), array([23, 33, 50, ..., 60, 51, 48], dtype=uint8), array([197, 213, 214, ...,  37,  26,  28], dtype=uint8), array([ 94, 103, 105, ...,  67,  68,  69], dtype=uint8), array([153, 152, 156, ..., 171, 180, 177], dtype=uint8), array([255, 255, 255, ...,  63,  62,  66], dtype=uint8), array([214, 213, 215, ...,  69,  70,  73], dtype=uint8), array([240, 241, 241, ..., 240, 238, 241], dtype=uint8), array([157, 130,  92, ..., 161, 143, 117], dtype=uint8), array([69, 68, 68, ..., 42, 43, 43], dtype=uint8), array([106, 112, 123, ..., 124, 123, 129], dtype=uint8), array([103, 155, 134, ..., 119, 119, 120], dtype=uint8), array([ 79,  78,  51, ..., 111, 148, 141], dtype=uint8), array([182, 183, 185, ...,  20,  27,  33], dtype=uint8), array([65, 64, 66, ..., 54, 51, 47], dtype=uint8), array([74, 73, 70, ..., 42, 40, 40], dtype=uint8), array([143, 146, 143, ..., 101,  94, 110], dtype=uint8), array([123, 122, 121, ..., 130, 133, 138], dtype=uint8), array([244, 243, 243, ...,  83,  82,  81], dtype=uint8), array([185, 186, 187, ..., 136, 137, 134], dtype=uint8), array([ 41,  41,  40, ..., 108, 101, 108], dtype=uint8), array([119, 113, 116, ..., 140, 169, 171], dtype=uint8), array([68, 68, 68, ..., 27, 24, 21], dtype=uint8), array([51, 51, 51, ..., 56, 56, 55], dtype=uint8), array([82, 82, 81, ..., 69, 67, 67], dtype=uint8), array([185, 184, 187, ..., 114, 112, 111], dtype=uint8), array([ 76,  85,  74, ..., 165, 128, 115], dtype=uint8), array([30, 31, 32, ..., 38, 39, 39], dtype=uint8), array([35, 34, 33, ..., 37, 36, 35], dtype=uint8), array([175, 176, 165, ..., 189, 166, 154], dtype=uint8), array([ 27,  78, 105, ...,  43,  55,  58], dtype=uint8), array([227, 227, 227, ..., 228, 224, 237], dtype=uint8), array([ 7,  7,  7, ..., 78, 88, 66], dtype=uint8), array([79, 79, 78, ..., 92, 91, 94], dtype=uint8), array([178, 182, 192, ...,  31,  52,  70], dtype=uint8), array([69, 63, 68, ..., 87, 83, 79], dtype=uint8), array([152, 153, 145, ...,  45,  46,  45], dtype=uint8), array([40, 36, 38, ..., 50, 46, 40], dtype=uint8), array([43, 43, 42, ..., 38, 39, 41], dtype=uint8), array([ 78,  83,  91, ..., 137, 135, 134], dtype=uint8), array([60, 60, 62, ..., 32, 34, 34], dtype=uint8), array([48, 49, 45, ..., 47, 46, 46], dtype=uint8), array([48, 44, 49, ..., 38, 35, 44], dtype=uint8), array([ 43,  46,  43, ...,  95, 162, 197], dtype=uint8), array([138, 135, 135, ...,  23,  18,  35], dtype=uint8), array([50, 46, 49, ..., 33, 33, 41], dtype=uint8), array([107, 108, 107, ...,  28,  39,  43], dtype=uint8), array([114, 109, 112, ...,  37,  35,  38], dtype=uint8), array([47, 49, 46, ..., 31, 32, 34], dtype=uint8), array([ 50,  49,  50, ..., 159, 111, 117], dtype=uint8), array([106, 105, 106, ...,  32,  31,  28], dtype=uint8), array([48, 45, 45, ..., 28, 37, 29], dtype=uint8), array([45, 49, 47, ..., 40, 30, 44], dtype=uint8), array([111, 106, 106, ...,  43,  34,  43], dtype=uint8), array([137, 135, 136, ...,  19,  24,  41], dtype=uint8), array([100, 105, 103, ...,  41,  37,  37], dtype=uint8), array([108, 111, 110, ...,  53,  48,  56], dtype=uint8), array([42, 41, 44, ..., 42, 43, 41], dtype=uint8), array([140, 134, 135, ...,  25,  26,  49], dtype=uint8), array([64, 76, 80, ..., 35, 37, 39], dtype=uint8), array([104, 101, 105, ...,  49,  43,  36], dtype=uint8), array([51, 48, 43, ..., 29, 28, 32], dtype=uint8), array([105, 104, 104, ...,  43,  41,  24], dtype=uint8), array([ 95, 101,  99, ...,  40,  42,  53], dtype=uint8), array([41, 47, 47, ..., 35, 37, 38], dtype=uint8), array([111, 112, 110, ...,  21,  20,  17], dtype=uint8), array([118, 123, 120, ...,  79,  81,  84], dtype=uint8), array([61, 58, 59, ..., 59, 64, 61], dtype=uint8), array([49, 45, 46, ..., 43, 42, 45], dtype=uint8), array([52, 41, 48, ..., 44, 43, 46], dtype=uint8), array([120, 119, 121, ...,  74,  74,  80], dtype=uint8), array([121, 120, 120, ...,  79,  76,  78], dtype=uint8), array([122, 120, 121, ...,  59,  67,  58], dtype=uint8), array([ 46,  50,  45, ..., 136, 144,  98], dtype=uint8), array([46, 45, 49, ..., 56, 60, 58], dtype=uint8), array([ 69,  76,  69, ..., 104, 121,  93], dtype=uint8), array([63, 60, 63, ..., 63, 69, 58], dtype=uint8), array([48, 45, 50, ..., 46, 50, 53], dtype=uint8), array([ 44,  48,  51, ..., 129, 131, 125], dtype=uint8), array([41, 43, 43, ..., 45, 47, 46], dtype=uint8), array([ 52,  39,  51, ..., 133, 138, 103], dtype=uint8), array([119, 118, 119, ...,  83,  83,  82], dtype=uint8), array([123, 121, 121, ...,  78,  79,  67], dtype=uint8), array([42, 47, 48, ..., 34, 43, 45], dtype=uint8), array([117, 122, 120, ...,  76,  78,  71], dtype=uint8), array([ 45,  38,  40, ..., 135,  24,  36], dtype=uint8), array([119, 121, 123, ...,  73,  74,  76], dtype=uint8), array([51, 41, 56, ..., 43, 49, 36], dtype=uint8), array([45, 52, 48, ..., 48, 43, 47], dtype=uint8), array([ 44,  50,  46, ..., 140, 104,  95], dtype=uint8), array([53, 58, 57, ..., 38, 47, 39], dtype=uint8), array([ 43,  39,  36, ..., 154, 155, 141], dtype=uint8), array([ 50,  54,  61, ..., 152, 165,  67], dtype=uint8), array([ 34,  39,  35, ..., 135, 138, 148], dtype=uint8), array([109, 107, 110, ...,  42,  40,  35], dtype=uint8), array([50, 49, 49, ..., 41, 40, 45], dtype=uint8), array([ 93,  98,  95, ..., 131, 131, 132], dtype=uint8), array([108, 110, 108, ...,  36,  35,  34], dtype=uint8), array([48, 44, 49, ..., 41, 45, 35], dtype=uint8), array([116, 116, 117, ...,  19,  24,  16], dtype=uint8), array([111, 110, 114, ...,  57,  53,  48], dtype=uint8), array([37, 35, 35, ..., 26, 28, 28], dtype=uint8), array([ 58,  55,  52, ..., 131, 115,  68], dtype=uint8), array([107, 103, 104, ..., 155, 133, 159], dtype=uint8), array([108, 105, 105, ..., 169, 147, 165], dtype=uint8), array([103, 102, 104, ..., 139, 152, 178], dtype=uint8), array([53, 50, 52, ..., 35, 34, 33], dtype=uint8), array([ 49,  65,  53, ..., 134, 130, 145], dtype=uint8), array([54, 52, 49, ..., 33, 33, 32], dtype=uint8), array([108, 110, 111, ...,  26,  37,  37], dtype=uint8), array([30, 37, 35, ..., 26, 27, 32], dtype=uint8), array([102, 103, 103, ...,  36,  37,  31], dtype=uint8), array([34, 35, 35, ..., 31, 24, 24], dtype=uint8), array([ 58,  57,  61, ..., 204, 102,  98], dtype=uint8), array([ 99,  90,  97, ..., 135, 113, 158], dtype=uint8), array([52, 51, 52, ..., 33, 34, 32], dtype=uint8), array([108, 107, 106, ...,  43,  43,  40], dtype=uint8), array([42, 44, 39, ..., 22, 28, 18], dtype=uint8), array([109, 105, 112, ...,  55,  50,  51], dtype=uint8), array([39, 46, 42, ..., 19, 19, 25], dtype=uint8), array([120, 119, 118, ...,  63,  73,  80], dtype=uint8), array([113, 105, 109, ...,  48,  37,  51], dtype=uint8), array([120, 122, 118, ...,  94,  98,  99], dtype=uint8), array([46, 45, 42, ..., 24, 21, 24], dtype=uint8), array([111, 111, 108, ...,  66,  64,  59], dtype=uint8), array([34, 38, 36, ..., 55, 58, 55], dtype=uint8), array([39, 43, 39, ..., 24, 24, 23], dtype=uint8), array([114, 120, 118, ...,  79,  92,  87], dtype=uint8), array([124, 121, 125, ...,  57,  56,  59], dtype=uint8), array([40, 41, 43, ..., 40, 37, 36], dtype=uint8), array([122, 122, 121, ...,  77,  77,  79], dtype=uint8), array([112, 109, 110, ...,  65,  69,  83], dtype=uint8), array([124, 124, 123, ...,  99, 102,  95], dtype=uint8), array([118, 122, 118, ...,  78,  62,  62], dtype=uint8), array([40, 42, 41, ..., 57, 37, 42], dtype=uint8), array([36, 39, 45, ..., 52, 51, 53], dtype=uint8), array([120, 123, 119, ...,  96,  95, 103], dtype=uint8), array([119, 120, 121, ...,  99, 100, 104], dtype=uint8), array([40, 40, 41, ..., 23, 23, 27], dtype=uint8), array([109, 111, 110, ...,  75,  69,  68], dtype=uint8), array([115, 108, 109, ...,  48,  47,  48], dtype=uint8), array([116, 119, 117, ...,  60,  54,  64], dtype=uint8), array([40, 42, 38, ..., 28, 33, 29], dtype=uint8), array([111, 107, 109, ...,  65,  68,  65], dtype=uint8), array([ 37,  36,  35, ..., 210, 212, 157], dtype=uint8), array([110, 108, 109, ...,  66,  64,  63], dtype=uint8), array([ 36,  36,  38, ..., 210, 205, 144], dtype=uint8), array([48, 50, 51, ..., 87, 90, 99], dtype=uint8), array([110, 111, 110, ...,  63,  59,  60], dtype=uint8), array([110, 110, 112, ..., 141,  88,  64], dtype=uint8), array([105, 102, 108, ...,  42,  35,  37], dtype=uint8), array([122, 125, 123, ...,  75,  74,  74], dtype=uint8), array([ 94,  98,  94, ..., 126, 148, 135], dtype=uint8), array([112, 110, 113, ..., 157, 159, 167], dtype=uint8), array([104, 101, 104, ...,  78,  73,  79], dtype=uint8), array([101, 100,  99, ...,  49,  52,  52], dtype=uint8), array([ 98, 100,  99, ...,  53,  48,  52], dtype=uint8), array([110, 106, 109, ...,  49,  53,  53], dtype=uint8), array([104, 109, 103, ...,  57,  56,  59], dtype=uint8), array([109, 111, 108, ...,  52,  55,  48], dtype=uint8), array([106, 106, 110, ...,  69,  69,  68], dtype=uint8), array([101, 106, 102, ...,  46,  50,  45], dtype=uint8), array([ 97,  99,  98, ..., 130, 119, 120], dtype=uint8), array([105, 106, 100, ...,  76,  76,  76], dtype=uint8), array([ 96,  94,  98, ..., 131, 136, 152], dtype=uint8), array([ 98, 103,  98, ...,  57,  50,  48], dtype=uint8), array([ 48,  47,  47, ..., 120, 104,  66], dtype=uint8), array([ 28,  25,  27, ..., 187, 187, 190], dtype=uint8), array([ 25,  25,  23, ..., 187, 190, 192], dtype=uint8), array([ 24,  26,  27, ..., 183, 181, 181], dtype=uint8), array([41, 34, 40, ..., 38, 39, 37], dtype=uint8), array([ 86,  89,  90, ..., 124, 116,  83], dtype=uint8), array([ 97,  96,  98, ...,  75, 104, 124], dtype=uint8), array([45, 45, 48, ..., 76, 79, 70], dtype=uint8), array([ 25,  17,  26, ..., 187, 187, 187], dtype=uint8), array([ 88,  79,  77, ..., 137, 138, 148], dtype=uint8), array([48, 42, 52, ..., 46, 51, 48], dtype=uint8), array([40, 35, 37, ..., 33, 31, 29], dtype=uint8), array([ 91,  83,  70, ..., 171, 188, 190], dtype=uint8), array([ 92,  93,  96, ..., 192, 163, 157], dtype=uint8), array([ 19,  23,  20, ..., 169, 173, 175], dtype=uint8), array([63, 67, 65, ..., 54, 61, 69], dtype=uint8), array([ 84,  96, 101, ...,  36,  57,  55], dtype=uint8), array([ 89,  95,  95, ..., 147, 152, 159], dtype=uint8), array([48, 43, 51, ..., 45, 42, 39], dtype=uint8), array([40, 37, 35, ..., 27, 30, 24], dtype=uint8), array([34, 38, 38, ..., 28, 28, 22], dtype=uint8), array([ 93,  92,  98, ..., 118, 119, 130], dtype=uint8), array([ 24,  26,  22, ..., 184, 180, 178], dtype=uint8), array([38, 33, 43, ..., 26, 28, 23], dtype=uint8), array([119, 121, 123, ...,  36,  40,  36], dtype=uint8), array([113, 109, 113, ...,  72,  66,  71], dtype=uint8), array([129, 127, 133, ...,  93,  93,  93], dtype=uint8), array([ 87,  93,  84, ..., 125, 117, 125], dtype=uint8), array([130, 123, 127, ...,  33,  37,  40], dtype=uint8), array([47, 50, 52, ..., 33, 45, 36], dtype=uint8), array([119, 121, 122, ...,  79,  80,  82], dtype=uint8), array([ 93,  93,  88, ..., 112, 111, 111], dtype=uint8), array([109, 112, 114, ...,  69,  72,  69], dtype=uint8), array([114, 112, 110, ...,  67,  70,  68], dtype=uint8), array([55, 47, 50, ..., 48, 46, 72], dtype=uint8), array([58, 48, 47, ..., 31, 43, 41], dtype=uint8), array([106, 104, 104, ...,  74,  66,  68], dtype=uint8), array([112, 115, 120, ...,  53,  53,  54], dtype=uint8), array([114, 118, 114, ...,  54,  55,  52], dtype=uint8), array([118, 120, 118, ..., 131, 113, 102], dtype=uint8), array([52, 47, 51, ..., 30, 34, 42], dtype=uint8), array([116, 112, 115, ...,  51,  55,  54], dtype=uint8), array([103, 109, 105, ...,  53,  58,  54], dtype=uint8), array([ 75,  77,  75, ..., 116, 114, 113], dtype=uint8), array([116, 123, 120, ..., 108,  96,  98], dtype=uint8), array([ 86,  90,  87, ..., 127, 124, 126], dtype=uint8), array([45, 54, 48, ..., 46, 67, 33], dtype=uint8), array([118, 114, 117, ...,  58,  54,  52], dtype=uint8), array([ 88,  85,  89, ..., 117, 117, 116], dtype=uint8), array([132, 127, 128, ...,  85,  83,  85], dtype=uint8), array([114, 110, 112, ...,  93,  89,  86], dtype=uint8), array([111, 114, 112, ...,  88,  86,  92], dtype=uint8), array([51, 49, 53, ..., 61, 61, 57], dtype=uint8), array([153, 152, 152, ..., 110, 108, 114], dtype=uint8), array([117, 115, 115, ...,  53,  46,  68], dtype=uint8), array([130, 132, 129, ...,  53,  50,  52], dtype=uint8), array([124, 125, 125, ...,  84,  89,  85], dtype=uint8), array([67, 64, 67, ..., 73, 69, 72], dtype=uint8), array([111, 111, 110, ...,  88,  79,  90], dtype=uint8), array([48, 47, 53, ..., 61, 66, 67], dtype=uint8), array([128, 125, 126, ...,  84,  85,  85], dtype=uint8), array([143, 144, 142, ...,  79,  79,  80], dtype=uint8), array([131, 133, 128, ...,  54,  53,  56], dtype=uint8), array([139, 143, 146, ...,  83,  81,  74], dtype=uint8), array([144, 144, 145, ...,  76,  78,  82], dtype=uint8), array([131, 129, 130, ...,  51,  48,  55], dtype=uint8), array([126, 127, 126, ...,  87,  85,  89], dtype=uint8), array([130, 133, 129, ...,  54,  54,  56], dtype=uint8), array([156, 158, 155, ..., 113, 110, 108], dtype=uint8), array([49, 48, 49, ..., 63, 63, 56], dtype=uint8), array([129, 127, 128, ...,  32,  35,  40], dtype=uint8), array([116, 116, 117, ...,  83,  76,  77], dtype=uint8), array([126, 130, 131, ...,  43,  51,  48], dtype=uint8), array([155, 154, 153, ..., 113, 110, 111], dtype=uint8)]\n",
            "1\n"
          ]
        }
      ]
    },
    {
      "cell_type": "code",
      "source": [
        "def LDA(arr, Y=None, noOfDims=None):\n",
        "    # initializing the variables\n",
        "    summ, lenn = 0, 0\n",
        "    # computing the mean for each class\n",
        "    mu = []\n",
        "    Z =  []\n",
        "    if nonfaces >200:\n",
        "      arr2=np.concatenate((arr[0:199,:],arr[600:,:]))\n",
        "      mu.append(np.mean(arr2, axis=0, keepdims=True).T) \n",
        "    else: \n",
        "      mu.append(np.mean(arr[0:199,:], axis=0, keepdims=True).T) \n",
        "    mu.append(np.mean(arr[200:599,:], axis=0 , keepdims=True).T)    \n",
        "    # computing the between class scatter matrices\n",
        "    SB = np.matmul((mu[0]-mu[1]), (mu[0]-mu[1]).T)\n",
        "    # centering the class matrices\n",
        "    if nonfaces >200:\n",
        "        Z.append( (arr2 - mu[0].T)) \n",
        "    else:\n",
        "        Z.append((arr[0:200,:] - mu[0].T))    \n",
        "    Z.append((arr[200:599,:] - mu[1].T))\n",
        "    S = 0\n",
        "    for i in range(len(Z)): S += np.matmul(Z[i].T, Z[i])\n",
        "    # performing eigenvalue decomposition\n",
        "    eigValues, eigVectors = np.linalg.eigh(np.matmul(np.linalg.inv(S), SB))\n",
        "    idx = eigValues.argsort()[::-1]\n",
        "    eigValues = eigValues[idx]\n",
        "    eigVectors = eigVectors[:,idx]\n",
        "    # returning the dominant eigen vectors\n",
        "    return eigVectors.T\n",
        "\n",
        "    "
      ],
      "metadata": {
        "id": "rY_EVhf_JVXB"
      },
      "execution_count": 28,
      "outputs": []
    },
    {
      "cell_type": "code",
      "source": [
        "# DO NOT RUN THIS CELL IF YOU ALREADY HAVE THE PICKLE FILES\n",
        "W = LDA(arr, noOfDims=2)\n",
        "# DO NOT RUN THIS CELL IF YOU ALREADY HAVE THE PICKLE FILES"
      ],
      "metadata": {
        "id": "yGfI7Pdt9mn0"
      },
      "execution_count": 29,
      "outputs": []
    },
    {
      "cell_type": "code",
      "source": [
        "# saving the LDA output for later use\n",
        "file_name = 'LDA_output.pkl'\n",
        "with open(file_name, 'wb') as file:\n",
        "    pickle.dump(W, file)\n",
        "    print(f'Object successfully saved to \"{file_name}\"')"
      ],
      "metadata": {
        "id": "NooEJLM3ISN1",
        "colab": {
          "base_uri": "https://localhost:8080/"
        },
        "outputId": "25fee8f8-0a9e-4322-d586-869ede6f8ce0"
      },
      "execution_count": 31,
      "outputs": [
        {
          "output_type": "stream",
          "name": "stdout",
          "text": [
            "Object successfully saved to \"LDA_output.pkl\"\n"
          ]
        }
      ]
    },
    {
      "cell_type": "code",
      "source": [
        "def KNN(X_train, X_test, y_train, k):   \n",
        "  # predicted label\n",
        "  yPredicted = []\n",
        "  for i in range(len(X_test)):\n",
        "    # measuring the distance between that test point each train point\n",
        "    dist = dict([(j, np.sqrt(np.sum((X_test[i] - X_train[j])**2))) for j in range(len(X_train))])\n",
        "    # sorting the distances\n",
        "    dist = sorted(dist.items(), key=lambda kv:(kv[1], kv[0]))\n",
        "    # considering only the k closest points\n",
        "    dist = dict(dist[:k])\n",
        "    # print(dist)\n",
        "    # creating a counter object to track the labels of k closest neighbors\n",
        "    counter = Counter([y_train[k] for k in dist.keys()])\n",
        "    # getting the most common label of all the nearest neighbors\n",
        "    yPredicted.append(counter.most_common()[0][0])\n",
        "    # print(counter.most_common()[0][0])\n",
        "  return yPredicted"
      ],
      "metadata": {
        "id": "JUFam-qXPZi7"
      },
      "execution_count": 30,
      "outputs": []
    },
    {
      "cell_type": "code",
      "source": [
        "def projectData(X_train, X_test, W):\n",
        "    X_train = np.array([np.matmul(W.T, X_train[i]) for i in range(X_train.shape[0])])\n",
        "    X_test = np.array([np.matmul(W.T, X_test[i]) for i in range(X_test.shape[0])])\n",
        "    return X_train, X_test"
      ],
      "metadata": {
        "id": "Aiol2vfKqaob"
      },
      "execution_count": 32,
      "outputs": []
    },
    {
      "cell_type": "code",
      "source": [
        "print(\"After LDA\")\n",
        "accur_afterLDA=[]\n",
        "Z=W[:1]\n",
        "Z=Z.T\n",
        "X_train_red, X_test_red = projectData(np.array(X_train), np.array(X_test), Z)\n",
        "yhat = KNN(X_train_red, X_test_red, labels_train, 1)\n",
        "accur_afterLDA.append(accuracy_score(labels_test, yhat))\n",
        "print('200',accuracy_score(labels_test, yhat))"
      ],
      "metadata": {
        "colab": {
          "base_uri": "https://localhost:8080/"
        },
        "id": "vUY_G1I3p0CM",
        "outputId": "6bc9edba-5c82-4452-90a9-643759a9f014"
      },
      "execution_count": 33,
      "outputs": [
        {
          "output_type": "stream",
          "name": "stdout",
          "text": [
            "After LDA\n",
            "200 0.8633333333333333\n"
          ]
        }
      ]
    },
    {
      "cell_type": "code",
      "source": [
        "accff.append(accuracy_score(labels_test, yhat))"
      ],
      "metadata": {
        "id": "qK-GHskTrxK9"
      },
      "execution_count": null,
      "outputs": []
    },
    {
      "cell_type": "code",
      "source": [
        "file_name = 'LDA_output.pkl'\n",
        "with open(file_name, 'rb') as file:\n",
        "    W  = pickle.load(file)\n",
        "    print(f'Object successfully loaded from \"{file_name}\"')"
      ],
      "metadata": {
        "id": "Q-mfa7UfVZrL"
      },
      "execution_count": null,
      "outputs": []
    },
    {
      "cell_type": "code",
      "source": [
        "print(accff)"
      ],
      "metadata": {
        "id": "-QWlmfVWUYjm",
        "colab": {
          "base_uri": "https://localhost:8080/"
        },
        "outputId": "3b734dc4-f9ed-4acd-cd98-9cbd982fe42c"
      },
      "execution_count": null,
      "outputs": [
        {
          "output_type": "stream",
          "name": "stdout",
          "text": [
            "[0.9933333333333333]\n"
          ]
        }
      ]
    },
    {
      "cell_type": "code",
      "source": [
        "labels2 = []\n",
        "arr2 =[]\n",
        "\n",
        "for root,di,files in os.walk(\"/content/drive/MyDrive/Colab Notebooks/dataset3/11\"): \n",
        "  for name in files:\n",
        "    if name.endswith(\"jpg\") or name.endswith(\"jpeg\") or name.endswith(\"pgm\") :\n",
        "      root_folder = os.path.split(root) ##   \n",
        "      if name.endswith(\"jpg\") or name.endswith(\"jpeg\"): \n",
        "        nonfaces = nonfaces + 1\n",
        "        labels2.append(1)\n",
        "        #image1 = io.imread(os.path.join(root,name))\n",
        "        image1 = cv2.imread(os.path.join(root,name), 0)\n",
        "      elif name.endswith(\"pgm\") :\n",
        "        image1 = image.imread(os.path.join(root,name))\n",
        "        labels2.append(2)  \n",
        "      #res=re.findall('(\\d+)',root_folder[1]) ##\n",
        "      #image1 = image.imread(os.path.join(root,name))\n",
        "      image1.resize((92, 112))\n",
        "      image1=image1.flatten(order='C')\n",
        "      #print(image1)\n",
        "      arr2.append(image1)\n",
        "     # labels.append(int(res[0]))\n",
        "      i=i+1\n",
        "      \n",
        "num_nonfaces.append( nonfaces)           \n",
        "arr2=np.array(arr2)\n",
        "arr = np.vstack((arr, arr2))\n",
        "labels2=np.array(labels2)\n",
        "labels = np.hstack((labels, labels2))\n",
        "print(labels.shape)       \n",
        "print(arr.shape)\n",
        "#print(labels)    \n",
        "#AfterChanging_nonfaces()"
      ],
      "metadata": {
        "colab": {
          "base_uri": "https://localhost:8080/"
        },
        "id": "4vKzEqxgLRaR",
        "outputId": "14bc3db2-8dfd-4678-ea07-1e96cfa81d28"
      },
      "execution_count": 34,
      "outputs": [
        {
          "output_type": "stream",
          "name": "stdout",
          "text": [
            "(749,)\n",
            "(749, 10304)\n"
          ]
        }
      ]
    },
    {
      "cell_type": "code",
      "source": [],
      "metadata": {
        "id": "7ZVm6MAw-NAB"
      },
      "execution_count": null,
      "outputs": []
    },
    {
      "cell_type": "code",
      "source": [
        "##### def AfterChanging_nonfaces():\n",
        "\n",
        "X_train = []\n",
        "X_test =  []  \n",
        "labels_train = []\n",
        "labels_test =  []  \n",
        "for i in range(0,(400+nonfaces)):\n",
        "    if((i%2==0)):\n",
        "       X_test.append(arr[i,:])\n",
        "       labels_test.append(labels[i])\n",
        "    else:\n",
        "       X_train.append(arr[i,:])\n",
        "       labels_train.append(labels[i])\n",
        " \n",
        "print(X_test[0])\n",
        "print(labels_test[0])\n",
        "# DO NOT RUN THIS CELL IF YOU ALREADY HAVE THE PICKLE FILES\n",
        "W = LDA(arr, noOfDims=2)\n",
        "# DO NOT RUN THIS CELL IF YOU ALREADY HAVE THE PICKLE FILES\n",
        "Z=W[:1]\n",
        "Z=Z.T\n",
        "print(\"After LDA\")\n",
        "X_train_red, X_test_red = projectData(np.array(X_train), np.array(X_test), Z)\n",
        "yhat = KNN(X_train_red, X_test_red, labels_train, 1)\n",
        "accur_afterLDA.append(accuracy_score(labels_test, yhat))\n",
        "print((400+nonfaces),accuracy_score(labels_test, yhat))\n",
        "accff.append(accuracy_score(labels_test, yhat))\n",
        "#print(X_test_red)\n",
        "#print(\"Training Set Accuracy: {}\\nTesting  Set Accuracy: {}\".format(train_score, test_score))\n",
        "print(nonfaces)\n",
        "print(accff )"
      ],
      "metadata": {
        "colab": {
          "base_uri": "https://localhost:8080/"
        },
        "id": "TO-A6d4A05ae",
        "outputId": "28c58a31-3e90-4122-b5c6-2661547c1939"
      },
      "execution_count": 35,
      "outputs": [
        {
          "output_type": "stream",
          "name": "stdout",
          "text": [
            "[157 156 153 ... 141 141 133]\n",
            "1\n",
            "After LDA\n",
            "749 0.8213333333333334\n",
            "349\n",
            "[0.8213333333333334]\n"
          ]
        }
      ]
    },
    {
      "cell_type": "code",
      "source": [
        "print(accff)"
      ],
      "metadata": {
        "colab": {
          "base_uri": "https://localhost:8080/"
        },
        "id": "xPeWzJ24aDU8",
        "outputId": "5d336905-75d6-4f65-bf24-4dfa6c316470"
      },
      "execution_count": null,
      "outputs": [
        {
          "output_type": "stream",
          "name": "stdout",
          "text": [
            "[0.9933333333333333, 0.9973333333333333, 0.9976303317535545, 0.9978813559322034, 1.0]\n"
          ]
        }
      ]
    },
    {
      "cell_type": "code",
      "source": [
        "labels2 = []\n",
        "arr2 =[]\n",
        "\n",
        "for root,di,files in os.walk(\"/content/drive/MyDrive/Colab Notebooks/dataset3/21\"): \n",
        "  for name in files:\n",
        "    if name.endswith(\"jpg\") or name.endswith(\"jpeg\") or name.endswith(\"pgm\") :\n",
        "      root_folder = os.path.split(root) ##   \n",
        "      if name.endswith(\"jpg\") or name.endswith(\"jpeg\"): \n",
        "        nonfaces = nonfaces + 1\n",
        "        labels2.append(1)\n",
        "        image1 = cv2.imread(os.path.join(root,name), 0)\n",
        "      elif name.endswith(\"pgm\") :\n",
        "        image1 = imread(os.path.join(root,name))\n",
        "        labels2.append(2)  \n",
        "      image1.resize((92, 112))\n",
        "      image1=image1.flatten(order='C')\n",
        "      arr2.append(image1)\n",
        "      i=i+1\n",
        "      \n",
        "num_nonfaces.append( nonfaces)           \n",
        "arr2=np.array(arr2)\n",
        "arr = np.vstack((arr, arr2))\n",
        "labels2=np.array(labels2)\n",
        "labels = np.hstack((labels, labels2))\n",
        "print(labels.shape)       \n",
        "print(arr.shape)\n",
        "#print(labels)    \n"
      ],
      "metadata": {
        "id": "5mY_6bgxSr3m",
        "colab": {
          "base_uri": "https://localhost:8080/"
        },
        "outputId": "d6028e08-9de0-4c4b-8496-5e5ace3b7604"
      },
      "execution_count": 36,
      "outputs": [
        {
          "output_type": "stream",
          "name": "stdout",
          "text": [
            "(843,)\n",
            "(843, 10304)\n"
          ]
        }
      ]
    },
    {
      "cell_type": "code",
      "source": [
        "#Call the cell of\n",
        "#AfterChanging_nonfaces()\n",
        "##### def AfterChanging_nonfaces():\n",
        "\n",
        "X_train = []\n",
        "X_test =  []  \n",
        "labels_train = []\n",
        "labels_test =  []  \n",
        "for i in range(0,(400+nonfaces)):\n",
        "    if((i%2==0)):\n",
        "       X_test.append(arr[i,:])\n",
        "       labels_test.append(labels[i])\n",
        "    else:\n",
        "       X_train.append(arr[i,:])\n",
        "       labels_train.append(labels[i])\n",
        " \n",
        "print(X_test[0])\n",
        "print(labels_test[0])\n",
        "# DO NOT RUN THIS CELL IF YOU ALREADY HAVE THE PICKLE FILES\n",
        "W = LDA(arr, noOfDims=2)\n",
        "# DO NOT RUN THIS CELL IF YOU ALREADY HAVE THE PICKLE FILES\n",
        "Z=W[:1]\n",
        "Z=Z.T\n",
        "print(\"After LDA\")\n",
        "X_train_red, X_test_red = projectData(np.array(X_train), np.array(X_test), Z)\n",
        "yhat = KNN(X_train_red, X_test_red, labels_train, 1)\n",
        "accur_afterLDA.append(accuracy_score(labels_test, yhat))\n",
        "print((400+nonfaces),accuracy_score(labels_test, yhat))\n",
        "accff.append(accuracy_score(labels_test, yhat))\n",
        "#print(X_test_red)\n",
        "#print(\"Training Set Accuracy: {}\\nTesting  Set Accuracy: {}\".format(train_score, test_score))\n",
        "print(nonfaces)\n",
        "print(accur_afterLDA )"
      ],
      "metadata": {
        "id": "cUWpk6Du91M1",
        "outputId": "e9fa1b4b-3379-4c7b-ba31-82faa36d2fb9",
        "colab": {
          "base_uri": "https://localhost:8080/"
        }
      },
      "execution_count": 37,
      "outputs": [
        {
          "output_type": "stream",
          "name": "stdout",
          "text": [
            "[157 156 153 ... 141 141 133]\n",
            "1\n",
            "After LDA\n",
            "843 0.8791469194312796\n",
            "443\n",
            "[0.8633333333333333, 0.8213333333333334, 0.8791469194312796]\n"
          ]
        }
      ]
    },
    {
      "cell_type": "code",
      "source": [
        "labels2 = []\n",
        "arr2 =[]\n",
        "\n",
        "for root,di,files in os.walk(\"/content/drive/MyDrive/Colab Notebooks/dataset3/2\"): \n",
        "  for name in files:\n",
        "    if name.endswith(\"jpg\") or name.endswith(\"jpeg\") or name.endswith(\"pgm\") :\n",
        "      root_folder = os.path.split(root) ##   \n",
        "      if name.endswith(\"jpg\") or name.endswith(\"jpeg\"): \n",
        "        nonfaces = nonfaces + 1\n",
        "        labels2.append(1)\n",
        "        image1 = cv2.imread(os.path.join(root,name), 0)\n",
        "      elif name.endswith(\"pgm\") :\n",
        "        image1 = imread(os.path.join(root,name))\n",
        "        labels2.append(2)  \n",
        "      image1.resize((92, 112))\n",
        "      image1=image1.flatten(order='C')\n",
        "      arr2.append(image1)\n",
        "      i=i+1\n",
        "      \n",
        "num_nonfaces.append( nonfaces)           \n",
        "arr2=np.array(arr2)\n",
        "arr = np.vstack((arr, arr2))\n",
        "labels2=np.array(labels2)\n",
        "labels = np.hstack((labels, labels2))\n",
        "print(labels.shape)       \n",
        "print(arr.shape)\n",
        "#print(labels)    \n"
      ],
      "metadata": {
        "colab": {
          "base_uri": "https://localhost:8080/"
        },
        "id": "GCPZPgo4wQ-G",
        "outputId": "d1637e99-6824-4f3b-e9ae-81acaee2aaea"
      },
      "execution_count": 38,
      "outputs": [
        {
          "output_type": "stream",
          "name": "stdout",
          "text": [
            "(942,)\n",
            "(942, 10304)\n"
          ]
        }
      ]
    },
    {
      "cell_type": "code",
      "source": [
        "#Call the cell of\n",
        "#AfterChanging_nonfaces()\n",
        "#Call the cell of\n",
        "#AfterChanging_nonfaces()\n",
        "##### def AfterChanging_nonfaces():\n",
        "\n",
        "X_train = []\n",
        "X_test =  []  \n",
        "labels_train = []\n",
        "labels_test =  []  \n",
        "for i in range(0,(400+nonfaces)):\n",
        "    if((i%2==0)):\n",
        "       X_test.append(arr[i,:])\n",
        "       labels_test.append(labels[i])\n",
        "    else:\n",
        "       X_train.append(arr[i,:])\n",
        "       labels_train.append(labels[i])\n",
        " \n",
        "print(X_test[0])\n",
        "print(labels_test[0])\n",
        "# DO NOT RUN THIS CELL IF YOU ALREADY HAVE THE PICKLE FILES\n",
        "W = LDA(arr, noOfDims=2)\n",
        "# DO NOT RUN THIS CELL IF YOU ALREADY HAVE THE PICKLE FILES\n",
        "Z=W[:1]\n",
        "Z=Z.T\n",
        "print(\"After LDA\")\n",
        "X_train_red, X_test_red = projectData(np.array(X_train), np.array(X_test), Z)\n",
        "yhat = KNN(X_train_red, X_test_red, labels_train, 1)\n",
        "accur_afterLDA.append(accuracy_score(labels_test, yhat))\n",
        "print((400+nonfaces),accuracy_score(labels_test, yhat))\n",
        "accff.append(accuracy_score(labels_test, yhat))\n",
        "#print(X_test_red)\n",
        "#print(\"Training Set Accuracy: {}\\nTesting  Set Accuracy: {}\".format(train_score, test_score))\n",
        "print(nonfaces)\n",
        "print(accur_afterLDA )"
      ],
      "metadata": {
        "id": "Ny4WpuSwwTfo",
        "outputId": "8a22ddaf-7e62-4919-ad34-a665d30e8f2e",
        "colab": {
          "base_uri": "https://localhost:8080/"
        }
      },
      "execution_count": 39,
      "outputs": [
        {
          "output_type": "stream",
          "name": "stdout",
          "text": [
            "[157 156 153 ... 141 141 133]\n",
            "1\n",
            "After LDA\n",
            "942 0.821656050955414\n",
            "542\n",
            "[0.8633333333333333, 0.8213333333333334, 0.8791469194312796, 0.821656050955414]\n"
          ]
        }
      ]
    },
    {
      "cell_type": "code",
      "source": [
        "labels2 = []\n",
        "arr2 =[]\n",
        "\n",
        "for root,di,files in os.walk(\"/content/drive/MyDrive/Colab Notebooks/dataset3/1\"): \n",
        "  for name in files:\n",
        "    if name.endswith(\"jpg\") or name.endswith(\"jpeg\") or name.endswith(\"pgm\") :\n",
        "      root_folder = os.path.split(root) ##   \n",
        "      if name.endswith(\"jpg\") or name.endswith(\"jpeg\"): \n",
        "        nonfaces = nonfaces + 1\n",
        "        labels2.append(1)\n",
        "        image1 = cv2.imread(os.path.join(root,name), 0)\n",
        "      elif name.endswith(\"pgm\") :\n",
        "        image1 = imread(os.path.join(root,name))\n",
        "        labels2.append(2)  \n",
        "      image1.resize((92, 112))\n",
        "      image1=image1.flatten(order='C')\n",
        "      arr2.append(image1)\n",
        "      i=i+1\n",
        "      \n",
        "num_nonfaces.append( nonfaces)           \n",
        "arr2=np.array(arr2)\n",
        "arr = np.vstack((arr, arr2))\n",
        "labels2=np.array(labels2)\n",
        "labels = np.hstack((labels, labels2))\n",
        "print(labels.shape)       \n",
        "print(arr.shape)\n",
        "#print(labels)    \n"
      ],
      "metadata": {
        "colab": {
          "base_uri": "https://localhost:8080/"
        },
        "id": "TqJ-fzBvwVyd",
        "outputId": "f4160e7d-b774-4f2f-a7d7-9d5e9998607b"
      },
      "execution_count": 40,
      "outputs": [
        {
          "output_type": "stream",
          "name": "stdout",
          "text": [
            "(1334,)\n",
            "(1334, 10304)\n"
          ]
        }
      ]
    },
    {
      "cell_type": "code",
      "source": [
        "#Call the cell of\n",
        "#AfterChanging_nonfaces()\n",
        "#Call the cell of\n",
        "#AfterChanging_nonfaces()\n",
        "#Call the cell of\n",
        "#AfterChanging_nonfaces()\n",
        "##### def AfterChanging_nonfaces():\n",
        "\n",
        "X_train = []\n",
        "X_test =  []  \n",
        "labels_train = []\n",
        "labels_test =  []  \n",
        "for i in range(0,(400+nonfaces)):\n",
        "    if((i%2==0)):\n",
        "       X_test.append(arr[i,:])\n",
        "       labels_test.append(labels[i])\n",
        "    else:\n",
        "       X_train.append(arr[i,:])\n",
        "       labels_train.append(labels[i])\n",
        " \n",
        "print(X_test[0])\n",
        "print(labels_test[0])\n",
        "# DO NOT RUN THIS CELL IF YOU ALREADY HAVE THE PICKLE FILES\n",
        "W = LDA(arr, noOfDims=2)\n",
        "# DO NOT RUN THIS CELL IF YOU ALREADY HAVE THE PICKLE FILES\n",
        "Z=W[:1]\n",
        "Z=Z.T\n",
        "print(\"After LDA\")\n",
        "X_train_red, X_test_red = projectData(np.array(X_train), np.array(X_test), Z)\n",
        "yhat = KNN(X_train_red, X_test_red, labels_train, 1)\n",
        "accur_afterLDA.append(accuracy_score(labels_test, yhat))\n",
        "print((400+nonfaces),accuracy_score(labels_test, yhat))\n",
        "accff.append(accuracy_score(labels_test, yhat))\n",
        "#print(X_test_red)\n",
        "#print(\"Training Set Accuracy: {}\\nTesting  Set Accuracy: {}\".format(train_score, test_score))\n",
        "print(nonfaces)\n",
        "print(accur_afterLDA )\n",
        "print(num_nonfaces)"
      ],
      "metadata": {
        "colab": {
          "base_uri": "https://localhost:8080/"
        },
        "id": "USQLVsCqwdHO",
        "outputId": "27d29d6e-9f06-4ecf-ec31-e9d146f5a502"
      },
      "execution_count": 41,
      "outputs": [
        {
          "output_type": "stream",
          "name": "stdout",
          "text": [
            "[157 156 153 ... 141 141 133]\n",
            "1\n",
            "After LDA\n",
            "1334 0.7661169415292354\n",
            "934\n",
            "[0.8633333333333333, 0.8213333333333334, 0.8791469194312796, 0.821656050955414, 0.7661169415292354]\n",
            "[199, 349, 443, 542, 934]\n"
          ]
        }
      ]
    },
    {
      "cell_type": "code",
      "source": [
        "labels2 = []\n",
        "arr2 =[]\n",
        "\n",
        "for root,di,files in os.walk(\"/content/drive/MyDrive/Colab Notebooks/dataset3/5\"): \n",
        "  for name in files:\n",
        "    if name.endswith(\"jpg\") or name.endswith(\"jpeg\") or name.endswith(\"pgm\") :\n",
        "      root_folder = os.path.split(root) ##   \n",
        "      if name.endswith(\"jpg\") or name.endswith(\"jpeg\"): \n",
        "        nonfaces = nonfaces + 1\n",
        "        labels2.append(1)\n",
        "        image1 = cv2.imread(os.path.join(root,name), 0)\n",
        "      elif name.endswith(\"pgm\") :\n",
        "        image1 = imread(os.path.join(root,name))\n",
        "        labels2.append(2)  \n",
        "      image1.resize((92, 112))\n",
        "      image1=image1.flatten(order='C')\n",
        "      arr2.append(image1)\n",
        "      i=i+1\n",
        "      \n",
        "num_nonfaces.append( nonfaces)           \n",
        "arr2=np.array(arr2)\n",
        "arr = np.vstack((arr, arr2))\n",
        "labels2=np.array(labels2)\n",
        "labels = np.hstack((labels, labels2))\n",
        "print(labels.shape)       \n",
        "print(arr.shape)\n",
        "#print(labels)    \n"
      ],
      "metadata": {
        "id": "Jr-Ii53NGhz_",
        "outputId": "442134be-ca98-46b3-f5e9-8c437a090276",
        "colab": {
          "base_uri": "https://localhost:8080/"
        }
      },
      "execution_count": 45,
      "outputs": [
        {
          "output_type": "stream",
          "name": "stdout",
          "text": [
            "(1534,)\n",
            "(1534, 10304)\n"
          ]
        }
      ]
    },
    {
      "cell_type": "code",
      "source": [
        "X_train = []\n",
        "X_test =  []  \n",
        "labels_train = []\n",
        "labels_test =  []  \n",
        "for i in range(0,(400+nonfaces)):\n",
        "    if((i%2==0)):\n",
        "       X_test.append(arr[i,:])\n",
        "       labels_test.append(labels[i])\n",
        "    else:\n",
        "       X_train.append(arr[i,:])\n",
        "       labels_train.append(labels[i])\n",
        " \n",
        "print(X_test[0])\n",
        "print(labels_test[0])\n",
        "# DO NOT RUN THIS CELL IF YOU ALREADY HAVE THE PICKLE FILES\n",
        "W = LDA(arr, noOfDims=2)\n",
        "# DO NOT RUN THIS CELL IF YOU ALREADY HAVE THE PICKLE FILES\n",
        "Z=W[:1]\n",
        "Z=Z.T\n",
        "print(\"After LDA\")\n",
        "X_train_red, X_test_red = projectData(np.array(X_train), np.array(X_test), Z)\n",
        "yhat = KNN(X_train_red, X_test_red, labels_train, 1)\n",
        "accur_afterLDA.append(accuracy_score(labels_test, yhat))\n",
        "print((400+nonfaces),accuracy_score(labels_test, yhat))\n",
        "accff.append(accuracy_score(labels_test, yhat))\n",
        "#print(X_test_red)\n",
        "#print(\"Training Set Accuracy: {}\\nTesting  Set Accuracy: {}\".format(train_score, test_score))\n",
        "print(nonfaces)\n",
        "print(accur_afterLDA )\n",
        "print(num_nonfaces)"
      ],
      "metadata": {
        "id": "kpSTgmxwGiXU",
        "outputId": "2dd27652-cdf6-4a9d-9140-fdc535a23df3",
        "colab": {
          "base_uri": "https://localhost:8080/"
        }
      },
      "execution_count": 51,
      "outputs": [
        {
          "output_type": "stream",
          "name": "stdout",
          "text": [
            "[157 156 153 ... 141 141 133]\n",
            "1\n",
            "After LDA\n",
            "1534 0.771838331160365\n",
            "1134\n",
            "[0.8633333333333333, 0.8213333333333334, 0.8791469194312796, 0.821656050955414, 0.7661169415292354, 0.771838331160365, 0.771838331160365]\n",
            "[199, 349, 443, 542, 934, 1134]\n"
          ]
        }
      ]
    },
    {
      "cell_type": "code",
      "source": [
        "labels2 = []\n",
        "arr2 =[]\n",
        "\n",
        "for root,di,files in os.walk(\"/content/drive/MyDrive/Colab Notebooks/dataset3/6\"): \n",
        "  for name in files:\n",
        "    if name.endswith(\"jpg\") or name.endswith(\"jpeg\") or name.endswith(\"pgm\") :\n",
        "      root_folder = os.path.split(root) ##   \n",
        "      if name.endswith(\"jpg\") or name.endswith(\"jpeg\"): \n",
        "        nonfaces = nonfaces + 1\n",
        "        labels2.append(1)\n",
        "        image1 = cv2.imread(os.path.join(root,name), 0)\n",
        "      elif name.endswith(\"pgm\") :\n",
        "        image1 = imread(os.path.join(root,name))\n",
        "        labels2.append(2)  \n",
        "      image1.resize((92, 112))\n",
        "      image1=image1.flatten(order='C')\n",
        "      arr2.append(image1)\n",
        "      i=i+1\n",
        "      \n",
        "num_nonfaces.append( nonfaces)           \n",
        "arr2=np.array(arr2)\n",
        "arr = np.vstack((arr, arr2))\n",
        "labels2=np.array(labels2)\n",
        "labels = np.hstack((labels, labels2))\n",
        "print(labels.shape)       \n",
        "print(arr.shape)\n",
        "#print(labels)    \n"
      ],
      "metadata": {
        "id": "dRTbU9YzKViS",
        "outputId": "32437fd4-5b87-4999-d584-846d4129415a",
        "colab": {
          "base_uri": "https://localhost:8080/"
        }
      },
      "execution_count": 52,
      "outputs": [
        {
          "output_type": "stream",
          "name": "stdout",
          "text": [
            "(1732,)\n",
            "(1732, 10304)\n"
          ]
        }
      ]
    },
    {
      "cell_type": "code",
      "source": [
        "print(labels_test)\n",
        "print(labels.shape)"
      ],
      "metadata": {
        "id": "d7A92gwULFLL",
        "outputId": "794f1331-e8e3-4a11-b7c9-799f1e2f5feb",
        "colab": {
          "base_uri": "https://localhost:8080/"
        }
      },
      "execution_count": 50,
      "outputs": [
        {
          "output_type": "stream",
          "name": "stdout",
          "text": [
            "[1, 1, 1, 1, 1, 1, 1, 1, 1, 1, 1, 1, 1, 1, 1, 1, 1, 1, 1, 1, 1, 1, 1, 1, 1, 1, 1, 1, 1, 1, 1, 1, 1, 1, 1, 1, 1, 1, 1, 1, 1, 1, 1, 1, 1, 1, 1, 1, 1, 1, 1, 1, 1, 1, 1, 1, 1, 1, 1, 1, 1, 1, 1, 1, 1, 1, 1, 1, 1, 1, 1, 1, 1, 1, 1, 1, 1, 1, 1, 1, 1, 1, 1, 1, 1, 1, 1, 1, 1, 1, 1, 1, 1, 1, 1, 1, 1, 1, 1, 1, 2, 2, 2, 2, 2, 2, 2, 2, 2, 2, 2, 2, 2, 2, 2, 2, 2, 2, 2, 2, 2, 2, 2, 2, 2, 2, 2, 2, 2, 2, 2, 2, 2, 2, 2, 2, 2, 2, 2, 2, 2, 2, 2, 2, 2, 2, 2, 2, 2, 2, 2, 2, 2, 2, 2, 2, 2, 2, 2, 2, 2, 2, 2, 2, 2, 2, 2, 2, 2, 2, 2, 2, 2, 2, 2, 2, 2, 2, 2, 2, 2, 2, 2, 2, 2, 2, 2, 2, 2, 2, 2, 2, 2, 2, 2, 2, 2, 2, 2, 2, 2, 2, 2, 2, 2, 2, 2, 2, 2, 2, 2, 2, 2, 2, 2, 2, 2, 2, 2, 2, 2, 2, 2, 2, 2, 2, 2, 2, 2, 2, 2, 2, 2, 2, 2, 2, 2, 2, 2, 2, 2, 2, 2, 2, 2, 2, 2, 2, 2, 2, 2, 2, 2, 2, 2, 2, 2, 2, 2, 2, 2, 2, 2, 2, 2, 2, 2, 2, 2, 2, 2, 2, 2, 2, 2, 2, 2, 2, 2, 2, 2, 2, 2, 2, 2, 2, 2, 2, 2, 2, 2, 2, 2, 2, 2, 2, 2, 2, 2, 2, 1, 1, 1, 1, 1, 1, 1, 1, 1, 1, 1, 1, 1, 1, 1, 1, 1, 1, 1, 1, 1, 1, 1, 1, 1, 1, 1, 1, 1, 1, 1, 1, 1, 1, 1, 1, 1, 1, 1, 1, 1, 1, 1, 1, 1, 1, 1, 1, 1, 1, 1, 1, 1, 1, 1, 1, 1, 1, 1, 1, 1, 1, 1, 1, 1, 1, 1, 1, 1, 1, 1, 1, 1, 1, 1, 1, 1, 1, 1, 1, 1, 1, 1, 1, 1, 1, 1, 1, 1, 1, 1, 1, 1, 1, 1, 1, 1, 1, 1, 1, 1, 1, 1, 1, 1, 1, 1, 1, 1, 1, 1, 1, 1, 1, 1, 1, 1, 1, 1, 1, 1, 1, 1, 1, 1, 1, 1, 1, 1, 1, 1, 1, 1, 1, 1, 1, 1, 1, 1, 1, 1, 1, 1, 1, 1, 1, 1, 1, 1, 1, 1, 1, 1, 1, 1, 1, 1, 1, 1, 1, 1, 1, 1, 1, 1, 1, 1, 1, 1, 1, 1, 1, 1, 1, 1, 1, 1, 1, 1, 1, 1, 1, 1, 1, 1, 1, 1, 1, 1, 1, 1, 1, 1, 1, 1, 1, 1, 1, 1, 1, 1, 1, 1, 1, 1, 1, 1, 1, 1, 1, 1, 1, 1, 1, 1, 1, 1, 1, 1, 1, 1, 1, 1, 1, 1, 1, 1, 1, 1, 1, 1, 1, 1, 1, 1, 1, 1, 1, 1, 1, 1, 1, 1, 1, 1, 1, 1, 1, 1, 1, 1, 1, 1, 1, 1, 1, 1, 1, 1, 1, 1, 1, 1, 1, 1, 1, 1, 1, 1, 1, 1, 1, 1, 1, 1, 1, 1, 1, 1, 1, 1, 1, 1, 1, 1, 1, 1, 1, 1, 1, 1, 1, 1, 1, 1, 1, 1, 1, 1, 1, 1, 1, 1, 1, 1, 1, 1, 1, 1, 1, 1, 1, 1, 1, 1, 1, 1, 1, 1, 1, 1, 1, 1, 1, 1, 1, 1, 1, 1, 1, 1, 1, 1, 1, 1, 1, 1, 1, 1, 1, 1, 1, 1, 1, 1, 1, 1, 1, 1, 1, 1, 1, 1, 1, 1, 1, 1, 1, 1, 1, 1, 1, 1, 1, 1, 1, 1, 1, 1, 1, 1, 1, 1, 1, 1, 1, 1, 1, 1, 1, 1, 1, 1, 1, 1, 1, 1, 1, 1, 1, 1, 1, 1, 1, 1, 1, 1, 1, 1, 1, 1, 1, 1, 1, 1, 1, 1, 1, 1, 1, 1, 1, 1, 1, 1, 1, 1, 1, 1, 1, 1, 1, 1, 1, 1, 1, 1, 1, 1, 1, 1, 1, 1, 1, 1, 1, 1, 1, 1, 1, 1, 1, 1, 1, 1, 1, 1, 1, 1, 1, 1, 1, 1, 1, 1, 1, 1, 1, 1, 1, 1, 1, 1, 1, 1, 1, 1]\n",
            "(1534,)\n"
          ]
        }
      ]
    },
    {
      "cell_type": "code",
      "source": [
        "X_train = []\n",
        "X_test =  []  \n",
        "labels_train = []\n",
        "labels_test =  []  \n",
        "for i in range(0,(400+nonfaces)):\n",
        "    if((i%2==0)):\n",
        "       X_test.append(arr[i,:])\n",
        "       labels_test.append(labels[i])\n",
        "    else:\n",
        "       X_train.append(arr[i,:])\n",
        "       labels_train.append(labels[i])\n",
        " \n",
        "print(X_test[0])\n",
        "print(labels_test[0])\n",
        "# DO NOT RUN THIS CELL IF YOU ALREADY HAVE THE PICKLE FILES\n",
        "W = LDA(arr, noOfDims=2)\n",
        "# DO NOT RUN THIS CELL IF YOU ALREADY HAVE THE PICKLE FILES\n",
        "Z=W[:1]\n",
        "Z=Z.T\n",
        "print(\"After LDA\")\n",
        "X_train_red, X_test_red = projectData(np.array(X_train), np.array(X_test), Z)\n",
        "yhat = KNN(X_train_red, X_test_red, labels_train, 1)\n",
        "accur_afterLDA.append(accuracy_score(labels_test, yhat))\n",
        "print((400+nonfaces),accuracy_score(labels_test, yhat))\n",
        "accff.append(accuracy_score(labels_test, yhat))\n",
        "#print(X_test_red)\n",
        "#print(\"Training Set Accuracy: {}\\nTesting  Set Accuracy: {}\".format(train_score, test_score))\n",
        "print(nonfaces)\n",
        "print(accur_afterLDA )\n",
        "print(num_nonfaces)"
      ],
      "metadata": {
        "id": "yBvokU7VKVnI",
        "outputId": "3fb22b54-d94d-4d17-cd5e-bd6e04c171dc",
        "colab": {
          "base_uri": "https://localhost:8080/"
        }
      },
      "execution_count": 53,
      "outputs": [
        {
          "output_type": "stream",
          "name": "stdout",
          "text": [
            "[157 156 153 ... 141 141 133]\n",
            "1\n",
            "After LDA\n",
            "1732 0.7817551963048499\n",
            "1332\n",
            "[0.8633333333333333, 0.8213333333333334, 0.8791469194312796, 0.821656050955414, 0.7661169415292354, 0.771838331160365, 0.771838331160365, 0.7817551963048499]\n",
            "[199, 349, 443, 542, 934, 1134, 1332]\n"
          ]
        }
      ]
    },
    {
      "cell_type": "code",
      "source": [
        "accur_afterLDA=np.array(accur_afterLDA)"
      ],
      "metadata": {
        "id": "x_Uq1UnbPiFd"
      },
      "execution_count": 55,
      "outputs": []
    },
    {
      "cell_type": "code",
      "source": [
        "print(accur_afterLDA )\n",
        "print(num_nonfaces)"
      ],
      "metadata": {
        "id": "3Gnte9nFPx2J",
        "outputId": "9ba62b3a-f806-4656-ae4d-d9e35cc5fa3f",
        "colab": {
          "base_uri": "https://localhost:8080/"
        }
      },
      "execution_count": 60,
      "outputs": [
        {
          "output_type": "stream",
          "name": "stdout",
          "text": [
            "[0.86333333 0.82133333 0.87914692 0.82165605 0.76611694 0.77183833\n",
            " 0.7817552 ]\n",
            "[199, 349, 443, 542, 934, 1134, 1332]\n"
          ]
        }
      ]
    },
    {
      "cell_type": "code",
      "source": [
        "plt.plot(num_nonfaces , accur_afterLDA)\n",
        "plt.xlabel('Number of non faces')\n",
        "plt.ylabel('Accuracy')\n",
        "plt.show()"
      ],
      "metadata": {
        "id": "hPOgARfE91PY",
        "colab": {
          "base_uri": "https://localhost:8080/",
          "height": 279
        },
        "outputId": "6e1aa798-f8e8-4816-e23c-490504d2ac07"
      },
      "execution_count": 59,
      "outputs": [
        {
          "output_type": "display_data",
          "data": {
            "text/plain": [
              "<Figure size 432x288 with 1 Axes>"
            ],
            "image/png": "[encoded data removed]"
          },
          "metadata": {
            "needs_background": "light"
          }
        }
      ]
    },
    {
      "cell_type": "code",
      "source": [
        "####################################################################################################################"
      ],
      "metadata": {
        "id": "NZqmRThp91Vo"
      },
      "execution_count": null,
      "outputs": []
    },
    {
      "cell_type": "code",
      "source": [
        "# DO NOT RUN THIS CELL IF YOU ALREADY HAVE THE PICKLE FILES\n",
        "W = LDA(arr, noOfDims=2)\n",
        "# DO NOT RUN THIS CELL IF YOU ALREADY HAVE THE PICKLE FILES"
      ],
      "metadata": {
        "colab": {
          "base_uri": "https://localhost:8080/"
        },
        "id": "oqHjk0lRLRcp",
        "outputId": "00b0206f-0f72-4690-b175-d13c5bb5b771"
      },
      "execution_count": null,
      "outputs": [
        {
          "output_type": "stream",
          "name": "stdout",
          "text": [
            "[[124.58465011]\n",
            " [123.83069977]\n",
            " [122.79458239]\n",
            " ...\n",
            " [103.5282167 ]\n",
            " [102.64559819]\n",
            " [102.23024831]]\n"
          ]
        }
      ]
    },
    {
      "cell_type": "code",
      "source": [
        "#### 7.iii\n",
        "from sklearn.neighbors import KNeighborsClassifier\n",
        "from sklearn.metrics import accuracy_score\n",
        "acc=[]\n",
        "s=[]\n",
        "f=[]\n",
        "knn = KNeighborsClassifier(n_neighbors=1)\n",
        "knn.fit(X_train, labels_train)\n",
        "#before reduction\n",
        "#pred = knn.predict(X_test)\n",
        "#print('labels test',labels_test)\n",
        "#print(pred)\n",
        "knn.score(X_test, labels_test)\n",
        "\n",
        "\n",
        "knn = KNeighborsClassifier(n_neighbors=1)\n",
        "knn.fit(X_train_red, labels_train)\n",
        "print(knn.score(X_test_red, labels_test))\n",
        "pred = knn.predict(X_test_red)\n",
        "print(accuracy_score(pred,labels_test))\n",
        "acc.append(accuracy_score(pred,labels_test))\n",
        "\n",
        "pred = knn.predict(X_test_red)\n",
        "#print(X_test_red,labels_test)\n",
        "#print('labels test',labels_test)\n",
        "#print(pred)\n",
        "for i in range(len(pred)):\n",
        "    if(labels_test[i] != pred[i]):\n",
        "       f.append([X_test_red[i],labels_test[i]])\n",
        "    else:\n",
        "       s.append([X_test_red[i],labels_test[i]])\n",
        "print(f[0])       "
      ],
      "metadata": {
        "colab": {
          "base_uri": "https://localhost:8080/"
        },
        "id": "8tlSi9_1-bey",
        "outputId": "9be93bd1-091c-47a1-ad5a-6592bece0516"
      },
      "execution_count": null,
      "outputs": [
        {
          "output_type": "stream",
          "name": "stdout",
          "text": [
            "0.7867298578199052\n",
            "0.7867298578199052\n",
            "[array([ 8.95092952, 61.22145525]), 1]\n"
          ]
        }
      ]
    },
    {
      "cell_type": "code",
      "source": [
        "def KMC(X, k, epsilon=0.01, maxIter=100):\n",
        "  # initializing the error to be max at first\n",
        "  err = float('inf')\n",
        "  # randomly initializing the centroids\n",
        "  centroid = [X[np.random.randint(0, len(X)-1)] for i in range(k)]\n",
        "  while maxIter > 0 and err >= epsilon:\n",
        "    maxIter -= 1\n",
        "    cluster = [[] for i in range(k)]\n",
        "    # copying the old centroids\n",
        "    oldCentroid = copy.deepcopy(centroid)\n",
        "    # assigning each data point to closest cluster\n",
        "    for x in X:\n",
        "      minn, j = float('inf'), 0\n",
        "      for i in range(len(centroid)):\n",
        "        dist = np.linalg.norm(x-centroid[i]) ** 2\n",
        "        if dist < minn: minn, j = dist, i\n",
        "      cluster[j].append(x)\n",
        "    # updating the centroids\n",
        "    for i in range(len(cluster)):\n",
        "      if len(cluster[i]) != 0: centroid[i] = sum(cluster[i]) / len(cluster[i])\n",
        "    # if centroids didn't change, then terminate\n",
        "    err = 0\n",
        "    for i in range(len(centroid)):\n",
        "      err += np.linalg.norm(centroid[i] - oldCentroid[i]) ** 2\n",
        "  return cluster"
      ],
      "metadata": {
        "id": "NKpImacpJa4R"
      },
      "execution_count": null,
      "outputs": []
    },
    {
      "cell_type": "code",
      "source": [
        "reg = ks().fit(X_train, labels_train)\n",
        "train_score = reg.score(X_train, labels_train)\n",
        "test_score = reg.score(X_test, labels_test)\n",
        "print(\"Before LDA\")\n",
        "print(\"Training Set Accuracy: {}\\nTesting  Set Accuracy: {}\\n\\n\\n\".format(train_score, test_score))\n",
        "\n",
        "print(\"After LDA\")\n",
        "X_train_red, X_test_red = projectData(np.array(X_train), np.array(X_test), W)\n",
        "reg = ks().fit(X_train_red, labels_train)\n",
        "train_score = reg.score(X_train_red, labels_train)\n",
        "test_score = reg.score(X_test_red, labels_test)\n",
        "print('200',accuracy_score(pred,labels_test))\n",
        "\n",
        "#print(X_test_red)\n",
        "print(\"Training Set Accuracy: {}\\nTesting  Set Accuracy: {}\".format(train_score, test_score))"
      ],
      "metadata": {
        "id": "1GfJUgjVN2mM"
      },
      "execution_count": null,
      "outputs": []
    }
  ]
}